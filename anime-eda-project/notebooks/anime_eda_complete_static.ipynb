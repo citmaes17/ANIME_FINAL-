{
 "cells": [
  {
   "cell_type": "markdown",
   "id": "146f9588",
   "metadata": {},
   "source": [
    "# 🎬 Análisis Exploratorio de Datos (EDA): Anime Dataset\n",
    "\n",
    "## 📊 Objetivo del Análisis\n",
    "\n",
    "Este notebook explora cómo el **tipo de formato** (TV, Movie, OVA, ONA) y la **categoría de género** interactúan para influir en el **score** (calificación de usuarios) de anime en MyAnimeList.\n",
    "\n",
    "### 🎯 Preguntas de Investigación\n",
    "\n",
    "1. **¿El formato (type) afecta el score de manera independiente?**\n",
    "2. **¿Las categorías de género influyen en las calificaciones?**\n",
    "3. **¿Existen interacciones entre type y categoría?** (¿Ciertas combinaciones funcionan mejor?)\n",
    "4. **¿Qué patrones caracterizan a los anime excepcionales (outliers)?**\n",
    "\n",
    "### 📋 Metodología\n",
    "\n",
    "```\n",
    "1. Carga de datos → 15,000 anime de MyAnimeList\n",
    "2. Limpieza → Manejo de nulos y duplicados\n",
    "3. Categorización → Reducir géneros a 6 categorías temáticas\n",
    "4. Análisis Univariado → Distribución de scores\n",
    "5. Análisis Bivariado → Type vs Score, Categoría vs Score\n",
    "6. Análisis Multivariado → Interacciones Type × Categoría\n",
    "7. Análisis de Outliers → Identificación de masterpieces\n",
    "```\n",
    "\n",
    "---"
   ]
  },
  {
   "cell_type": "markdown",
   "id": "notebook_completo_note",
   "metadata": {},
   "source": [
    "---\n",
    "\n",
    "# 📊 Notebook Completo: Código + Gráficas Estáticas\n",
    "\n",
    "## ✅ Visualización Perfecta en GitHub\n",
    "\n",
    "Este notebook está **optimizado para GitHub** e incluye:\n",
    "\n",
    "### 📝 Código Completo\n",
    "- Todo el análisis exploratorio de datos (EDA)\n",
    "- Procesamiento y limpieza de datos\n",
    "- Análisis estadístico univariado, bivariado y multivariado\n",
    "- Identificación de outliers y masterpieces\n",
    "\n",
    "### 📊 12 Visualizaciones (Todas como PNG)\n",
    "\n",
    "1. **Distribución de Scores** - Histograma con curva normal\n",
    "2. **Distribución por Tipo** - Gráfico de barras\n",
    "3. **Distribución por Tipo** - Gráfico de torta\n",
    "4. **Distribución por Categoría** - Gráfico de barras\n",
    "5. **Distribución por Categoría** - Gráfico de torta\n",
    "6. **Categorías por Anime** - Boxplot\n",
    "7. **Score por Tipo** - Gráfico de barras\n",
    "8. **Score por Tipo** - Boxplot\n",
    "9. **Heatmap Type × Categoría** - Análisis bivariado\n",
    "10. **Heatmap de Outliers** - Distribución de masterpieces ⭐\n",
    "11. **Barras Agrupadas** - Score por categoría y tipo\n",
    "12. **Boxplot Multivariable** - TODAS las categorías y tipos ⭐\n",
    "\n",
    "### ⭐ Gráficas Destacadas\n",
    "\n",
    "- **#10: Heatmap de Outliers** - Muestra qué combinaciones Type × Categoría producen más masterpieces (score ≥ 8.95)\n",
    "- **#12: Boxplot Multivariable** - Visualiza TODAS las interacciones entre tipos y categorías de género simultáneamente\n",
    "\n",
    "### ✨ Características\n",
    "\n",
    "| Característica | Estado |\n",
    "|----------------|--------|\n",
    "| Código visible | ✅ |\n",
    "| Gráficas visibles en GitHub | ✅ |\n",
    "| Ejecutable localmente | ✅ |\n",
    "| Requiere configuración | ❌ |\n",
    "| Gráficas interactivas | ❌ (PNG estático) |\n",
    "\n",
    "### 📌 Nota\n",
    "\n",
    "Para gráficas **interactivas** de Plotly, ejecuta el notebook original `anime_eda_analysis.ipynb` localmente o usa [NBViewer](https://nbviewer.org/).\n",
    "\n",
    "---"
   ]
  },
  {
   "cell_type": "markdown",
   "id": "0cf63642",
   "metadata": {},
   "source": [
    "## 🔧 1. Configuración del Entorno\n",
    "\n",
    "### Importación de Librerías\n",
    "\n",
    "Se importan las bibliotecas necesarias para el análisis:\n",
    "\n",
    "| Librería | Propósito |\n",
    "|----------|----------|\n",
    "| **Pandas** | Manipulación y análisis de DataFrames |\n",
    "| **Plotly** | Visualizaciones interactivas |\n",
    "| **NumPy** | Operaciones numéricas vectorizadas |\n",
    "| **SciPy** | Funciones estadísticas (skewness, kurtosis) |\n",
    "| **Counter** | Conteo de frecuencias para análisis categórico |\n",
    "\n",
    "---"
   ]
  },
  {
   "cell_type": "code",
   "execution_count": null,
   "id": "5ed9b81b",
   "metadata": {},
   "outputs": [],
   "source": [
    "# Importar librerías necesarias\n",
    "import pandas as pd  # Manejo de dataframes\n",
    "import plotly.express as px  # Visualizaciones interactivas\n",
    "import plotly.graph_objects as go  # Gráficos personalizados\n",
    "import numpy as np  # Operaciones numéricas\n",
    "from scipy import stats  # Estadísticas avanzadas\n",
    "from collections import Counter  # Conteo de frecuencias\n",
    "import os  # Gestión de carpetas y archivos"
   ]
  },
  {
   "cell_type": "markdown",
   "id": "fcfde26c",
   "metadata": {},
   "source": [
    "## 📥 2. Carga de Datos\n",
    "\n",
    "### Descripción del Dataset\n",
    "\n",
    "**Fuente:** MyAnimeList (MAL) - Plataforma comunitaria de ratings  \n",
    "**Tamaño:** Top 15,000 anime por cantidad de miembros  \n",
    "**Features:** 24 columnas\n",
    "\n",
    "### Variables Clave\n",
    "\n",
    "| Variable | Tipo | Descripción |\n",
    "|----------|------|-------------|\n",
    "| `anime_id` | int | Identificador único |\n",
    "| `name` | str | Título del anime |\n",
    "| `score` | float | **Variable objetivo** (1-10) |\n",
    "| `type` | str | Formato (TV, Movie, OVA, ONA) |\n",
    "| `genres` | str | Géneros separados por comas |\n",
    "| `members` | int | Tamaño de la audiencia |\n",
    "| `scored_by` | int | Cantidad de calificaciones |\n",
    "\n",
    "---"
   ]
  },
  {
   "cell_type": "code",
   "execution_count": 2,
   "id": "bdd1eaac",
   "metadata": {},
   "outputs": [
    {
     "name": "stdout",
     "output_type": "stream",
     "text": [
      "Total de registros cargados: 15000\n",
      "Total de columnas: 24\n",
      "\n"
     ]
    },
    {
     "data": {
      "text/html": [
       "<div>\n",
       "<style scoped>\n",
       "    .dataframe tbody tr th:only-of-type {\n",
       "        vertical-align: middle;\n",
       "    }\n",
       "\n",
       "    .dataframe tbody tr th {\n",
       "        vertical-align: top;\n",
       "    }\n",
       "\n",
       "    .dataframe thead th {\n",
       "        text-align: right;\n",
       "    }\n",
       "</style>\n",
       "<table border=\"1\" class=\"dataframe\">\n",
       "  <thead>\n",
       "    <tr style=\"text-align: right;\">\n",
       "      <th></th>\n",
       "      <th>anime_id</th>\n",
       "      <th>anime_url</th>\n",
       "      <th>image_url</th>\n",
       "      <th>name</th>\n",
       "      <th>english_name</th>\n",
       "      <th>japanese_names</th>\n",
       "      <th>score</th>\n",
       "      <th>genres</th>\n",
       "      <th>themes</th>\n",
       "      <th>demographics</th>\n",
       "      <th>...</th>\n",
       "      <th>producers</th>\n",
       "      <th>studios</th>\n",
       "      <th>source</th>\n",
       "      <th>duration</th>\n",
       "      <th>rating</th>\n",
       "      <th>rank</th>\n",
       "      <th>popularity</th>\n",
       "      <th>favorites</th>\n",
       "      <th>scored_by</th>\n",
       "      <th>members</th>\n",
       "    </tr>\n",
       "  </thead>\n",
       "  <tbody>\n",
       "    <tr>\n",
       "      <th>0</th>\n",
       "      <td>52991</td>\n",
       "      <td>https://myanimelist.net/anime/52991/Sousou_no_...</td>\n",
       "      <td>https://cdn.myanimelist.net/images/anime/1015/...</td>\n",
       "      <td>Sousou no Frieren</td>\n",
       "      <td>Frieren: Beyond Journey's End</td>\n",
       "      <td>葬送のフリーレン</td>\n",
       "      <td>9.29</td>\n",
       "      <td>Adventure, Drama, Fantasy</td>\n",
       "      <td>NaN</td>\n",
       "      <td>Shounen</td>\n",
       "      <td>...</td>\n",
       "      <td>Aniplex, Dentsu, Shogakukan-Shueisha Productio...</td>\n",
       "      <td>Madhouse</td>\n",
       "      <td>Manga</td>\n",
       "      <td>24 min per ep</td>\n",
       "      <td>PG-13 - Teens 13 or older</td>\n",
       "      <td>1.0</td>\n",
       "      <td>128</td>\n",
       "      <td>76513</td>\n",
       "      <td>734207.0</td>\n",
       "      <td>1225468</td>\n",
       "    </tr>\n",
       "    <tr>\n",
       "      <th>1</th>\n",
       "      <td>5114</td>\n",
       "      <td>https://myanimelist.net/anime/5114/Fullmetal_A...</td>\n",
       "      <td>https://cdn.myanimelist.net/images/anime/1208/...</td>\n",
       "      <td>Fullmetal Alchemist: Brotherhood</td>\n",
       "      <td>Fullmetal Alchemist: Brotherhood</td>\n",
       "      <td>鋼の錬金術師 FULLMETAL ALCHEMIST</td>\n",
       "      <td>9.10</td>\n",
       "      <td>Action, Adventure, Drama, Fantasy</td>\n",
       "      <td>Military</td>\n",
       "      <td>Shounen</td>\n",
       "      <td>...</td>\n",
       "      <td>Aniplex, Square Enix, Mainichi Broadcasting Sy...</td>\n",
       "      <td>Bones</td>\n",
       "      <td>Manga</td>\n",
       "      <td>24 min per ep</td>\n",
       "      <td>R - 17+ (violence &amp; profanity)</td>\n",
       "      <td>2.0</td>\n",
       "      <td>3</td>\n",
       "      <td>236798</td>\n",
       "      <td>2249670.0</td>\n",
       "      <td>3577489</td>\n",
       "    </tr>\n",
       "    <tr>\n",
       "      <th>2</th>\n",
       "      <td>9253</td>\n",
       "      <td>https://myanimelist.net/anime/9253/Steins_Gate</td>\n",
       "      <td>https://cdn.myanimelist.net/images/anime/1935/...</td>\n",
       "      <td>Steins;Gate</td>\n",
       "      <td>Steins;Gate</td>\n",
       "      <td>STEINS;GATE</td>\n",
       "      <td>9.07</td>\n",
       "      <td>Drama, Sci-Fi, Suspense</td>\n",
       "      <td>Psychological, Time Travel</td>\n",
       "      <td>NaN</td>\n",
       "      <td>...</td>\n",
       "      <td>Frontier Works, Media Factory, Kadokawa Shoten...</td>\n",
       "      <td>White Fox</td>\n",
       "      <td>Visual novel</td>\n",
       "      <td>24 min per ep</td>\n",
       "      <td>PG-13 - Teens 13 or older</td>\n",
       "      <td>3.0</td>\n",
       "      <td>14</td>\n",
       "      <td>198296</td>\n",
       "      <td>1483605.0</td>\n",
       "      <td>2737980</td>\n",
       "    </tr>\n",
       "    <tr>\n",
       "      <th>3</th>\n",
       "      <td>38524</td>\n",
       "      <td>https://myanimelist.net/anime/38524/Shingeki_n...</td>\n",
       "      <td>https://cdn.myanimelist.net/images/anime/1517/...</td>\n",
       "      <td>Shingeki no Kyojin Season 3 Part 2</td>\n",
       "      <td>Attack on Titan Season 3 Part 2</td>\n",
       "      <td>進撃の巨人 Season3 Part.2</td>\n",
       "      <td>9.05</td>\n",
       "      <td>Action, Drama, Suspense</td>\n",
       "      <td>Gore, Military, Survival</td>\n",
       "      <td>Shounen</td>\n",
       "      <td>...</td>\n",
       "      <td>Production I.G, Dentsu, Mainichi Broadcasting ...</td>\n",
       "      <td>Wit Studio</td>\n",
       "      <td>Manga</td>\n",
       "      <td>23 min per ep</td>\n",
       "      <td>R - 17+ (violence &amp; profanity)</td>\n",
       "      <td>4.0</td>\n",
       "      <td>21</td>\n",
       "      <td>61832</td>\n",
       "      <td>1729484.0</td>\n",
       "      <td>2497671</td>\n",
       "    </tr>\n",
       "    <tr>\n",
       "      <th>4</th>\n",
       "      <td>28977</td>\n",
       "      <td>https://myanimelist.net/anime/28977/Gintama°</td>\n",
       "      <td>https://cdn.myanimelist.net/images/anime/3/720...</td>\n",
       "      <td>Gintama°</td>\n",
       "      <td>Gintama Season 4</td>\n",
       "      <td>銀魂°</td>\n",
       "      <td>9.05</td>\n",
       "      <td>Action, Comedy, Sci-Fi</td>\n",
       "      <td>Gag Humor, Historical, Parody, Samurai</td>\n",
       "      <td>Shounen</td>\n",
       "      <td>...</td>\n",
       "      <td>TV Tokyo, Aniplex, Dentsu</td>\n",
       "      <td>Bandai Namco Pictures</td>\n",
       "      <td>Manga</td>\n",
       "      <td>24 min per ep</td>\n",
       "      <td>PG-13 - Teens 13 or older</td>\n",
       "      <td>6.0</td>\n",
       "      <td>344</td>\n",
       "      <td>17315</td>\n",
       "      <td>266825.0</td>\n",
       "      <td>676352</td>\n",
       "    </tr>\n",
       "  </tbody>\n",
       "</table>\n",
       "<p>5 rows × 24 columns</p>\n",
       "</div>"
      ],
      "text/plain": [
       "   anime_id                                          anime_url  \\\n",
       "0     52991  https://myanimelist.net/anime/52991/Sousou_no_...   \n",
       "1      5114  https://myanimelist.net/anime/5114/Fullmetal_A...   \n",
       "2      9253     https://myanimelist.net/anime/9253/Steins_Gate   \n",
       "3     38524  https://myanimelist.net/anime/38524/Shingeki_n...   \n",
       "4     28977       https://myanimelist.net/anime/28977/Gintama°   \n",
       "\n",
       "                                           image_url  \\\n",
       "0  https://cdn.myanimelist.net/images/anime/1015/...   \n",
       "1  https://cdn.myanimelist.net/images/anime/1208/...   \n",
       "2  https://cdn.myanimelist.net/images/anime/1935/...   \n",
       "3  https://cdn.myanimelist.net/images/anime/1517/...   \n",
       "4  https://cdn.myanimelist.net/images/anime/3/720...   \n",
       "\n",
       "                                 name                      english_name  \\\n",
       "0                   Sousou no Frieren     Frieren: Beyond Journey's End   \n",
       "1    Fullmetal Alchemist: Brotherhood  Fullmetal Alchemist: Brotherhood   \n",
       "2                         Steins;Gate                       Steins;Gate   \n",
       "3  Shingeki no Kyojin Season 3 Part 2   Attack on Titan Season 3 Part 2   \n",
       "4                            Gintama°                  Gintama Season 4   \n",
       "\n",
       "               japanese_names  score                             genres  \\\n",
       "0                    葬送のフリーレン   9.29          Adventure, Drama, Fantasy   \n",
       "1  鋼の錬金術師 FULLMETAL ALCHEMIST   9.10  Action, Adventure, Drama, Fantasy   \n",
       "2                 STEINS;GATE   9.07            Drama, Sci-Fi, Suspense   \n",
       "3        進撃の巨人 Season3 Part.2   9.05            Action, Drama, Suspense   \n",
       "4                         銀魂°   9.05             Action, Comedy, Sci-Fi   \n",
       "\n",
       "                                   themes demographics  ...  \\\n",
       "0                                     NaN      Shounen  ...   \n",
       "1                                Military      Shounen  ...   \n",
       "2              Psychological, Time Travel          NaN  ...   \n",
       "3                Gore, Military, Survival      Shounen  ...   \n",
       "4  Gag Humor, Historical, Parody, Samurai      Shounen  ...   \n",
       "\n",
       "                                           producers                studios  \\\n",
       "0  Aniplex, Dentsu, Shogakukan-Shueisha Productio...               Madhouse   \n",
       "1  Aniplex, Square Enix, Mainichi Broadcasting Sy...                  Bones   \n",
       "2  Frontier Works, Media Factory, Kadokawa Shoten...              White Fox   \n",
       "3  Production I.G, Dentsu, Mainichi Broadcasting ...             Wit Studio   \n",
       "4                          TV Tokyo, Aniplex, Dentsu  Bandai Namco Pictures   \n",
       "\n",
       "         source       duration                          rating rank  \\\n",
       "0         Manga  24 min per ep       PG-13 - Teens 13 or older  1.0   \n",
       "1         Manga  24 min per ep  R - 17+ (violence & profanity)  2.0   \n",
       "2  Visual novel  24 min per ep       PG-13 - Teens 13 or older  3.0   \n",
       "3         Manga  23 min per ep  R - 17+ (violence & profanity)  4.0   \n",
       "4         Manga  24 min per ep       PG-13 - Teens 13 or older  6.0   \n",
       "\n",
       "  popularity favorites  scored_by  members  \n",
       "0        128     76513   734207.0  1225468  \n",
       "1          3    236798  2249670.0  3577489  \n",
       "2         14    198296  1483605.0  2737980  \n",
       "3         21     61832  1729484.0  2497671  \n",
       "4        344     17315   266825.0   676352  \n",
       "\n",
       "[5 rows x 24 columns]"
      ]
     },
     "execution_count": 2,
     "metadata": {},
     "output_type": "execute_result"
    }
   ],
   "source": [
    "df = pd.read_csv('top_15000_anime.csv')\n",
    "print(f\"Total de registros cargados: {len(df)}\")\n",
    "print(f\"Total de columnas: {len(df.columns)}\")\n",
    "print()\n",
    "df.head()"
   ]
  },
  {
   "cell_type": "markdown",
   "id": "fff6581e",
   "metadata": {},
   "source": [
    "## 🧹 3. Limpieza y Visualización de Datos\n",
    "\n",
    "### Proceso de Limpieza\n",
    "\n",
    "El proceso de limpieza sigue estos pasos:\n",
    "\n",
    "1. **Inspección inicial:** Identificar tipos de datos y valores nulos\n",
    "2. **Análisis de nulos:** Calcular porcentaje de nulos por columna\n",
    "3. **Eliminación selectiva:** Remover columnas con >20% de nulos\n",
    "4. **Eliminación de duplicados:** Verificar unicidad de `anime_id`\n",
    "5. **Imputación:** Rellenar nulos restantes según tipo de dato\n",
    "6. **Validación final:** Confirmar que no quedan nulos\n",
    "\n",
    "### Criterio de Eliminación\n",
    "\n",
    "**Umbral: 20% de valores nulos**\n",
    "- **Razón:** Columnas con >20% de nulos no pueden imputarse confiablemente sin introducir sesgo significativo\n",
    "- **Alternativa:** Columnas con <20% se imputan según el tipo de dato\n",
    "\n",
    "---"
   ]
  },
  {
   "cell_type": "markdown",
   "id": "a6a3f36e",
   "metadata": {},
   "source": [
    "### 3.1 Inspección Inicial del Dataset\n",
    "\n",
    "**Objetivo:** Entender la estructura y calidad de los datos antes de la limpieza.\n",
    "\n",
    "**Información a visualizar:**\n",
    "- Dimensiones del dataset (filas × columnas)\n",
    "- Tipos de datos de cada columna\n",
    "- Primeras filas para inspección visual\n",
    "- Resumen de valores nulos por columna\n",
    "- Estadísticas descriptivas de variables numéricas\n",
    "\n",
    "---"
   ]
  },
  {
   "cell_type": "code",
   "execution_count": 3,
   "id": "de0e82e9",
   "metadata": {},
   "outputs": [
    {
     "name": "stdout",
     "output_type": "stream",
     "text": [
      "<class 'pandas.core.frame.DataFrame'>\n",
      "RangeIndex: 15000 entries, 0 to 14999\n",
      "Data columns (total 24 columns):\n",
      " #   Column          Non-Null Count  Dtype  \n",
      "---  ------          --------------  -----  \n",
      " 0   anime_id        15000 non-null  int64  \n",
      " 1   anime_url       15000 non-null  object \n",
      " 2   image_url       15000 non-null  object \n",
      " 3   name            15000 non-null  object \n",
      " 4   english_name    8748 non-null   object \n",
      " 5   japanese_names  14966 non-null  object \n",
      " 6   score           15000 non-null  float64\n",
      " 7   genres          14382 non-null  object \n",
      " 8   themes          9166 non-null   object \n",
      " 9   demographics    4619 non-null   object \n",
      " 10  synopsis        14486 non-null  object \n",
      " 11  type            15000 non-null  object \n",
      " 12  episodes        14889 non-null  float64\n",
      " 13  premiered       5012 non-null   object \n",
      " 14  producers       9930 non-null   object \n",
      " 15  studios         13246 non-null  object \n",
      " 16  source          15000 non-null  object \n",
      " 17  duration        15000 non-null  object \n",
      " 18  rating          14921 non-null  object \n",
      " 19  rank            13479 non-null  float64\n",
      " 20  popularity      15000 non-null  int64  \n",
      " 21  favorites       15000 non-null  int64  \n",
      " 22  scored_by       15000 non-null  float64\n",
      " 23  members         15000 non-null  int64  \n",
      "dtypes: float64(4), int64(4), object(16)\n",
      "memory usage: 2.7+ MB\n"
     ]
    }
   ],
   "source": [
    "df.info()"
   ]
  },
  {
   "cell_type": "code",
   "execution_count": 4,
   "id": "1160fe57",
   "metadata": {},
   "outputs": [
    {
     "data": {
      "text/html": [
       "<div>\n",
       "<style scoped>\n",
       "    .dataframe tbody tr th:only-of-type {\n",
       "        vertical-align: middle;\n",
       "    }\n",
       "\n",
       "    .dataframe tbody tr th {\n",
       "        vertical-align: top;\n",
       "    }\n",
       "\n",
       "    .dataframe thead th {\n",
       "        text-align: right;\n",
       "    }\n",
       "</style>\n",
       "<table border=\"1\" class=\"dataframe\">\n",
       "  <thead>\n",
       "    <tr style=\"text-align: right;\">\n",
       "      <th></th>\n",
       "      <th>anime_id</th>\n",
       "      <th>score</th>\n",
       "      <th>episodes</th>\n",
       "      <th>rank</th>\n",
       "      <th>popularity</th>\n",
       "      <th>favorites</th>\n",
       "      <th>scored_by</th>\n",
       "      <th>members</th>\n",
       "    </tr>\n",
       "  </thead>\n",
       "  <tbody>\n",
       "    <tr>\n",
       "      <th>count</th>\n",
       "      <td>15000.000000</td>\n",
       "      <td>15000.000000</td>\n",
       "      <td>14889.000000</td>\n",
       "      <td>13479.000000</td>\n",
       "      <td>15000.000000</td>\n",
       "      <td>15000.000000</td>\n",
       "      <td>1.500000e+04</td>\n",
       "      <td>1.500000e+04</td>\n",
       "    </tr>\n",
       "    <tr>\n",
       "      <th>mean</th>\n",
       "      <td>24174.928400</td>\n",
       "      <td>6.596273</td>\n",
       "      <td>13.482907</td>\n",
       "      <td>6736.767045</td>\n",
       "      <td>8303.382200</td>\n",
       "      <td>830.440133</td>\n",
       "      <td>3.752271e+04</td>\n",
       "      <td>7.376372e+04</td>\n",
       "    </tr>\n",
       "    <tr>\n",
       "      <th>std</th>\n",
       "      <td>19147.347255</td>\n",
       "      <td>0.784931</td>\n",
       "      <td>52.733291</td>\n",
       "      <td>3890.000481</td>\n",
       "      <td>5254.941974</td>\n",
       "      <td>6261.328280</td>\n",
       "      <td>1.359509e+05</td>\n",
       "      <td>2.271663e+05</td>\n",
       "    </tr>\n",
       "    <tr>\n",
       "      <th>min</th>\n",
       "      <td>1.000000</td>\n",
       "      <td>5.120000</td>\n",
       "      <td>1.000000</td>\n",
       "      <td>1.000000</td>\n",
       "      <td>1.000000</td>\n",
       "      <td>0.000000</td>\n",
       "      <td>1.020000e+02</td>\n",
       "      <td>2.090000e+02</td>\n",
       "    </tr>\n",
       "    <tr>\n",
       "      <th>25%</th>\n",
       "      <td>5074.750000</td>\n",
       "      <td>5.987500</td>\n",
       "      <td>1.000000</td>\n",
       "      <td>3368.000000</td>\n",
       "      <td>3816.750000</td>\n",
       "      <td>2.000000</td>\n",
       "      <td>6.110000e+02</td>\n",
       "      <td>2.014000e+03</td>\n",
       "    </tr>\n",
       "    <tr>\n",
       "      <th>50%</th>\n",
       "      <td>22488.000000</td>\n",
       "      <td>6.540000</td>\n",
       "      <td>3.000000</td>\n",
       "      <td>6736.000000</td>\n",
       "      <td>7869.000000</td>\n",
       "      <td>13.000000</td>\n",
       "      <td>2.726000e+03</td>\n",
       "      <td>7.489500e+03</td>\n",
       "    </tr>\n",
       "    <tr>\n",
       "      <th>75%</th>\n",
       "      <td>39081.250000</td>\n",
       "      <td>7.170000</td>\n",
       "      <td>13.000000</td>\n",
       "      <td>10105.500000</td>\n",
       "      <td>12313.250000</td>\n",
       "      <td>104.000000</td>\n",
       "      <td>1.701625e+04</td>\n",
       "      <td>4.208825e+04</td>\n",
       "    </tr>\n",
       "    <tr>\n",
       "      <th>max</th>\n",
       "      <td>62422.000000</td>\n",
       "      <td>9.290000</td>\n",
       "      <td>3000.000000</td>\n",
       "      <td>13488.000000</td>\n",
       "      <td>22255.000000</td>\n",
       "      <td>243486.000000</td>\n",
       "      <td>2.980783e+06</td>\n",
       "      <td>4.231885e+06</td>\n",
       "    </tr>\n",
       "  </tbody>\n",
       "</table>\n",
       "</div>"
      ],
      "text/plain": [
       "           anime_id         score      episodes          rank    popularity  \\\n",
       "count  15000.000000  15000.000000  14889.000000  13479.000000  15000.000000   \n",
       "mean   24174.928400      6.596273     13.482907   6736.767045   8303.382200   \n",
       "std    19147.347255      0.784931     52.733291   3890.000481   5254.941974   \n",
       "min        1.000000      5.120000      1.000000      1.000000      1.000000   \n",
       "25%     5074.750000      5.987500      1.000000   3368.000000   3816.750000   \n",
       "50%    22488.000000      6.540000      3.000000   6736.000000   7869.000000   \n",
       "75%    39081.250000      7.170000     13.000000  10105.500000  12313.250000   \n",
       "max    62422.000000      9.290000   3000.000000  13488.000000  22255.000000   \n",
       "\n",
       "           favorites     scored_by       members  \n",
       "count   15000.000000  1.500000e+04  1.500000e+04  \n",
       "mean      830.440133  3.752271e+04  7.376372e+04  \n",
       "std      6261.328280  1.359509e+05  2.271663e+05  \n",
       "min         0.000000  1.020000e+02  2.090000e+02  \n",
       "25%         2.000000  6.110000e+02  2.014000e+03  \n",
       "50%        13.000000  2.726000e+03  7.489500e+03  \n",
       "75%       104.000000  1.701625e+04  4.208825e+04  \n",
       "max    243486.000000  2.980783e+06  4.231885e+06  "
      ]
     },
     "execution_count": 4,
     "metadata": {},
     "output_type": "execute_result"
    }
   ],
   "source": [
    "df.describe()"
   ]
  },
  {
   "cell_type": "markdown",
   "id": "9de6f5e5",
   "metadata": {},
   "source": [
    "### 3.2 Identificación y Eliminación de Columnas con Exceso de Nulos\n",
    "\n",
    "**Criterio de Decisión:**\n",
    "- Columnas con **>20% de valores nulos** → Eliminar\n",
    "- Columnas con **≤20% de valores nulos** → Imputar\n",
    "\n",
    "**Proceso:**\n",
    "1. Calcular porcentaje de nulos por columna\n",
    "2. Identificar columnas que superan el umbral del 20%\n",
    "3. Eliminar esas columnas del dataset\n",
    "4. Reportar cuántas columnas se eliminaron y cuáles fueron\n",
    "\n",
    "**Justificación:** Imputar >20% de datos introduciría demasiado sesgo y reduciría la confiabilidad del análisis.\n",
    "\n",
    "---"
   ]
  },
  {
   "cell_type": "code",
   "execution_count": 5,
   "id": "6e54211e",
   "metadata": {},
   "outputs": [
    {
     "name": "stdout",
     "output_type": "stream",
     "text": [
      "\n",
      "Columnas con valores nulos:\n",
      "                       Columna  Nulos  Porcentaje\n",
      "demographics      demographics  10381   69.206667\n",
      "premiered            premiered   9988   66.586667\n",
      "english_name      english_name   6252   41.680000\n",
      "themes                  themes   5834   38.893333\n",
      "producers            producers   5070   33.800000\n",
      "studios                studios   1754   11.693333\n",
      "rank                      rank   1521   10.140000\n",
      "genres                  genres    618    4.120000\n",
      "synopsis              synopsis    514    3.426667\n",
      "episodes              episodes    111    0.740000\n",
      "rating                  rating     79    0.526667\n",
      "japanese_names  japanese_names     34    0.226667\n"
     ]
    }
   ],
   "source": [
    "null_percentage = (df.isnull().sum() / len(df)) * 100  # Calcular % de nulos por columna\n",
    "null_info = pd.DataFrame({\n",
    "    'Columna': df.columns,\n",
    "    'Nulos': df.isnull().sum(),\n",
    "    'Porcentaje': null_percentage\n",
    "}).sort_values('Porcentaje', ascending=False)  \n",
    "\n",
    "print(\"\\nColumnas con valores nulos:\")\n",
    "print(null_info[null_info['Porcentaje'] > 0])"
   ]
  },
  {
   "cell_type": "code",
   "execution_count": 6,
   "id": "9af56890",
   "metadata": {},
   "outputs": [
    {
     "name": "stdout",
     "output_type": "stream",
     "text": [
      "\n",
      "Columnas eliminadas: 5\n"
     ]
    }
   ],
   "source": [
    "columnas_a_eliminar = null_info[null_info['Porcentaje'] > 20]['Columna'].tolist()\n",
    "df = df.drop(columns=columnas_a_eliminar)  # Eliminar columnas\n",
    "print(f\"\\nColumnas eliminadas: {len(columnas_a_eliminar)}\")"
   ]
  },
  {
   "cell_type": "markdown",
   "id": "61f1a703",
   "metadata": {},
   "source": [
    "### 3.3 Eliminación de Registros Duplicados\n",
    "\n",
    "**Objetivo:** Asegurar que cada anime aparezca una sola vez en el dataset.\n",
    "\n",
    "**Verificación:**\n",
    "- Identificar filas completamente duplicadas (todos los campos idénticos)\n",
    "- Verificar unicidad de `anime_id` (clave primaria)\n",
    "\n",
    "**Acción:**\n",
    "- Eliminar duplicados exactos\n",
    "- Mantener solo la primera ocurrencia\n",
    "- Reportar cuántos duplicados se encontraron\n",
    "\n",
    "**Impacto esperado:** Mínimo (datasets bien curados rara vez tienen duplicados)\n",
    "\n",
    "---"
   ]
  },
  {
   "cell_type": "code",
   "execution_count": 7,
   "id": "dc348782",
   "metadata": {},
   "outputs": [
    {
     "name": "stdout",
     "output_type": "stream",
     "text": [
      "Duplicados eliminados: 3\n"
     ]
    }
   ],
   "source": [
    "duplicados_antes = df.duplicated().sum()  \n",
    "df = df.drop_duplicates()  \n",
    "print(f\"Duplicados eliminados: {duplicados_antes}\")"
   ]
  },
  {
   "cell_type": "markdown",
   "id": "d92b9a28",
   "metadata": {},
   "source": [
    "### 3.4 Estrategia de Imputación de Valores Nulos\n",
    "\n",
    "Después de eliminar columnas con >20% de nulos, imputamos los valores faltantes en las columnas restantes.\n",
    "\n",
    "**Estrategias según Tipo de Dato:**\n",
    "\n",
    "#### Columnas Numéricas\n",
    "- **Método:** Imputación con la **media**\n",
    "- **Razón:** Preserva la distribución cuando hay pocos nulos\n",
    "- **Aplicable a:** `score`, `members`, `scored_by`, etc.\n",
    "\n",
    "#### Columnas Categóricas\n",
    "- **Método:** Asignar **\"Unknown\"** como categoría especial\n",
    "- **Razón:** No podemos asumir categoría sin información\n",
    "- **Aplicable a:** `genres`, `type`, `rating`, etc.\n",
    "\n",
    "**Importante:** Se categorizan primero las columnas por tipo de dato antes de aplicar la imputación correspondiente.\n",
    "\n",
    "---"
   ]
  },
  {
   "cell_type": "code",
   "execution_count": 8,
   "id": "f8024c9f",
   "metadata": {},
   "outputs": [
    {
     "name": "stdout",
     "output_type": "stream",
     "text": [
      "Cantidad de columnas numericas: 8\n",
      "Cantidad de columnas categoricas: 11\n"
     ]
    }
   ],
   "source": [
    "columnas_numericas = df.select_dtypes(include=[np.number]).columns.tolist()\n",
    "columnas_categoricas = df.select_dtypes(include=['object']).columns.tolist()\n",
    "print(f\"Cantidad de columnas numericas: {len(columnas_numericas)}\")\n",
    "print(f\"Cantidad de columnas categoricas: {len(columnas_categoricas)}\")"
   ]
  },
  {
   "cell_type": "markdown",
   "id": "7ab05179",
   "metadata": {},
   "source": [
    "#### Imputación de Variables Numéricas\n",
    "\n",
    "**Método:** Reemplazar valores nulos con la **media** de la columna.\n",
    "\n",
    "**Columnas afectadas:**\n",
    "- Variables tipo `int64` o `float64`\n",
    "- Ejemplo: `score`, `rank`, `popularity`, `members`, `scored_by`\n",
    "\n",
    "**Proceso:**\n",
    "```python\n",
    "# Para cada columna numérica:\n",
    "df[col] = df[col].fillna(df[col].mean())\n",
    "```\n",
    "\n",
    "**Ventaja de usar la media:** Mantiene la tendencia central de la distribución sin alterar significativamente las estadísticas.\n",
    "\n",
    "---"
   ]
  },
  {
   "cell_type": "code",
   "execution_count": 9,
   "id": "b1086e49",
   "metadata": {},
   "outputs": [],
   "source": [
    "for col in columnas_numericas:\n",
    "    if df[col].isnull().sum() > 0:\n",
    "        df[col] = df[col].fillna(df[col].mean())\n"
   ]
  },
  {
   "cell_type": "code",
   "execution_count": 10,
   "id": "export_clean_dataset",
   "metadata": {},
   "outputs": [
    {
     "name": "stdout",
     "output_type": "stream",
     "text": [
      "\n",
      "✅ Dataset limpio exportado: 'datasets_procesados/anime_clean.csv'\n",
      "   📏 Registros: 14,997\n",
      "   📐 Columnas: 19\n"
     ]
    }
   ],
   "source": [
    "# Exportar dataset limpio\n",
    "if not os.path.exists('datasets_procesados'):\n",
    "    os.makedirs('datasets_procesados')\n",
    "\n",
    "df.to_csv('datasets_procesados/anime_clean.csv', index=False, encoding='utf-8')\n",
    "print(f\"\\n✅ Dataset limpio exportado: 'datasets_procesados/anime_clean.csv'\")\n",
    "print(f\"   📏 Registros: {len(df):,}\")\n",
    "print(f\"   📐 Columnas: {len(df.columns)}\")"
   ]
  },
  {
   "cell_type": "markdown",
   "id": "7cfef28e",
   "metadata": {},
   "source": [
    "#### Imputación de Variables Categóricas\n",
    "\n",
    "**Método:** Reemplazar valores nulos con la etiqueta **\"Unknown\"**.\n",
    "\n",
    "**Columnas afectadas:**\n",
    "- Variables tipo `object` (texto)\n",
    "- Ejemplo: `genres`, `type`, `source`, `rating`, `studios`\n",
    "\n",
    "**Proceso:**\n",
    "```python\n",
    "# Para cada columna categórica:\n",
    "df[col] = df[col].fillna('Unknown')\n",
    "```\n",
    "\n",
    "**Ventaja:** Mantiene explícito que falta información en lugar de asumir una categoría.\n",
    "\n",
    "---"
   ]
  },
  {
   "cell_type": "code",
   "execution_count": 11,
   "id": "a6e3c550",
   "metadata": {},
   "outputs": [],
   "source": [
    "for col in columnas_categoricas:\n",
    "    if df[col].isnull().sum() > 0:\n",
    "        df[col] = df[col].fillna('Unknown')"
   ]
  },
  {
   "cell_type": "markdown",
   "id": "5ec8bfa9",
   "metadata": {},
   "source": [
    "### 3.5 Validación Final: Dataset Limpio ✅\n",
    "\n",
    "**Verificaciones realizadas:**\n",
    "\n",
    "1. ✅ **No hay valores nulos** en ninguna columna\n",
    "2. ✅ **No hay duplicados** (cada `anime_id` aparece una vez)\n",
    "3. ✅ **Tipos de datos correctos** (numéricos y categóricos)\n",
    "4. ✅ **Rangos válidos** (ej. score entre 1-10)\n",
    "\n",
    "**Resultado:** El dataset está listo para análisis exploratorio.\n",
    "\n",
    "**Dimensiones finales:**\n",
    "- Filas: ~15,000 anime\n",
    "- Columnas: ~18-20 (después de eliminar columnas con exceso de nulos)\n",
    "\n",
    "---"
   ]
  },
  {
   "cell_type": "code",
   "execution_count": 12,
   "id": "90a22880",
   "metadata": {},
   "outputs": [
    {
     "name": "stdout",
     "output_type": "stream",
     "text": [
      "\n",
      "Dataset limpio: 14997 filas, 19 columnas\n",
      "Valores nulos restantes: 0\n"
     ]
    }
   ],
   "source": [
    "print(f\"\\nDataset limpio: {len(df)} filas, {len(df.columns)} columnas\")\n",
    "print(f\"Valores nulos restantes: {df.isnull().sum().sum()}\")"
   ]
  },
  {
   "cell_type": "markdown",
   "id": "e0283cde",
   "metadata": {},
   "source": [
    "## 🏷️ 4. Procesamiento de Categorías de Géneros\n",
    "\n",
    "### Desafío\n",
    "\n",
    "MyAnimeList tiene **múltiples géneros** (Action, Drama, Fantasy, etc.) que generan:\n",
    "- Demasiadas combinaciones para analizar\n",
    "- Datos dispersos (pocos anime por género específico)\n",
    "- Dificulta encontrar patrones claros\n",
    "\n",
    "### Solución\n",
    "\n",
    "**Reducir géneros individuales → Categorías temáticas**\n",
    "\n",
    "**Beneficios:**\n",
    "1. **Simplifica el análisis:** De 40+ géneros a 6 categorías\n",
    "2. **Agrupa géneros similares:** Anime de \"Action\" y \"Adventure\" comparten características\n",
    "3. **Aumenta tamaño de muestra:** Más anime por categoría = resultados más confiables\n",
    "4. **Facilita visualizaciones:** Heatmaps y gráficos más interpretables\n",
    "\n",
    "---"
   ]
  },
  {
   "cell_type": "markdown",
   "id": "4bd93947",
   "metadata": {},
   "source": [
    "### 4.1 Definición de Categorías Temáticas\n",
    "\n",
    "Se agrupan los géneros en **6 categorías** basadas en estructura narrativa y tono:\n",
    "\n",
    "| Categoría | 🎨 | Géneros Incluidos | Características |\n",
    "|-----------|-----|-------------------|----------------|\n",
    "| **Acción y Aventura** | ⚔️ | Action, Adventure, Sports, Supernatural | Alta energía, conflicto externo |\n",
    "| **Emocionales y Humanistas** | 🎭 | Drama, Romance, Slice of Life, Gourmet | Desarrollo de personajes, emociones |\n",
    "| **Misterio y Terror** | 🧩 | Mystery, Suspense, Horror, Thriller | Tensión psicológica, plot twists |\n",
    "| **Fantásticos y Experimentales** | 🔮 | Fantasy, Sci-Fi, Avant Garde, Space | Mundos imaginarios, especulación |\n",
    "| **Comedia** | 😂 | Comedy | Humor como foco principal |\n",
    "| **Íntimos y Adultos** | 💞 | Boys Love, Girls Love, Ecchi, Erotica | Temática romántica/sexual |\n",
    "\n",
    "**Criterios de agrupación:**\n",
    "1. **Tono narrativo:** Serio vs ligero\n",
    "2. **Enfoque:** Acción vs emociones\n",
    "3. **Audiencia:** Mainstream vs nicho\n",
    "\n",
    "---"
   ]
  },
  {
   "cell_type": "code",
   "execution_count": 13,
   "id": "2e0c8c48",
   "metadata": {},
   "outputs": [],
   "source": [
    "CATEGORIAS_GENERO = {\n",
    "    'Drama': 'Emocionales y Humanistas',\n",
    "    'Romance': 'Emocionales y Humanistas',\n",
    "    'Slice of Life': 'Emocionales y Humanistas',\n",
    "    'Gourmet': 'Emocionales y Humanistas',\n",
    "    \n",
    "    'Action': 'Acción y Aventura',\n",
    "    'Adventure': 'Acción y Aventura',\n",
    "    'Sports': 'Acción y Aventura',\n",
    "    'Supernatural': 'Acción y Aventura',\n",
    "    \n",
    "    'Mystery': 'Misterio y Terror',\n",
    "    'Suspense': 'Misterio y Terror',\n",
    "    'Horror': 'Misterio y Terror',\n",
    "    'Thriller': 'Misterio y Terror',\n",
    "    \n",
    "    'Fantasy': 'Fantásticos y Experimentales',\n",
    "    'Sci-Fi': 'Fantásticos y Experimentales',\n",
    "    'Avant Garde': 'Fantásticos y Experimentales',\n",
    "    'Space': 'Fantásticos y Experimentales',\n",
    "    \n",
    "    'Boys Love': 'Íntimos y Adultos',\n",
    "    'Girls Love': 'Íntimos y Adultos',\n",
    "    'Ecchi': 'Íntimos y Adultos',\n",
    "    'Erotica': 'Íntimos y Adultos',\n",
    "    'Hentai': 'Íntimos y Adultos',\n",
    "    \n",
    "    'Comedy': 'Comedia'\n",
    "}"
   ]
  },
  {
   "cell_type": "markdown",
   "id": "46c2e802",
   "metadata": {},
   "source": [
    "### 4.2 Función de Categorización\n",
    "\n",
    "**Objetivo:** Mapear cada género individual a su categoría temática correspondiente.\n",
    "\n",
    "**Lógica de la función:**\n",
    "```python\n",
    "def categorizar_generos(genres_str):\n",
    "    # 1. Separar géneros (vienen como texto: \"Action, Drama, Fantasy\")\n",
    "    # 2. Para cada género, buscar en diccionario de mapeo\n",
    "    # 3. Retornar lista de categorías (puede ser múltiple)\n",
    "```\n",
    "\n",
    "**Características:**\n",
    "- **Multi-etiqueta:** Un anime puede tener varias categorías\n",
    "  - Ejemplo: \"Action, Drama\" → [\"Acción\", \"Emocional\"]\n",
    "- **Manejo de casos especiales:**\n",
    "  - Géneros nulos → Lista vacía\n",
    "  - \"Unknown\" → Lista vacía\n",
    "  - \"Award Winning\" → Se ignora (es meta-género)\n",
    "\n",
    "---"
   ]
  },
  {
   "cell_type": "code",
   "execution_count": 14,
   "id": "1f85b603",
   "metadata": {},
   "outputs": [],
   "source": [
    "def categorizar_generos(genres_str):\n",
    " \n",
    "    if pd.isna(genres_str) or genres_str == 'Unknown':\n",
    "        return []\n",
    "    \n",
    "    generos = [g.strip() for g in str(genres_str).split(',')]  # Separar por comas, para crear lista\n",
    "    categorias = set()  # Usar set para evitar duplicados puesto que un anime puede tener diferentes generos que caen en la misma categorai\n",
    "    \n",
    "    for genero in generos:\n",
    "        if genero == 'Award Winning':  #Se elimina award winning\n",
    "            continue\n",
    "        if genero in CATEGORIAS_GENERO:  \n",
    "            categorias.add(CATEGORIAS_GENERO[genero])\n",
    "    \n",
    "    return list(categorias)\n"
   ]
  },
  {
   "cell_type": "markdown",
   "id": "b0f50eb4",
   "metadata": {},
   "source": [
    "### 4.3 Aplicación de la Categorización al Dataset\n",
    "\n",
    "Se aplica la función `categorizar_generos()` a la columna `genres` del dataset completo.\n",
    "\n",
    "**Resultado:**\n",
    "- Nueva columna: `categorias_genero` (tipo: lista)\n",
    "- Cada anime tiene una lista de categorías asignadas\n",
    "\n",
    "**Ejemplo de transformación:**\n",
    "```\n",
    "ANTES:\n",
    "genres = \"Action, Adventure, Drama, Fantasy\"\n",
    "\n",
    "DESPUÉS:\n",
    "categorias_genero = [\"Acción y Aventura\", \"Emocionales\", \"Fantásticos\"]\n",
    "```\n",
    "\n",
    "**Verificación:** Inspeccionar algunos registros para confirmar que el mapeo es correcto.\n",
    "\n",
    "---"
   ]
  },
  {
   "cell_type": "code",
   "execution_count": 15,
   "id": "4f123e92",
   "metadata": {},
   "outputs": [],
   "source": [
    "df['categorias_genero'] = df['genres'].apply(categorizar_generos)\n",
    "df['num_categorias'] = df['categorias_genero'].apply(len) "
   ]
  },
  {
   "cell_type": "markdown",
   "id": "0198d518",
   "metadata": {},
   "source": [
    "### 4.4 Creación de DataFrame Expandido (Explode)\n",
    "\n",
    "**Problema:** Un anime con múltiples categorías aparece en una sola fila, dificultando el análisis por categoría.\n",
    "\n",
    "**Solución:** **Expandir** el dataset para que cada combinación anime×categoría sea una fila separada.\n",
    "\n",
    "**Ejemplo de transformación:**\n",
    "\n",
    "**ANTES (1 fila):**\n",
    "```\n",
    "name: \"Fullmetal Alchemist\"\n",
    "score: 9.1\n",
    "type: \"TV\"\n",
    "categorias: [\"Acción\", \"Fantástico\", \"Emocional\"]\n",
    "```\n",
    "\n",
    "**DESPUÉS (3 filas):**\n",
    "```\n",
    "1. name: \"FMA\", score: 9.1, type: \"TV\", categoria: \"Acción\"\n",
    "2. name: \"FMA\", score: 9.1, type: \"TV\", categoria: \"Fantástico\"\n",
    "3. name: \"FMA\", score: 9.1, type: \"TV\", categoria: \"Emocional\"\n",
    "```\n",
    "\n",
    "**Beneficio:** Permite calcular promedios y crear heatmaps por categoría fácilmente.\n",
    "\n",
    "---"
   ]
  },
  {
   "cell_type": "code",
   "execution_count": 16,
   "id": "2f2c1e52",
   "metadata": {},
   "outputs": [],
   "source": [
    "filas_expandidas = []\n",
    "for idx, row in df.iterrows():\n",
    "    if len(row['categorias_genero']) > 0:\n",
    "        for categoria in row['categorias_genero']:\n",
    "            filas_expandidas.append({\n",
    "                'categoria': categoria,\n",
    "                'score': row['score'],\n",
    "                'type': row['type'],\n",
    "                'name': row['name']\n",
    "            })"
   ]
  },
  {
   "cell_type": "markdown",
   "id": "f4157921",
   "metadata": {},
   "source": [
    "### 4.5 Construcción del DataFrame Categorizado\n",
    "\n",
    "Se itera sobre cada anime y sus categorías para construir un nuevo dataset expandido.\n",
    "\n",
    "**Campos incluidos en el nuevo dataset:**\n",
    "- `anime_id`: Identificador único\n",
    "- `name`: Nombre del anime\n",
    "- `score`: Calificación (variable objetivo)\n",
    "- `type`: Formato (TV, Movie, OVA, ONA)\n",
    "- `categoria`: Categoría temática (una sola por fila)\n",
    "- `members`: Tamaño de audiencia (opcional, para análisis adicionales)\n",
    "\n",
    "**Estadísticas esperadas:**\n",
    "- **Anime únicos:** ~15,000\n",
    "- **Filas totales:** ~30,000-35,000 (promedio 2-2.3 categorías por anime)\n",
    "- **Categorías:** 6 categorías temáticas\n",
    "\n",
    "**Nombre del nuevo dataset:** `df_categorias`\n",
    "\n",
    "---"
   ]
  },
  {
   "cell_type": "code",
   "execution_count": 17,
   "id": "e3841ba2",
   "metadata": {},
   "outputs": [
    {
     "name": "stdout",
     "output_type": "stream",
     "text": [
      "\n",
      "Animes categorizados: 14370\n",
      "Promedio de categorías por anime: 1.77\n",
      "Total de filas en df expandido: 26525\n"
     ]
    }
   ],
   "source": [
    "df_categorias = pd.DataFrame(filas_expandidas)  # Nuevo dataframe expandido\n",
    "\n",
    "print(f\"\\nAnimes categorizados: {(df['num_categorias'] > 0).sum()}\")\n",
    "print(f\"Promedio de categorías por anime: {df['num_categorias'].mean():.2f}\")\n",
    "print(f\"Total de filas en df expandido: {len(df_categorias)}\")"
   ]
  },
  {
   "cell_type": "code",
   "execution_count": 18,
   "id": "export_categorized_dataset",
   "metadata": {},
   "outputs": [
    {
     "name": "stdout",
     "output_type": "stream",
     "text": [
      "\n",
      "✅ Dataset categorizado exportado: 'datasets_procesados/anime_categorizado.csv'\n",
      "   📏 Registros: 26,525\n",
      "   📐 Columnas: 4\n",
      "   🏷️  Columna 'categoria' añadida con 6 categorías\n"
     ]
    }
   ],
   "source": [
    "# Exportar dataset categorizado\n",
    "df_categorias.to_csv('datasets_procesados/anime_categorizado.csv', index=False, encoding='utf-8')\n",
    "print(f\"\\n✅ Dataset categorizado exportado: 'datasets_procesados/anime_categorizado.csv'\")\n",
    "print(f\"   📏 Registros: {len(df_categorias):,}\")\n",
    "print(f\"   📐 Columnas: {len(df_categorias.columns)}\")\n",
    "print(f\"   🏷️  Columna 'categoria' añadida con {df_categorias['categoria'].nunique()} categorías\")"
   ]
  },
  {
   "cell_type": "code",
   "execution_count": 19,
   "id": "7b79b360",
   "metadata": {},
   "outputs": [
    {
     "data": {
      "text/html": [
       "<div>\n",
       "<style scoped>\n",
       "    .dataframe tbody tr th:only-of-type {\n",
       "        vertical-align: middle;\n",
       "    }\n",
       "\n",
       "    .dataframe tbody tr th {\n",
       "        vertical-align: top;\n",
       "    }\n",
       "\n",
       "    .dataframe thead th {\n",
       "        text-align: right;\n",
       "    }\n",
       "</style>\n",
       "<table border=\"1\" class=\"dataframe\">\n",
       "  <thead>\n",
       "    <tr style=\"text-align: right;\">\n",
       "      <th></th>\n",
       "      <th>categoria</th>\n",
       "      <th>score</th>\n",
       "      <th>type</th>\n",
       "      <th>name</th>\n",
       "    </tr>\n",
       "  </thead>\n",
       "  <tbody>\n",
       "    <tr>\n",
       "      <th>0</th>\n",
       "      <td>Fantásticos y Experimentales</td>\n",
       "      <td>9.29</td>\n",
       "      <td>TV</td>\n",
       "      <td>Sousou no Frieren</td>\n",
       "    </tr>\n",
       "    <tr>\n",
       "      <th>1</th>\n",
       "      <td>Emocionales y Humanistas</td>\n",
       "      <td>9.29</td>\n",
       "      <td>TV</td>\n",
       "      <td>Sousou no Frieren</td>\n",
       "    </tr>\n",
       "    <tr>\n",
       "      <th>2</th>\n",
       "      <td>Acción y Aventura</td>\n",
       "      <td>9.29</td>\n",
       "      <td>TV</td>\n",
       "      <td>Sousou no Frieren</td>\n",
       "    </tr>\n",
       "    <tr>\n",
       "      <th>3</th>\n",
       "      <td>Fantásticos y Experimentales</td>\n",
       "      <td>9.10</td>\n",
       "      <td>TV</td>\n",
       "      <td>Fullmetal Alchemist: Brotherhood</td>\n",
       "    </tr>\n",
       "    <tr>\n",
       "      <th>4</th>\n",
       "      <td>Emocionales y Humanistas</td>\n",
       "      <td>9.10</td>\n",
       "      <td>TV</td>\n",
       "      <td>Fullmetal Alchemist: Brotherhood</td>\n",
       "    </tr>\n",
       "  </tbody>\n",
       "</table>\n",
       "</div>"
      ],
      "text/plain": [
       "                      categoria  score type                              name\n",
       "0  Fantásticos y Experimentales   9.29   TV                 Sousou no Frieren\n",
       "1      Emocionales y Humanistas   9.29   TV                 Sousou no Frieren\n",
       "2             Acción y Aventura   9.29   TV                 Sousou no Frieren\n",
       "3  Fantásticos y Experimentales   9.10   TV  Fullmetal Alchemist: Brotherhood\n",
       "4      Emocionales y Humanistas   9.10   TV  Fullmetal Alchemist: Brotherhood"
      ]
     },
     "execution_count": 19,
     "metadata": {},
     "output_type": "execute_result"
    }
   ],
   "source": [
    "df_categorias.head()"
   ]
  },
  {
   "cell_type": "markdown",
   "id": "74c88468",
   "metadata": {},
   "source": [
    "## 📊 5. Análisis Univariado: Variables Individuales\n",
    "\n",
    "### Objetivo\n",
    "\n",
    "Analizar cada variable **de forma independiente** para entender:\n",
    "1. **Distribución de Score:** ¿Cómo se distribuyen las calificaciones?\n",
    "2. **Composición por Type:** ¿Qué formatos predominan?\n",
    "3. **Composición por Categoría:** ¿Qué géneros son más comunes?\n",
    "\n",
    "### Métricas Clave para Score\n",
    "\n",
    "| Métrica | Interpretación |\n",
    "|---------|----------------|\n",
    "| **Media** | Tendencia central, score \"típico\" |\n",
    "| **Mediana** | Punto medio (50% arriba, 50% abajo) |\n",
    "| **Desv. Estándar** | Dispersión de los scores |\n",
    "| **IQR** | Rango donde está el 50% central |\n",
    "| **Cuartiles** | Q1 (25%), Q2 (50%), Q3 (75%) |\n",
    "| **Skewness** | Asimetría de la distribución |\n",
    "| **Kurtosis** | Forma de la distribución (puntiaguda vs plana) |\n",
    "\n",
    "---"
   ]
  },
  {
   "cell_type": "code",
   "execution_count": 20,
   "id": "70405197",
   "metadata": {},
   "outputs": [
    {
     "name": "stdout",
     "output_type": "stream",
     "text": [
      "count    14997.000000\n",
      "mean         6.596143\n",
      "std          0.784944\n",
      "min          5.120000\n",
      "25%          5.980000\n",
      "50%          6.540000\n",
      "75%          7.170000\n",
      "max          9.290000\n",
      "Name: score, dtype: float64\n"
     ]
    }
   ],
   "source": [
    "media = df['score'].mean()  # Calcular media\n",
    "mediana = df['score'].median()  # Calcular mediana\n",
    "desviacion = df['score'].std()  # Calcular desviación \n",
    "\n",
    "print(df['score'].describe())"
   ]
  },
  {
   "cell_type": "markdown",
   "id": "306eaa6b",
   "metadata": {},
   "source": [
    "### 5.1 Distribución de Score con Curva Normal\n",
    "\n",
    "**Objetivo:** Visualizar la distribución de scores y compararla con una distribución normal teórica.\n",
    "\n",
    "**Componentes del gráfico:**\n",
    "1. **Histograma:** Barras que muestran frecuencia de scores en intervalos\n",
    "2. **Curva Normal Teórica:** Línea roja que muestra cómo sería una distribución perfectamente normal\n",
    "3. **Línea de Media:** Línea vertical que marca el score promedio\n",
    "\n",
    "**Interpretación:**\n",
    "- Si el histograma se parece a la curva roja → Distribución **aproximadamente normal**\n",
    "- Si hay cola larga a la derecha → **Skewness positivo** (más anime excepcionales)\n",
    "- Si hay cola larga a la izquierda → **Skewness negativo** (más anime de baja calidad)\n",
    "\n",
    "---"
   ]
  },
  {
   "cell_type": "code",
   "execution_count": 21,
   "id": "8d2e2446",
   "metadata": {},
   "outputs": [],
   "source": [
    "fig1 = go.Figure()"
   ]
  },
  {
   "cell_type": "markdown",
   "id": "700a0100",
   "metadata": {},
   "source": [
    "#### Paso 1: Agregar Histograma Normalizado\n",
    "\n",
    "Se crea un histograma con densidad normalizada (área total = 1) para poder comparar con la curva normal.\n",
    "\n",
    "---"
   ]
  },
  {
   "cell_type": "code",
   "execution_count": 22,
   "id": "74188b4e",
   "metadata": {},
   "outputs": [
    {
     "data": {
      "application/vnd.plotly.v1+json": {
       "config": {
        "plotlyServerURL": "https://plot.ly"
       },
       "data": [
        {
         "histnorm": "probability density",
         "marker": {
          "color": "#8b5cf6"
         },
         "name": "Frecuencia",
         "nbinsx": 30,
         "opacity": 0.7,
         "type": "histogram",
         "x": {
          "bdata": "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",
          "dtype": "f8"
         }
        }
       ],
       "layout": {
        "template": {
         "data": {
          "bar": [
           {
            "error_x": {
             "color": "#2a3f5f"
            },
            "error_y": {
             "color": "#2a3f5f"
            },
            "marker": {
             "line": {
              "color": "#E5ECF6",
              "width": 0.5
             },
             "pattern": {
              "fillmode": "overlay",
              "size": 10,
              "solidity": 0.2
             }
            },
            "type": "bar"
           }
          ],
          "barpolar": [
           {
            "marker": {
             "line": {
              "color": "#E5ECF6",
              "width": 0.5
             },
             "pattern": {
              "fillmode": "overlay",
              "size": 10,
              "solidity": 0.2
             }
            },
            "type": "barpolar"
           }
          ],
          "carpet": [
           {
            "aaxis": {
             "endlinecolor": "#2a3f5f",
             "gridcolor": "white",
             "linecolor": "white",
             "minorgridcolor": "white",
             "startlinecolor": "#2a3f5f"
            },
            "baxis": {
             "endlinecolor": "#2a3f5f",
             "gridcolor": "white",
             "linecolor": "white",
             "minorgridcolor": "white",
             "startlinecolor": "#2a3f5f"
            },
            "type": "carpet"
           }
          ],
          "choropleth": [
           {
            "colorbar": {
             "outlinewidth": 0,
             "ticks": ""
            },
            "type": "choropleth"
           }
          ],
          "contour": [
           {
            "colorbar": {
             "outlinewidth": 0,
             "ticks": ""
            },
            "colorscale": [
             [
              0,
              "#0d0887"
             ],
             [
              0.1111111111111111,
              "#46039f"
             ],
             [
              0.2222222222222222,
              "#7201a8"
             ],
             [
              0.3333333333333333,
              "#9c179e"
             ],
             [
              0.4444444444444444,
              "#bd3786"
             ],
             [
              0.5555555555555556,
              "#d8576b"
             ],
             [
              0.6666666666666666,
              "#ed7953"
             ],
             [
              0.7777777777777778,
              "#fb9f3a"
             ],
             [
              0.8888888888888888,
              "#fdca26"
             ],
             [
              1,
              "#f0f921"
             ]
            ],
            "type": "contour"
           }
          ],
          "contourcarpet": [
           {
            "colorbar": {
             "outlinewidth": 0,
             "ticks": ""
            },
            "type": "contourcarpet"
           }
          ],
          "heatmap": [
           {
            "colorbar": {
             "outlinewidth": 0,
             "ticks": ""
            },
            "colorscale": [
             [
              0,
              "#0d0887"
             ],
             [
              0.1111111111111111,
              "#46039f"
             ],
             [
              0.2222222222222222,
              "#7201a8"
             ],
             [
              0.3333333333333333,
              "#9c179e"
             ],
             [
              0.4444444444444444,
              "#bd3786"
             ],
             [
              0.5555555555555556,
              "#d8576b"
             ],
             [
              0.6666666666666666,
              "#ed7953"
             ],
             [
              0.7777777777777778,
              "#fb9f3a"
             ],
             [
              0.8888888888888888,
              "#fdca26"
             ],
             [
              1,
              "#f0f921"
             ]
            ],
            "type": "heatmap"
           }
          ],
          "histogram": [
           {
            "marker": {
             "pattern": {
              "fillmode": "overlay",
              "size": 10,
              "solidity": 0.2
             }
            },
            "type": "histogram"
           }
          ],
          "histogram2d": [
           {
            "colorbar": {
             "outlinewidth": 0,
             "ticks": ""
            },
            "colorscale": [
             [
              0,
              "#0d0887"
             ],
             [
              0.1111111111111111,
              "#46039f"
             ],
             [
              0.2222222222222222,
              "#7201a8"
             ],
             [
              0.3333333333333333,
              "#9c179e"
             ],
             [
              0.4444444444444444,
              "#bd3786"
             ],
             [
              0.5555555555555556,
              "#d8576b"
             ],
             [
              0.6666666666666666,
              "#ed7953"
             ],
             [
              0.7777777777777778,
              "#fb9f3a"
             ],
             [
              0.8888888888888888,
              "#fdca26"
             ],
             [
              1,
              "#f0f921"
             ]
            ],
            "type": "histogram2d"
           }
          ],
          "histogram2dcontour": [
           {
            "colorbar": {
             "outlinewidth": 0,
             "ticks": ""
            },
            "colorscale": [
             [
              0,
              "#0d0887"
             ],
             [
              0.1111111111111111,
              "#46039f"
             ],
             [
              0.2222222222222222,
              "#7201a8"
             ],
             [
              0.3333333333333333,
              "#9c179e"
             ],
             [
              0.4444444444444444,
              "#bd3786"
             ],
             [
              0.5555555555555556,
              "#d8576b"
             ],
             [
              0.6666666666666666,
              "#ed7953"
             ],
             [
              0.7777777777777778,
              "#fb9f3a"
             ],
             [
              0.8888888888888888,
              "#fdca26"
             ],
             [
              1,
              "#f0f921"
             ]
            ],
            "type": "histogram2dcontour"
           }
          ],
          "mesh3d": [
           {
            "colorbar": {
             "outlinewidth": 0,
             "ticks": ""
            },
            "type": "mesh3d"
           }
          ],
          "parcoords": [
           {
            "line": {
             "colorbar": {
              "outlinewidth": 0,
              "ticks": ""
             }
            },
            "type": "parcoords"
           }
          ],
          "pie": [
           {
            "automargin": true,
            "type": "pie"
           }
          ],
          "scatter": [
           {
            "fillpattern": {
             "fillmode": "overlay",
             "size": 10,
             "solidity": 0.2
            },
            "type": "scatter"
           }
          ],
          "scatter3d": [
           {
            "line": {
             "colorbar": {
              "outlinewidth": 0,
              "ticks": ""
             }
            },
            "marker": {
             "colorbar": {
              "outlinewidth": 0,
              "ticks": ""
             }
            },
            "type": "scatter3d"
           }
          ],
          "scattercarpet": [
           {
            "marker": {
             "colorbar": {
              "outlinewidth": 0,
              "ticks": ""
             }
            },
            "type": "scattercarpet"
           }
          ],
          "scattergeo": [
           {
            "marker": {
             "colorbar": {
              "outlinewidth": 0,
              "ticks": ""
             }
            },
            "type": "scattergeo"
           }
          ],
          "scattergl": [
           {
            "marker": {
             "colorbar": {
              "outlinewidth": 0,
              "ticks": ""
             }
            },
            "type": "scattergl"
           }
          ],
          "scattermap": [
           {
            "marker": {
             "colorbar": {
              "outlinewidth": 0,
              "ticks": ""
             }
            },
            "type": "scattermap"
           }
          ],
          "scattermapbox": [
           {
            "marker": {
             "colorbar": {
              "outlinewidth": 0,
              "ticks": ""
             }
            },
            "type": "scattermapbox"
           }
          ],
          "scatterpolar": [
           {
            "marker": {
             "colorbar": {
              "outlinewidth": 0,
              "ticks": ""
             }
            },
            "type": "scatterpolar"
           }
          ],
          "scatterpolargl": [
           {
            "marker": {
             "colorbar": {
              "outlinewidth": 0,
              "ticks": ""
             }
            },
            "type": "scatterpolargl"
           }
          ],
          "scatterternary": [
           {
            "marker": {
             "colorbar": {
              "outlinewidth": 0,
              "ticks": ""
             }
            },
            "type": "scatterternary"
           }
          ],
          "surface": [
           {
            "colorbar": {
             "outlinewidth": 0,
             "ticks": ""
            },
            "colorscale": [
             [
              0,
              "#0d0887"
             ],
             [
              0.1111111111111111,
              "#46039f"
             ],
             [
              0.2222222222222222,
              "#7201a8"
             ],
             [
              0.3333333333333333,
              "#9c179e"
             ],
             [
              0.4444444444444444,
              "#bd3786"
             ],
             [
              0.5555555555555556,
              "#d8576b"
             ],
             [
              0.6666666666666666,
              "#ed7953"
             ],
             [
              0.7777777777777778,
              "#fb9f3a"
             ],
             [
              0.8888888888888888,
              "#fdca26"
             ],
             [
              1,
              "#f0f921"
             ]
            ],
            "type": "surface"
           }
          ],
          "table": [
           {
            "cells": {
             "fill": {
              "color": "#EBF0F8"
             },
             "line": {
              "color": "white"
             }
            },
            "header": {
             "fill": {
              "color": "#C8D4E3"
             },
             "line": {
              "color": "white"
             }
            },
            "type": "table"
           }
          ]
         },
         "layout": {
          "annotationdefaults": {
           "arrowcolor": "#2a3f5f",
           "arrowhead": 0,
           "arrowwidth": 1
          },
          "autotypenumbers": "strict",
          "coloraxis": {
           "colorbar": {
            "outlinewidth": 0,
            "ticks": ""
           }
          },
          "colorscale": {
           "diverging": [
            [
             0,
             "#8e0152"
            ],
            [
             0.1,
             "#c51b7d"
            ],
            [
             0.2,
             "#de77ae"
            ],
            [
             0.3,
             "#f1b6da"
            ],
            [
             0.4,
             "#fde0ef"
            ],
            [
             0.5,
             "#f7f7f7"
            ],
            [
             0.6,
             "#e6f5d0"
            ],
            [
             0.7,
             "#b8e186"
            ],
            [
             0.8,
             "#7fbc41"
            ],
            [
             0.9,
             "#4d9221"
            ],
            [
             1,
             "#276419"
            ]
           ],
           "sequential": [
            [
             0,
             "#0d0887"
            ],
            [
             0.1111111111111111,
             "#46039f"
            ],
            [
             0.2222222222222222,
             "#7201a8"
            ],
            [
             0.3333333333333333,
             "#9c179e"
            ],
            [
             0.4444444444444444,
             "#bd3786"
            ],
            [
             0.5555555555555556,
             "#d8576b"
            ],
            [
             0.6666666666666666,
             "#ed7953"
            ],
            [
             0.7777777777777778,
             "#fb9f3a"
            ],
            [
             0.8888888888888888,
             "#fdca26"
            ],
            [
             1,
             "#f0f921"
            ]
           ],
           "sequentialminus": [
            [
             0,
             "#0d0887"
            ],
            [
             0.1111111111111111,
             "#46039f"
            ],
            [
             0.2222222222222222,
             "#7201a8"
            ],
            [
             0.3333333333333333,
             "#9c179e"
            ],
            [
             0.4444444444444444,
             "#bd3786"
            ],
            [
             0.5555555555555556,
             "#d8576b"
            ],
            [
             0.6666666666666666,
             "#ed7953"
            ],
            [
             0.7777777777777778,
             "#fb9f3a"
            ],
            [
             0.8888888888888888,
             "#fdca26"
            ],
            [
             1,
             "#f0f921"
            ]
           ]
          },
          "colorway": [
           "#636efa",
           "#EF553B",
           "#00cc96",
           "#ab63fa",
           "#FFA15A",
           "#19d3f3",
           "#FF6692",
           "#B6E880",
           "#FF97FF",
           "#FECB52"
          ],
          "font": {
           "color": "#2a3f5f"
          },
          "geo": {
           "bgcolor": "white",
           "lakecolor": "white",
           "landcolor": "#E5ECF6",
           "showlakes": true,
           "showland": true,
           "subunitcolor": "white"
          },
          "hoverlabel": {
           "align": "left"
          },
          "hovermode": "closest",
          "mapbox": {
           "style": "light"
          },
          "paper_bgcolor": "white",
          "plot_bgcolor": "#E5ECF6",
          "polar": {
           "angularaxis": {
            "gridcolor": "white",
            "linecolor": "white",
            "ticks": ""
           },
           "bgcolor": "#E5ECF6",
           "radialaxis": {
            "gridcolor": "white",
            "linecolor": "white",
            "ticks": ""
           }
          },
          "scene": {
           "xaxis": {
            "backgroundcolor": "#E5ECF6",
            "gridcolor": "white",
            "gridwidth": 2,
            "linecolor": "white",
            "showbackground": true,
            "ticks": "",
            "zerolinecolor": "white"
           },
           "yaxis": {
            "backgroundcolor": "#E5ECF6",
            "gridcolor": "white",
            "gridwidth": 2,
            "linecolor": "white",
            "showbackground": true,
            "ticks": "",
            "zerolinecolor": "white"
           },
           "zaxis": {
            "backgroundcolor": "#E5ECF6",
            "gridcolor": "white",
            "gridwidth": 2,
            "linecolor": "white",
            "showbackground": true,
            "ticks": "",
            "zerolinecolor": "white"
           }
          },
          "shapedefaults": {
           "line": {
            "color": "#2a3f5f"
           }
          },
          "ternary": {
           "aaxis": {
            "gridcolor": "white",
            "linecolor": "white",
            "ticks": ""
           },
           "baxis": {
            "gridcolor": "white",
            "linecolor": "white",
            "ticks": ""
           },
           "bgcolor": "#E5ECF6",
           "caxis": {
            "gridcolor": "white",
            "linecolor": "white",
            "ticks": ""
           }
          },
          "title": {
           "x": 0.05
          },
          "xaxis": {
           "automargin": true,
           "gridcolor": "white",
           "linecolor": "white",
           "ticks": "",
           "title": {
            "standoff": 15
           },
           "zerolinecolor": "white",
           "zerolinewidth": 2
          },
          "yaxis": {
           "automargin": true,
           "gridcolor": "white",
           "linecolor": "white",
           "ticks": "",
           "title": {
            "standoff": 15
           },
           "zerolinecolor": "white",
           "zerolinewidth": 2
          }
         }
        }
       }
      }
     },
     "metadata": {},
     "output_type": "display_data"
    }
   ],
   "source": [
    "fig1.add_trace(go.Histogram(\n",
    "    x=df['score'],\n",
    "    nbinsx=30,  # 30 barras\n",
    "    name='Frecuencia',\n",
    "    marker_color='#8b5cf6',\n",
    "    opacity=0.7,\n",
    "    histnorm='probability density'  # Normalizar para densidad de probabilidad\n",
    "))"
   ]
  },
  {
   "cell_type": "markdown",
   "id": "ad7c7da8",
   "metadata": {},
   "source": [
    "#### Paso 2: Generar Curva Normal Teórica\n",
    "\n",
    "Se calcula una distribución normal con la misma media y desviación estándar que los datos reales.\n",
    "\n",
    "---"
   ]
  },
  {
   "cell_type": "code",
   "execution_count": 23,
   "id": "73adb8d6",
   "metadata": {},
   "outputs": [
    {
     "data": {
      "application/vnd.plotly.v1+json": {
       "config": {
        "plotlyServerURL": "https://plot.ly"
       },
       "data": [
        {
         "histnorm": "probability density",
         "marker": {
          "color": "#8b5cf6"
         },
         "name": "Frecuencia",
         "nbinsx": 30,
         "opacity": 0.7,
         "type": "histogram",
         "x": {
          "bdata": "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",
          "dtype": "f8"
         }
        },
        {
         "line": {
          "color": "red",
          "width": 3
         },
         "mode": "lines",
         "name": "Curva Normal",
         "type": "scatter",
         "x": {
          "bdata": "exSuR+F6FECmMWAaA6YUQNFOEu0k0RRA/GvEv0b8FEAoiXaSaCcVQFOmKGWKUhVAfsPaN6x9FUCp4IwKzqgVQNT9Pt3v0xVA/xrxrxH/FUAqOKOCMyoWQFVVVVVVVRZAgHIHKHeAFkCsj7n6mKsWQNesa8261hZAAsodoNwBF0At589y/iwXQFgEgkUgWBdAgyE0GEKDF0CuPubqY64XQNpbmL2F2RdABXlKkKcEGEAwlvxiyS8YQFuzrjXrWhhAhtBgCA2GGECx7RLbLrEYQNwKxa1Q3BhACCh3gHIHGUAyRSlTlDIZQF5i2yW2XRlAiX+N+NeIGUC0nD/L+bMZQN+58Z0b3xlACtejcD0KGkA19FVDXzUaQGARCBaBYBpAjC666KKLGkC2S2y7xLYaQOJoHo7m4RpADYbQYAgNG0A4o4IzKjgbQGPANAZMYxtAjt3m2G2OG0C6+pirj7kbQOQXS36x5BtAEDX9UNMPHEA7Uq8j9TocQGZvYfYWZhxAkYwTyTiRHEC8qcWbWrwcQOfGd2585xxAEuQpQZ4SHUA+AdwTwD0dQGgejubhaB1AlDtAuQOUHUC/WPKLJb8dQOp1pF5H6h1AFZNWMWkVHkBAsAgEi0AeQGzNutasax5Alupsqc6WHkDCBx988MEeQO0k0U4S7R5AGEKDITQYH0BDXzX0VUMfQG5858Z3bh9AmZmZmZmZH0DEtktsu8QfQPDT/T7d7x9AjfjXiH8NIEAjBzFyECMgQLgViluhOCBATiTjRDJOIEDkMjwuw2MgQHlBlRdUeSBAD1DuAOWOIECkXkfqdaQgQDptoNMGuiBA0Hv5vJfPIEBlilKmKOUgQPqYq4+5+iBAkKcEeUoQIUAmtl1i2yUhQLvEtktsOyFAUdMPNf1QIUDm4WgejmYhQHzwwQcffCFAEv8a8a+RIUCnDXTaQKchQDwczcPRvCFA0iomrWLSIUBoOX+W8+chQP1H2H+E/SFAk1YxaRUTIkAoZYpSpigiQL5z4zs3PiJAVII8JchTIkDpkJUOWWkiQH6f7vfpfiJAFK5H4XqUIkA=",
          "dtype": "f8"
         },
         "y": {
          "bdata": "zpHFFUkztj+7LwWEs4W4P34dfR5ZArs/ZCkTf6mpvT/IgGRH3j3AP74+VdAkvME/FTpqkk9Pwz9KRSqUzfbEPy2uoGvSscY/WSHomlN/yD+6X6GhBl7KP8KHHNtfTMw/q1ahPpJIzj/H8xoKSCjQPxaRRVYGMdE/sngvkz890j/sY2Ajk0vTP/5cJrKGWtQ/l6jgL4lo1T8uuzZP9nPWPwymfXoae9c/NAidNTd82D+emvLdh3XZP/6OFbdGZdo//1IFMbJJ2z8q0FRSEiHcP2UKVS++6dw/rKUuViGi3T/97UwXwUjeP4CBfpFB3N4/ItXDaWpb3z/Ld+oXK8XfP8J3ZFlPDOA/p+yUlIcq4D/eiJTr+zzgP3pycbWDQ+A/RBFkhxA+4D92Ks5prizgP2+U/quDD+A/Sew5r6DN3z+fKh6N2mXfP9JiCcCV6N4/g10nBt9W3j8ndcJN67HdPzV0Z3MT+9w/YP7Yks8z3D8H8ZEBsl3bP3/kyQpieto/zl2QhZaL2T+D4qFdEJPYP0nIGSeVktc/3PUb1OmL1j8WHA6izYDVPzyPBlL1ctQ/N7vIvQZk0z+yAw/YlFXSP+/EEyQcSdE/B8lbrf8/0D980JALDXfOP4woBZqzecw/VZ7pggaKyj/Pq7Kw2KnIPwhq1K+72sY/Ulkd2f8dxT8CVPtftXTDPx59fS+u38E/AV97foBfwD96+SUDFOm9P82ZVEHnPbs/nYCJKmu9uD/Lyn6uN2e2P8S+rXyVOrQ/pStQgIc2sj+rfCdo1FmwP7IZ5CEgRq0/BAAfXEkhqj+fO4cht0GnP/SKSefKo6Q/lHnVacRDoj+1Bsbezx2gP4jKr5olXJw/FBmd/27hmD9GNQ4R7sOVP7/C7rlD/JI/Y3bIHk6DkD+0HKXWaKSMP6+c6T/gxIg//HNkGKhbhT9YY15QIl2CP0nGBAzmfH8/uUdN9QXrej8N7Foh/vF2PxVEiICqgHM/pt0C216HcD9Es6cTsu9rP7EOO/Jgimc/WFTEQIfHYz+XaZQZSJJgP2n3Sx8GsFs/DpdgTFMQVz8=",
          "dtype": "f8"
         }
        }
       ],
       "layout": {
        "template": {
         "data": {
          "bar": [
           {
            "error_x": {
             "color": "#2a3f5f"
            },
            "error_y": {
             "color": "#2a3f5f"
            },
            "marker": {
             "line": {
              "color": "#E5ECF6",
              "width": 0.5
             },
             "pattern": {
              "fillmode": "overlay",
              "size": 10,
              "solidity": 0.2
             }
            },
            "type": "bar"
           }
          ],
          "barpolar": [
           {
            "marker": {
             "line": {
              "color": "#E5ECF6",
              "width": 0.5
             },
             "pattern": {
              "fillmode": "overlay",
              "size": 10,
              "solidity": 0.2
             }
            },
            "type": "barpolar"
           }
          ],
          "carpet": [
           {
            "aaxis": {
             "endlinecolor": "#2a3f5f",
             "gridcolor": "white",
             "linecolor": "white",
             "minorgridcolor": "white",
             "startlinecolor": "#2a3f5f"
            },
            "baxis": {
             "endlinecolor": "#2a3f5f",
             "gridcolor": "white",
             "linecolor": "white",
             "minorgridcolor": "white",
             "startlinecolor": "#2a3f5f"
            },
            "type": "carpet"
           }
          ],
          "choropleth": [
           {
            "colorbar": {
             "outlinewidth": 0,
             "ticks": ""
            },
            "type": "choropleth"
           }
          ],
          "contour": [
           {
            "colorbar": {
             "outlinewidth": 0,
             "ticks": ""
            },
            "colorscale": [
             [
              0,
              "#0d0887"
             ],
             [
              0.1111111111111111,
              "#46039f"
             ],
             [
              0.2222222222222222,
              "#7201a8"
             ],
             [
              0.3333333333333333,
              "#9c179e"
             ],
             [
              0.4444444444444444,
              "#bd3786"
             ],
             [
              0.5555555555555556,
              "#d8576b"
             ],
             [
              0.6666666666666666,
              "#ed7953"
             ],
             [
              0.7777777777777778,
              "#fb9f3a"
             ],
             [
              0.8888888888888888,
              "#fdca26"
             ],
             [
              1,
              "#f0f921"
             ]
            ],
            "type": "contour"
           }
          ],
          "contourcarpet": [
           {
            "colorbar": {
             "outlinewidth": 0,
             "ticks": ""
            },
            "type": "contourcarpet"
           }
          ],
          "heatmap": [
           {
            "colorbar": {
             "outlinewidth": 0,
             "ticks": ""
            },
            "colorscale": [
             [
              0,
              "#0d0887"
             ],
             [
              0.1111111111111111,
              "#46039f"
             ],
             [
              0.2222222222222222,
              "#7201a8"
             ],
             [
              0.3333333333333333,
              "#9c179e"
             ],
             [
              0.4444444444444444,
              "#bd3786"
             ],
             [
              0.5555555555555556,
              "#d8576b"
             ],
             [
              0.6666666666666666,
              "#ed7953"
             ],
             [
              0.7777777777777778,
              "#fb9f3a"
             ],
             [
              0.8888888888888888,
              "#fdca26"
             ],
             [
              1,
              "#f0f921"
             ]
            ],
            "type": "heatmap"
           }
          ],
          "histogram": [
           {
            "marker": {
             "pattern": {
              "fillmode": "overlay",
              "size": 10,
              "solidity": 0.2
             }
            },
            "type": "histogram"
           }
          ],
          "histogram2d": [
           {
            "colorbar": {
             "outlinewidth": 0,
             "ticks": ""
            },
            "colorscale": [
             [
              0,
              "#0d0887"
             ],
             [
              0.1111111111111111,
              "#46039f"
             ],
             [
              0.2222222222222222,
              "#7201a8"
             ],
             [
              0.3333333333333333,
              "#9c179e"
             ],
             [
              0.4444444444444444,
              "#bd3786"
             ],
             [
              0.5555555555555556,
              "#d8576b"
             ],
             [
              0.6666666666666666,
              "#ed7953"
             ],
             [
              0.7777777777777778,
              "#fb9f3a"
             ],
             [
              0.8888888888888888,
              "#fdca26"
             ],
             [
              1,
              "#f0f921"
             ]
            ],
            "type": "histogram2d"
           }
          ],
          "histogram2dcontour": [
           {
            "colorbar": {
             "outlinewidth": 0,
             "ticks": ""
            },
            "colorscale": [
             [
              0,
              "#0d0887"
             ],
             [
              0.1111111111111111,
              "#46039f"
             ],
             [
              0.2222222222222222,
              "#7201a8"
             ],
             [
              0.3333333333333333,
              "#9c179e"
             ],
             [
              0.4444444444444444,
              "#bd3786"
             ],
             [
              0.5555555555555556,
              "#d8576b"
             ],
             [
              0.6666666666666666,
              "#ed7953"
             ],
             [
              0.7777777777777778,
              "#fb9f3a"
             ],
             [
              0.8888888888888888,
              "#fdca26"
             ],
             [
              1,
              "#f0f921"
             ]
            ],
            "type": "histogram2dcontour"
           }
          ],
          "mesh3d": [
           {
            "colorbar": {
             "outlinewidth": 0,
             "ticks": ""
            },
            "type": "mesh3d"
           }
          ],
          "parcoords": [
           {
            "line": {
             "colorbar": {
              "outlinewidth": 0,
              "ticks": ""
             }
            },
            "type": "parcoords"
           }
          ],
          "pie": [
           {
            "automargin": true,
            "type": "pie"
           }
          ],
          "scatter": [
           {
            "fillpattern": {
             "fillmode": "overlay",
             "size": 10,
             "solidity": 0.2
            },
            "type": "scatter"
           }
          ],
          "scatter3d": [
           {
            "line": {
             "colorbar": {
              "outlinewidth": 0,
              "ticks": ""
             }
            },
            "marker": {
             "colorbar": {
              "outlinewidth": 0,
              "ticks": ""
             }
            },
            "type": "scatter3d"
           }
          ],
          "scattercarpet": [
           {
            "marker": {
             "colorbar": {
              "outlinewidth": 0,
              "ticks": ""
             }
            },
            "type": "scattercarpet"
           }
          ],
          "scattergeo": [
           {
            "marker": {
             "colorbar": {
              "outlinewidth": 0,
              "ticks": ""
             }
            },
            "type": "scattergeo"
           }
          ],
          "scattergl": [
           {
            "marker": {
             "colorbar": {
              "outlinewidth": 0,
              "ticks": ""
             }
            },
            "type": "scattergl"
           }
          ],
          "scattermap": [
           {
            "marker": {
             "colorbar": {
              "outlinewidth": 0,
              "ticks": ""
             }
            },
            "type": "scattermap"
           }
          ],
          "scattermapbox": [
           {
            "marker": {
             "colorbar": {
              "outlinewidth": 0,
              "ticks": ""
             }
            },
            "type": "scattermapbox"
           }
          ],
          "scatterpolar": [
           {
            "marker": {
             "colorbar": {
              "outlinewidth": 0,
              "ticks": ""
             }
            },
            "type": "scatterpolar"
           }
          ],
          "scatterpolargl": [
           {
            "marker": {
             "colorbar": {
              "outlinewidth": 0,
              "ticks": ""
             }
            },
            "type": "scatterpolargl"
           }
          ],
          "scatterternary": [
           {
            "marker": {
             "colorbar": {
              "outlinewidth": 0,
              "ticks": ""
             }
            },
            "type": "scatterternary"
           }
          ],
          "surface": [
           {
            "colorbar": {
             "outlinewidth": 0,
             "ticks": ""
            },
            "colorscale": [
             [
              0,
              "#0d0887"
             ],
             [
              0.1111111111111111,
              "#46039f"
             ],
             [
              0.2222222222222222,
              "#7201a8"
             ],
             [
              0.3333333333333333,
              "#9c179e"
             ],
             [
              0.4444444444444444,
              "#bd3786"
             ],
             [
              0.5555555555555556,
              "#d8576b"
             ],
             [
              0.6666666666666666,
              "#ed7953"
             ],
             [
              0.7777777777777778,
              "#fb9f3a"
             ],
             [
              0.8888888888888888,
              "#fdca26"
             ],
             [
              1,
              "#f0f921"
             ]
            ],
            "type": "surface"
           }
          ],
          "table": [
           {
            "cells": {
             "fill": {
              "color": "#EBF0F8"
             },
             "line": {
              "color": "white"
             }
            },
            "header": {
             "fill": {
              "color": "#C8D4E3"
             },
             "line": {
              "color": "white"
             }
            },
            "type": "table"
           }
          ]
         },
         "layout": {
          "annotationdefaults": {
           "arrowcolor": "#2a3f5f",
           "arrowhead": 0,
           "arrowwidth": 1
          },
          "autotypenumbers": "strict",
          "coloraxis": {
           "colorbar": {
            "outlinewidth": 0,
            "ticks": ""
           }
          },
          "colorscale": {
           "diverging": [
            [
             0,
             "#8e0152"
            ],
            [
             0.1,
             "#c51b7d"
            ],
            [
             0.2,
             "#de77ae"
            ],
            [
             0.3,
             "#f1b6da"
            ],
            [
             0.4,
             "#fde0ef"
            ],
            [
             0.5,
             "#f7f7f7"
            ],
            [
             0.6,
             "#e6f5d0"
            ],
            [
             0.7,
             "#b8e186"
            ],
            [
             0.8,
             "#7fbc41"
            ],
            [
             0.9,
             "#4d9221"
            ],
            [
             1,
             "#276419"
            ]
           ],
           "sequential": [
            [
             0,
             "#0d0887"
            ],
            [
             0.1111111111111111,
             "#46039f"
            ],
            [
             0.2222222222222222,
             "#7201a8"
            ],
            [
             0.3333333333333333,
             "#9c179e"
            ],
            [
             0.4444444444444444,
             "#bd3786"
            ],
            [
             0.5555555555555556,
             "#d8576b"
            ],
            [
             0.6666666666666666,
             "#ed7953"
            ],
            [
             0.7777777777777778,
             "#fb9f3a"
            ],
            [
             0.8888888888888888,
             "#fdca26"
            ],
            [
             1,
             "#f0f921"
            ]
           ],
           "sequentialminus": [
            [
             0,
             "#0d0887"
            ],
            [
             0.1111111111111111,
             "#46039f"
            ],
            [
             0.2222222222222222,
             "#7201a8"
            ],
            [
             0.3333333333333333,
             "#9c179e"
            ],
            [
             0.4444444444444444,
             "#bd3786"
            ],
            [
             0.5555555555555556,
             "#d8576b"
            ],
            [
             0.6666666666666666,
             "#ed7953"
            ],
            [
             0.7777777777777778,
             "#fb9f3a"
            ],
            [
             0.8888888888888888,
             "#fdca26"
            ],
            [
             1,
             "#f0f921"
            ]
           ]
          },
          "colorway": [
           "#636efa",
           "#EF553B",
           "#00cc96",
           "#ab63fa",
           "#FFA15A",
           "#19d3f3",
           "#FF6692",
           "#B6E880",
           "#FF97FF",
           "#FECB52"
          ],
          "font": {
           "color": "#2a3f5f"
          },
          "geo": {
           "bgcolor": "white",
           "lakecolor": "white",
           "landcolor": "#E5ECF6",
           "showlakes": true,
           "showland": true,
           "subunitcolor": "white"
          },
          "hoverlabel": {
           "align": "left"
          },
          "hovermode": "closest",
          "mapbox": {
           "style": "light"
          },
          "paper_bgcolor": "white",
          "plot_bgcolor": "#E5ECF6",
          "polar": {
           "angularaxis": {
            "gridcolor": "white",
            "linecolor": "white",
            "ticks": ""
           },
           "bgcolor": "#E5ECF6",
           "radialaxis": {
            "gridcolor": "white",
            "linecolor": "white",
            "ticks": ""
           }
          },
          "scene": {
           "xaxis": {
            "backgroundcolor": "#E5ECF6",
            "gridcolor": "white",
            "gridwidth": 2,
            "linecolor": "white",
            "showbackground": true,
            "ticks": "",
            "zerolinecolor": "white"
           },
           "yaxis": {
            "backgroundcolor": "#E5ECF6",
            "gridcolor": "white",
            "gridwidth": 2,
            "linecolor": "white",
            "showbackground": true,
            "ticks": "",
            "zerolinecolor": "white"
           },
           "zaxis": {
            "backgroundcolor": "#E5ECF6",
            "gridcolor": "white",
            "gridwidth": 2,
            "linecolor": "white",
            "showbackground": true,
            "ticks": "",
            "zerolinecolor": "white"
           }
          },
          "shapedefaults": {
           "line": {
            "color": "#2a3f5f"
           }
          },
          "ternary": {
           "aaxis": {
            "gridcolor": "white",
            "linecolor": "white",
            "ticks": ""
           },
           "baxis": {
            "gridcolor": "white",
            "linecolor": "white",
            "ticks": ""
           },
           "bgcolor": "#E5ECF6",
           "caxis": {
            "gridcolor": "white",
            "linecolor": "white",
            "ticks": ""
           }
          },
          "title": {
           "x": 0.05
          },
          "xaxis": {
           "automargin": true,
           "gridcolor": "white",
           "linecolor": "white",
           "ticks": "",
           "title": {
            "standoff": 15
           },
           "zerolinecolor": "white",
           "zerolinewidth": 2
          },
          "yaxis": {
           "automargin": true,
           "gridcolor": "white",
           "linecolor": "white",
           "ticks": "",
           "title": {
            "standoff": 15
           },
           "zerolinecolor": "white",
           "zerolinewidth": 2
          }
         }
        }
       }
      }
     },
     "metadata": {},
     "output_type": "display_data"
    }
   ],
   "source": [
    "x_curva = np.linspace(df['score'].min(), df['score'].max(), 100)  # 100 puntos\n",
    "y_curva = stats.norm.pdf(x_curva, media, desviacion)  # Función densidad normal\n",
    "fig1.add_trace(go.Scatter(\n",
    "    x=x_curva,\n",
    "    y=y_curva,\n",
    "    mode='lines',\n",
    "    name='Curva Normal',\n",
    "    line=dict(color='red', width=3)\n",
    "))"
   ]
  },
  {
   "cell_type": "markdown",
   "id": "39ef967d",
   "metadata": {},
   "source": [
    "#### Paso 3: Agregar Línea Vertical en la Media\n",
    "\n",
    "Se marca visualmente la media para identificar el score típico.\n",
    "\n",
    "---"
   ]
  },
  {
   "cell_type": "code",
   "execution_count": 24,
   "id": "f5e615d5",
   "metadata": {},
   "outputs": [
    {
     "data": {
      "application/vnd.plotly.v1+json": {
       "config": {
        "plotlyServerURL": "https://plot.ly"
       },
       "data": [
        {
         "histnorm": "probability density",
         "marker": {
          "color": "#8b5cf6"
         },
         "name": "Frecuencia",
         "nbinsx": 30,
         "opacity": 0.7,
         "type": "histogram",
         "x": {
          "bdata": "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",
          "dtype": "f8"
         }
        },
        {
         "line": {
          "color": "red",
          "width": 3
         },
         "mode": "lines",
         "name": "Curva Normal",
         "type": "scatter",
         "x": {
          "bdata": "exSuR+F6FECmMWAaA6YUQNFOEu0k0RRA/GvEv0b8FEAoiXaSaCcVQFOmKGWKUhVAfsPaN6x9FUCp4IwKzqgVQNT9Pt3v0xVA/xrxrxH/FUAqOKOCMyoWQFVVVVVVVRZAgHIHKHeAFkCsj7n6mKsWQNesa8261hZAAsodoNwBF0At589y/iwXQFgEgkUgWBdAgyE0GEKDF0CuPubqY64XQNpbmL2F2RdABXlKkKcEGEAwlvxiyS8YQFuzrjXrWhhAhtBgCA2GGECx7RLbLrEYQNwKxa1Q3BhACCh3gHIHGUAyRSlTlDIZQF5i2yW2XRlAiX+N+NeIGUC0nD/L+bMZQN+58Z0b3xlACtejcD0KGkA19FVDXzUaQGARCBaBYBpAjC666KKLGkC2S2y7xLYaQOJoHo7m4RpADYbQYAgNG0A4o4IzKjgbQGPANAZMYxtAjt3m2G2OG0C6+pirj7kbQOQXS36x5BtAEDX9UNMPHEA7Uq8j9TocQGZvYfYWZhxAkYwTyTiRHEC8qcWbWrwcQOfGd2585xxAEuQpQZ4SHUA+AdwTwD0dQGgejubhaB1AlDtAuQOUHUC/WPKLJb8dQOp1pF5H6h1AFZNWMWkVHkBAsAgEi0AeQGzNutasax5Alupsqc6WHkDCBx988MEeQO0k0U4S7R5AGEKDITQYH0BDXzX0VUMfQG5858Z3bh9AmZmZmZmZH0DEtktsu8QfQPDT/T7d7x9AjfjXiH8NIEAjBzFyECMgQLgViluhOCBATiTjRDJOIEDkMjwuw2MgQHlBlRdUeSBAD1DuAOWOIECkXkfqdaQgQDptoNMGuiBA0Hv5vJfPIEBlilKmKOUgQPqYq4+5+iBAkKcEeUoQIUAmtl1i2yUhQLvEtktsOyFAUdMPNf1QIUDm4WgejmYhQHzwwQcffCFAEv8a8a+RIUCnDXTaQKchQDwczcPRvCFA0iomrWLSIUBoOX+W8+chQP1H2H+E/SFAk1YxaRUTIkAoZYpSpigiQL5z4zs3PiJAVII8JchTIkDpkJUOWWkiQH6f7vfpfiJAFK5H4XqUIkA=",
          "dtype": "f8"
         },
         "y": {
          "bdata": "zpHFFUkztj+7LwWEs4W4P34dfR5ZArs/ZCkTf6mpvT/IgGRH3j3AP74+VdAkvME/FTpqkk9Pwz9KRSqUzfbEPy2uoGvSscY/WSHomlN/yD+6X6GhBl7KP8KHHNtfTMw/q1ahPpJIzj/H8xoKSCjQPxaRRVYGMdE/sngvkz890j/sY2Ajk0vTP/5cJrKGWtQ/l6jgL4lo1T8uuzZP9nPWPwymfXoae9c/NAidNTd82D+emvLdh3XZP/6OFbdGZdo//1IFMbJJ2z8q0FRSEiHcP2UKVS++6dw/rKUuViGi3T/97UwXwUjeP4CBfpFB3N4/ItXDaWpb3z/Ld+oXK8XfP8J3ZFlPDOA/p+yUlIcq4D/eiJTr+zzgP3pycbWDQ+A/RBFkhxA+4D92Ks5prizgP2+U/quDD+A/Sew5r6DN3z+fKh6N2mXfP9JiCcCV6N4/g10nBt9W3j8ndcJN67HdPzV0Z3MT+9w/YP7Yks8z3D8H8ZEBsl3bP3/kyQpieto/zl2QhZaL2T+D4qFdEJPYP0nIGSeVktc/3PUb1OmL1j8WHA6izYDVPzyPBlL1ctQ/N7vIvQZk0z+yAw/YlFXSP+/EEyQcSdE/B8lbrf8/0D980JALDXfOP4woBZqzecw/VZ7pggaKyj/Pq7Kw2KnIPwhq1K+72sY/Ulkd2f8dxT8CVPtftXTDPx59fS+u38E/AV97foBfwD96+SUDFOm9P82ZVEHnPbs/nYCJKmu9uD/Lyn6uN2e2P8S+rXyVOrQ/pStQgIc2sj+rfCdo1FmwP7IZ5CEgRq0/BAAfXEkhqj+fO4cht0GnP/SKSefKo6Q/lHnVacRDoj+1Bsbezx2gP4jKr5olXJw/FBmd/27hmD9GNQ4R7sOVP7/C7rlD/JI/Y3bIHk6DkD+0HKXWaKSMP6+c6T/gxIg//HNkGKhbhT9YY15QIl2CP0nGBAzmfH8/uUdN9QXrej8N7Foh/vF2PxVEiICqgHM/pt0C216HcD9Es6cTsu9rP7EOO/Jgimc/WFTEQIfHYz+XaZQZSJJgP2n3Sx8GsFs/DpdgTFMQVz8=",
          "dtype": "f8"
         }
        }
       ],
       "layout": {
        "annotations": [
         {
          "showarrow": false,
          "text": "Media: 6.60",
          "x": 6.5961432286457296,
          "xanchor": "left",
          "xref": "x",
          "y": 1,
          "yanchor": "top",
          "yref": "y domain"
         }
        ],
        "shapes": [
         {
          "line": {
           "color": "orange",
           "dash": "dash"
          },
          "type": "line",
          "x0": 6.5961432286457296,
          "x1": 6.5961432286457296,
          "xref": "x",
          "y0": 0,
          "y1": 1,
          "yref": "y domain"
         }
        ],
        "template": {
         "data": {
          "bar": [
           {
            "error_x": {
             "color": "#2a3f5f"
            },
            "error_y": {
             "color": "#2a3f5f"
            },
            "marker": {
             "line": {
              "color": "#E5ECF6",
              "width": 0.5
             },
             "pattern": {
              "fillmode": "overlay",
              "size": 10,
              "solidity": 0.2
             }
            },
            "type": "bar"
           }
          ],
          "barpolar": [
           {
            "marker": {
             "line": {
              "color": "#E5ECF6",
              "width": 0.5
             },
             "pattern": {
              "fillmode": "overlay",
              "size": 10,
              "solidity": 0.2
             }
            },
            "type": "barpolar"
           }
          ],
          "carpet": [
           {
            "aaxis": {
             "endlinecolor": "#2a3f5f",
             "gridcolor": "white",
             "linecolor": "white",
             "minorgridcolor": "white",
             "startlinecolor": "#2a3f5f"
            },
            "baxis": {
             "endlinecolor": "#2a3f5f",
             "gridcolor": "white",
             "linecolor": "white",
             "minorgridcolor": "white",
             "startlinecolor": "#2a3f5f"
            },
            "type": "carpet"
           }
          ],
          "choropleth": [
           {
            "colorbar": {
             "outlinewidth": 0,
             "ticks": ""
            },
            "type": "choropleth"
           }
          ],
          "contour": [
           {
            "colorbar": {
             "outlinewidth": 0,
             "ticks": ""
            },
            "colorscale": [
             [
              0,
              "#0d0887"
             ],
             [
              0.1111111111111111,
              "#46039f"
             ],
             [
              0.2222222222222222,
              "#7201a8"
             ],
             [
              0.3333333333333333,
              "#9c179e"
             ],
             [
              0.4444444444444444,
              "#bd3786"
             ],
             [
              0.5555555555555556,
              "#d8576b"
             ],
             [
              0.6666666666666666,
              "#ed7953"
             ],
             [
              0.7777777777777778,
              "#fb9f3a"
             ],
             [
              0.8888888888888888,
              "#fdca26"
             ],
             [
              1,
              "#f0f921"
             ]
            ],
            "type": "contour"
           }
          ],
          "contourcarpet": [
           {
            "colorbar": {
             "outlinewidth": 0,
             "ticks": ""
            },
            "type": "contourcarpet"
           }
          ],
          "heatmap": [
           {
            "colorbar": {
             "outlinewidth": 0,
             "ticks": ""
            },
            "colorscale": [
             [
              0,
              "#0d0887"
             ],
             [
              0.1111111111111111,
              "#46039f"
             ],
             [
              0.2222222222222222,
              "#7201a8"
             ],
             [
              0.3333333333333333,
              "#9c179e"
             ],
             [
              0.4444444444444444,
              "#bd3786"
             ],
             [
              0.5555555555555556,
              "#d8576b"
             ],
             [
              0.6666666666666666,
              "#ed7953"
             ],
             [
              0.7777777777777778,
              "#fb9f3a"
             ],
             [
              0.8888888888888888,
              "#fdca26"
             ],
             [
              1,
              "#f0f921"
             ]
            ],
            "type": "heatmap"
           }
          ],
          "histogram": [
           {
            "marker": {
             "pattern": {
              "fillmode": "overlay",
              "size": 10,
              "solidity": 0.2
             }
            },
            "type": "histogram"
           }
          ],
          "histogram2d": [
           {
            "colorbar": {
             "outlinewidth": 0,
             "ticks": ""
            },
            "colorscale": [
             [
              0,
              "#0d0887"
             ],
             [
              0.1111111111111111,
              "#46039f"
             ],
             [
              0.2222222222222222,
              "#7201a8"
             ],
             [
              0.3333333333333333,
              "#9c179e"
             ],
             [
              0.4444444444444444,
              "#bd3786"
             ],
             [
              0.5555555555555556,
              "#d8576b"
             ],
             [
              0.6666666666666666,
              "#ed7953"
             ],
             [
              0.7777777777777778,
              "#fb9f3a"
             ],
             [
              0.8888888888888888,
              "#fdca26"
             ],
             [
              1,
              "#f0f921"
             ]
            ],
            "type": "histogram2d"
           }
          ],
          "histogram2dcontour": [
           {
            "colorbar": {
             "outlinewidth": 0,
             "ticks": ""
            },
            "colorscale": [
             [
              0,
              "#0d0887"
             ],
             [
              0.1111111111111111,
              "#46039f"
             ],
             [
              0.2222222222222222,
              "#7201a8"
             ],
             [
              0.3333333333333333,
              "#9c179e"
             ],
             [
              0.4444444444444444,
              "#bd3786"
             ],
             [
              0.5555555555555556,
              "#d8576b"
             ],
             [
              0.6666666666666666,
              "#ed7953"
             ],
             [
              0.7777777777777778,
              "#fb9f3a"
             ],
             [
              0.8888888888888888,
              "#fdca26"
             ],
             [
              1,
              "#f0f921"
             ]
            ],
            "type": "histogram2dcontour"
           }
          ],
          "mesh3d": [
           {
            "colorbar": {
             "outlinewidth": 0,
             "ticks": ""
            },
            "type": "mesh3d"
           }
          ],
          "parcoords": [
           {
            "line": {
             "colorbar": {
              "outlinewidth": 0,
              "ticks": ""
             }
            },
            "type": "parcoords"
           }
          ],
          "pie": [
           {
            "automargin": true,
            "type": "pie"
           }
          ],
          "scatter": [
           {
            "fillpattern": {
             "fillmode": "overlay",
             "size": 10,
             "solidity": 0.2
            },
            "type": "scatter"
           }
          ],
          "scatter3d": [
           {
            "line": {
             "colorbar": {
              "outlinewidth": 0,
              "ticks": ""
             }
            },
            "marker": {
             "colorbar": {
              "outlinewidth": 0,
              "ticks": ""
             }
            },
            "type": "scatter3d"
           }
          ],
          "scattercarpet": [
           {
            "marker": {
             "colorbar": {
              "outlinewidth": 0,
              "ticks": ""
             }
            },
            "type": "scattercarpet"
           }
          ],
          "scattergeo": [
           {
            "marker": {
             "colorbar": {
              "outlinewidth": 0,
              "ticks": ""
             }
            },
            "type": "scattergeo"
           }
          ],
          "scattergl": [
           {
            "marker": {
             "colorbar": {
              "outlinewidth": 0,
              "ticks": ""
             }
            },
            "type": "scattergl"
           }
          ],
          "scattermap": [
           {
            "marker": {
             "colorbar": {
              "outlinewidth": 0,
              "ticks": ""
             }
            },
            "type": "scattermap"
           }
          ],
          "scattermapbox": [
           {
            "marker": {
             "colorbar": {
              "outlinewidth": 0,
              "ticks": ""
             }
            },
            "type": "scattermapbox"
           }
          ],
          "scatterpolar": [
           {
            "marker": {
             "colorbar": {
              "outlinewidth": 0,
              "ticks": ""
             }
            },
            "type": "scatterpolar"
           }
          ],
          "scatterpolargl": [
           {
            "marker": {
             "colorbar": {
              "outlinewidth": 0,
              "ticks": ""
             }
            },
            "type": "scatterpolargl"
           }
          ],
          "scatterternary": [
           {
            "marker": {
             "colorbar": {
              "outlinewidth": 0,
              "ticks": ""
             }
            },
            "type": "scatterternary"
           }
          ],
          "surface": [
           {
            "colorbar": {
             "outlinewidth": 0,
             "ticks": ""
            },
            "colorscale": [
             [
              0,
              "#0d0887"
             ],
             [
              0.1111111111111111,
              "#46039f"
             ],
             [
              0.2222222222222222,
              "#7201a8"
             ],
             [
              0.3333333333333333,
              "#9c179e"
             ],
             [
              0.4444444444444444,
              "#bd3786"
             ],
             [
              0.5555555555555556,
              "#d8576b"
             ],
             [
              0.6666666666666666,
              "#ed7953"
             ],
             [
              0.7777777777777778,
              "#fb9f3a"
             ],
             [
              0.8888888888888888,
              "#fdca26"
             ],
             [
              1,
              "#f0f921"
             ]
            ],
            "type": "surface"
           }
          ],
          "table": [
           {
            "cells": {
             "fill": {
              "color": "#EBF0F8"
             },
             "line": {
              "color": "white"
             }
            },
            "header": {
             "fill": {
              "color": "#C8D4E3"
             },
             "line": {
              "color": "white"
             }
            },
            "type": "table"
           }
          ]
         },
         "layout": {
          "annotationdefaults": {
           "arrowcolor": "#2a3f5f",
           "arrowhead": 0,
           "arrowwidth": 1
          },
          "autotypenumbers": "strict",
          "coloraxis": {
           "colorbar": {
            "outlinewidth": 0,
            "ticks": ""
           }
          },
          "colorscale": {
           "diverging": [
            [
             0,
             "#8e0152"
            ],
            [
             0.1,
             "#c51b7d"
            ],
            [
             0.2,
             "#de77ae"
            ],
            [
             0.3,
             "#f1b6da"
            ],
            [
             0.4,
             "#fde0ef"
            ],
            [
             0.5,
             "#f7f7f7"
            ],
            [
             0.6,
             "#e6f5d0"
            ],
            [
             0.7,
             "#b8e186"
            ],
            [
             0.8,
             "#7fbc41"
            ],
            [
             0.9,
             "#4d9221"
            ],
            [
             1,
             "#276419"
            ]
           ],
           "sequential": [
            [
             0,
             "#0d0887"
            ],
            [
             0.1111111111111111,
             "#46039f"
            ],
            [
             0.2222222222222222,
             "#7201a8"
            ],
            [
             0.3333333333333333,
             "#9c179e"
            ],
            [
             0.4444444444444444,
             "#bd3786"
            ],
            [
             0.5555555555555556,
             "#d8576b"
            ],
            [
             0.6666666666666666,
             "#ed7953"
            ],
            [
             0.7777777777777778,
             "#fb9f3a"
            ],
            [
             0.8888888888888888,
             "#fdca26"
            ],
            [
             1,
             "#f0f921"
            ]
           ],
           "sequentialminus": [
            [
             0,
             "#0d0887"
            ],
            [
             0.1111111111111111,
             "#46039f"
            ],
            [
             0.2222222222222222,
             "#7201a8"
            ],
            [
             0.3333333333333333,
             "#9c179e"
            ],
            [
             0.4444444444444444,
             "#bd3786"
            ],
            [
             0.5555555555555556,
             "#d8576b"
            ],
            [
             0.6666666666666666,
             "#ed7953"
            ],
            [
             0.7777777777777778,
             "#fb9f3a"
            ],
            [
             0.8888888888888888,
             "#fdca26"
            ],
            [
             1,
             "#f0f921"
            ]
           ]
          },
          "colorway": [
           "#636efa",
           "#EF553B",
           "#00cc96",
           "#ab63fa",
           "#FFA15A",
           "#19d3f3",
           "#FF6692",
           "#B6E880",
           "#FF97FF",
           "#FECB52"
          ],
          "font": {
           "color": "#2a3f5f"
          },
          "geo": {
           "bgcolor": "white",
           "lakecolor": "white",
           "landcolor": "#E5ECF6",
           "showlakes": true,
           "showland": true,
           "subunitcolor": "white"
          },
          "hoverlabel": {
           "align": "left"
          },
          "hovermode": "closest",
          "mapbox": {
           "style": "light"
          },
          "paper_bgcolor": "white",
          "plot_bgcolor": "#E5ECF6",
          "polar": {
           "angularaxis": {
            "gridcolor": "white",
            "linecolor": "white",
            "ticks": ""
           },
           "bgcolor": "#E5ECF6",
           "radialaxis": {
            "gridcolor": "white",
            "linecolor": "white",
            "ticks": ""
           }
          },
          "scene": {
           "xaxis": {
            "backgroundcolor": "#E5ECF6",
            "gridcolor": "white",
            "gridwidth": 2,
            "linecolor": "white",
            "showbackground": true,
            "ticks": "",
            "zerolinecolor": "white"
           },
           "yaxis": {
            "backgroundcolor": "#E5ECF6",
            "gridcolor": "white",
            "gridwidth": 2,
            "linecolor": "white",
            "showbackground": true,
            "ticks": "",
            "zerolinecolor": "white"
           },
           "zaxis": {
            "backgroundcolor": "#E5ECF6",
            "gridcolor": "white",
            "gridwidth": 2,
            "linecolor": "white",
            "showbackground": true,
            "ticks": "",
            "zerolinecolor": "white"
           }
          },
          "shapedefaults": {
           "line": {
            "color": "#2a3f5f"
           }
          },
          "ternary": {
           "aaxis": {
            "gridcolor": "white",
            "linecolor": "white",
            "ticks": ""
           },
           "baxis": {
            "gridcolor": "white",
            "linecolor": "white",
            "ticks": ""
           },
           "bgcolor": "#E5ECF6",
           "caxis": {
            "gridcolor": "white",
            "linecolor": "white",
            "ticks": ""
           }
          },
          "title": {
           "x": 0.05
          },
          "xaxis": {
           "automargin": true,
           "gridcolor": "white",
           "linecolor": "white",
           "ticks": "",
           "title": {
            "standoff": 15
           },
           "zerolinecolor": "white",
           "zerolinewidth": 2
          },
          "yaxis": {
           "automargin": true,
           "gridcolor": "white",
           "linecolor": "white",
           "ticks": "",
           "title": {
            "standoff": 15
           },
           "zerolinecolor": "white",
           "zerolinewidth": 2
          }
         }
        }
       }
      }
     },
     "metadata": {},
     "output_type": "display_data"
    }
   ],
   "source": [
    "fig1.add_vline(x=media, line_dash=\"dash\", line_color=\"orange\",\n",
    "              annotation_text=f\"Media: {media:.2f}\")"
   ]
  },
  {
   "cell_type": "markdown",
   "id": "8205fd3a",
   "metadata": {},
   "source": [
    "#### Paso 4: Configurar Layout del Gráfico\n",
    "\n",
    "Se ajustan títulos, etiquetas y leyendas para mejorar la legibilidad.\n",
    "\n",
    "---"
   ]
  },
  {
   "cell_type": "code",
   "execution_count": 25,
   "id": "9bab39b0",
   "metadata": {},
   "outputs": [
    {
     "data": {
      "image/png": "[encoded data removed]"
     },
     "metadata": {},
     "output_type": "display_data"
    }
   ],
   "source": [
    "fig1.update_layout(\n",
    "    title='Distribución de Score con Curva Normal',\n",
    "    xaxis_title='Calificación',\n",
    "    yaxis_title='Densidad',\n",
    "    height=500\n",
    ")\n",
    "fig1.show()"
   ]
  },
  {
   "cell_type": "markdown",
   "id": "e96903d3",
   "metadata": {},
   "source": [
    "### 5.2 Distribución por Tipo de Anime\n",
    "\n",
    "**Objetivo:** Ver qué formatos dominan el dataset.\n",
    "\n",
    "**Tipos de anime:**\n",
    "- **TV:** Series televisivas (12-24+ episodios)\n",
    "- **Movie:** Películas cinematográficas (90-120 min)\n",
    "- **OVA:** Original Video Animation (directo a video/DVD)\n",
    "- **ONA:** Original Net Animation (web-exclusive, streaming)\n",
    "- **Special:** Episodios especiales\n",
    "- **Music:** Videos musicales\n",
    "\n",
    "**Expectativa:** TV debería dominar (es el formato más común en la industria).\n",
    "\n",
    "---"
   ]
  },
  {
   "cell_type": "code",
   "execution_count": 26,
   "id": "2ff07453",
   "metadata": {},
   "outputs": [],
   "source": [
    "type_counts = df['type'].value_counts()  # Contar frecuencia de cada tipo\n",
    "df_type = pd.DataFrame({'type': type_counts.index, 'count': type_counts.values})"
   ]
  },
  {
   "cell_type": "markdown",
   "id": "f3134be1",
   "metadata": {},
   "source": [
    "#### Visualización: Gráfico de Torta (Pie Chart)\n",
    "\n",
    "**Muestra:** Proporción de cada tipo en el dataset total.\n",
    "\n",
    "**Interpretación:** El tamaño de cada sector representa el % de anime en ese formato.\n",
    "\n",
    "---"
   ]
  },
  {
   "cell_type": "code",
   "execution_count": 27,
   "id": "0ec86217",
   "metadata": {},
   "outputs": [
    {
     "data": {
      "image/png": "[encoded data removed]"
     },
     "metadata": {},
     "output_type": "display_data"
    }
   ],
   "source": [
    "fig2 = px.pie(\n",
    "    df_type,\n",
    "    values='count',\n",
    "    names='type',\n",
    "    title='Distribución por Tipo de Anime',\n",
    "    color_discrete_sequence=px.colors.sequential.Blues_r\n",
    ")\n",
    "fig2.update_traces(\n",
    "    textposition='inside',\n",
    "    textinfo='percent+label',\n",
    "    marker=dict(line=dict(color='white', width=2))\n",
    ")\n",
    "fig2.update_layout(height=600)\n",
    "fig2.show()\n",
    "\n",
    "print(\"Distribución por Tipo:\")\n",
    "print(type_counts)"
   ]
  },
  {
   "cell_type": "markdown",
   "id": "27cd2106",
   "metadata": {},
   "source": [
    "### 5.3 Distribución por Categoría de Género\n",
    "\n",
    "**Objetivo:** Identificar qué categorías temáticas son más comunes.\n",
    "\n",
    "**Nota importante:** Como usamos dataset expandido (`df_categorias`), un anime puede aparecer en múltiples categorías.\n",
    "\n",
    "**Métricas:**\n",
    "- **Frecuencia absoluta:** Cantidad de asignaciones por categoría\n",
    "- **Frecuencia relativa:** Porcentaje del total de asignaciones\n",
    "\n",
    "**Expectativa:** \"Acción y Aventura\" y \"Fantásticos\" probablemente dominen (géneros mainstream).\n",
    "\n",
    "---"
   ]
  },
  {
   "cell_type": "code",
   "execution_count": 28,
   "id": "63c560d6",
   "metadata": {},
   "outputs": [],
   "source": [
    "cat_counts = df_categorias['categoria'].value_counts()  # Contar frecuencia de categorias\n",
    "df_cat = pd.DataFrame({'categoria': cat_counts.index, 'count': cat_counts.values})"
   ]
  },
  {
   "cell_type": "markdown",
   "id": "bfc9485c",
   "metadata": {},
   "source": [
    "### 5.4 Cantidad de Categorías por Anime\n",
    "\n",
    "**Objetivo:** Ver cuántas categorías tiene cada anime en promedio.\n",
    "\n",
    "**Proceso:**\n",
    "1. Agrupar por `anime_id`\n",
    "2. Contar cuántas categorías tiene cada uno\n",
    "3. Calcular distribución de frecuencias\n",
    "\n",
    "**Interpretación:**\n",
    "- **Promedio esperado:** 2-2.5 categorías por anime\n",
    "- **Mínimo:** 1 categoría (anime de un solo género)\n",
    "- **Máximo:** 4-5 categorías (anime muy ecléctico)\n",
    "\n",
    "**Implicación:** La mayoría de los anime son **multi-género**, justificando el uso de dataset expandido.\n",
    "\n",
    "---"
   ]
  },
  {
   "cell_type": "code",
   "execution_count": 29,
   "id": "30b6f0db",
   "metadata": {},
   "outputs": [],
   "source": [
    "conteo_num_cat = df['num_categorias'].value_counts().sort_index()  # Contar y ordenar\n",
    "df_num_cat = pd.DataFrame({\n",
    "    'Cantidad': conteo_num_cat.index,\n",
    "    'Frecuencia': conteo_num_cat.values\n",
    "})\n"
   ]
  },
  {
   "cell_type": "code",
   "execution_count": 30,
   "id": "902bc0e5",
   "metadata": {},
   "outputs": [
    {
     "data": {
      "image/png": "[encoded data removed]"
     },
     "metadata": {},
     "output_type": "display_data"
    }
   ],
   "source": [
    "fig3 = px.pie(\n",
    "    df_cat,\n",
    "    values='count',\n",
    "    names='categoria',\n",
    "    title='Distribución por Categoría de Género',\n",
    "    )\n",
    "\n",
    "fig3.update_traces(\n",
    "    textposition='inside',\n",
    "    textinfo='percent+label',\n",
    "    textfont_size=11,\n",
    "    marker=dict(line=dict(color='white', width=2))\n",
    ")\n",
    "\n",
    "fig3.show()\n",
    "\n",
    "print(\"\\nDistribución por Categoría:\")\n",
    "print(cat_counts)"
   ]
  },
  {
   "cell_type": "markdown",
   "id": "82024ce9",
   "metadata": {},
   "source": [
    "#### Visualización: Gráfico de Barras\n",
    "\n",
    "**Muestra:** Distribución de frecuencias (1 categoría, 2 categorías, 3+ categorías).\n",
    "\n",
    "---"
   ]
  },
  {
   "cell_type": "code",
   "execution_count": 31,
   "id": "06aeee03",
   "metadata": {},
   "outputs": [
    {
     "data": {
      "image/png": "[encoded data removed]"
     },
     "metadata": {},
     "output_type": "display_data"
    }
   ],
   "source": [
    "fig4 = px.bar(\n",
    "    df_num_cat,\n",
    "    x='Cantidad',\n",
    "    y='Frecuencia',\n",
    "    title='Cantidad de Categorías por Anime',\n",
    "    color= 'Cantidad',\n",
    "    color_continuous_scale='Blues'\n",
    ")\n",
    "fig4.show()\n"
   ]
  },
  {
   "cell_type": "markdown",
   "id": "a4f5655a",
   "metadata": {},
   "source": [
    "## 📈 6. Análisis Bivariado: Relaciones Entre Variables\n",
    "\n",
    "### Objetivo\n",
    "\n",
    "Explorar cómo **dos variables se relacionan** entre sí:\n",
    "1. **Type → Score:** ¿El formato afecta las calificaciones?\n",
    "2. **Categoría → Score:** ¿Ciertos géneros obtienen mejores scores?\n",
    "\n",
    "### Herramientas de Análisis\n",
    "\n",
    "| Visualización | Propósito |\n",
    "|---------------|----------|\n",
    "| **Gráfico de Barras** | Comparar score promedio entre grupos |\n",
    "| **Boxplot** | Ver distribución completa (mediana, cuartiles, outliers) |\n",
    "| **Violin Plot** | Combinación de boxplot + densidad de distribución |\n",
    "\n",
    "**Nota:** Aquí analizamos efectos **independientes**. Las interacciones Type×Categoría se exploran en la siguiente sección.\n",
    "\n",
    "---"
   ]
  },
  {
   "cell_type": "code",
   "execution_count": 32,
   "id": "58a95670",
   "metadata": {},
   "outputs": [],
   "source": [
    "score_por_tipo = (\n",
    "    df.groupby('type', as_index=False)\n",
    "      .agg(score_promedio=('score','mean'),\n",
    "           cantidad=('score','count'),\n",
    "           desviacion=('score','std'))\n",
    "      .sort_values('score_promedio', ascending=False)\n",
    ")\n"
   ]
  },
  {
   "cell_type": "markdown",
   "id": "79022b3c",
   "metadata": {},
   "source": [
    "#### Visualización: Gráfico de Barras\n",
    "\n",
    "**Muestra:** Distribución de frecuencias (1 categoría, 2 categorías, 3+ categorías).\n",
    "\n",
    "---"
   ]
  },
  {
   "cell_type": "code",
   "execution_count": 33,
   "id": "27526f02",
   "metadata": {},
   "outputs": [
    {
     "data": {
      "image/png": "[encoded data removed]"
     },
     "metadata": {},
     "output_type": "display_data"
    }
   ],
   "source": [
    "fig5 = px.bar(\n",
    "    score_por_tipo,\n",
    "    x='score_promedio',\n",
    "    y='type',\n",
    "    orientation='h',\n",
    "    title='Score Promedio por Tipo',\n",
    "    color='score_promedio',\n",
    "    color_continuous_scale='RdYlGn',  # Escala de colores rojo-amarillo-verde\n",
    "    hover_data=['cantidad']  # Mostrar cantidad en hover\n",
    ")\n",
    "fig5.update_layout(height=500, yaxis={'categoryorder': 'total ascending'})\n",
    "fig5.show()\n",
    "\n",
    "print(\"\\n--- Score por Tipo ---\")\n",
    "print(score_por_tipo[['type', 'score_promedio', 'cantidad']])"
   ]
  },
  {
   "cell_type": "markdown",
   "id": "c671584e",
   "metadata": {},
   "source": [
    "### 6.1 Boxplot: Score vs Type\n",
    "\n",
    "**Objetivo:** Visualizar la distribución **completa** de scores por formato, no solo el promedio.\n",
    "\n",
    "**Elementos del Boxplot:**\n",
    "- **Caja:** Contiene el 50% central de los datos (Q1 a Q3)\n",
    "- **Línea central:** Mediana (Q2)\n",
    "- **Bigotes:** Se extienden hasta 1.5×IQR\n",
    "- **Puntos aislados:** Outliers (valores excepcionales)\n",
    "\n",
    "**Interpretación:**\n",
    "- **Caja más alta:** Scores generalmente mejores\n",
    "- **Caja más estrecha:** Scores más consistentes (menos variabilidad)\n",
    "- **Muchos outliers arriba:** Formato produce masterpieces\n",
    "\n",
    "---"
   ]
  },
  {
   "cell_type": "code",
   "execution_count": 34,
   "id": "06838ba9",
   "metadata": {},
   "outputs": [
    {
     "data": {
      "image/png": "[encoded data removed]"
     },
     "metadata": {},
     "output_type": "display_data"
    }
   ],
   "source": [
    "fig6 = px.box(\n",
    "    df,\n",
    "    x='type',\n",
    "    y='score',\n",
    "    color='type',\n",
    "    title='Distribución de Score por Tipo',\n",
    "    points='outliers',  # Mostrar solo outliers\n",
    "    color_discrete_sequence=px.colors.qualitative.Set2\n",
    ")\n",
    "fig6.update_layout(height=600)\n",
    "fig6.update_xaxes(tickangle=45)  # Rotar etiquetas del eje X\n",
    "fig6.show()\n"
   ]
  },
  {
   "cell_type": "markdown",
   "id": "ea625349",
   "metadata": {},
   "source": [
    "### 6.2 Score Promedio por Categoría de Género\n",
    "\n",
    "**Objetivo:** Identificar qué categorías temáticas obtienen mejores calificaciones en promedio.\n",
    "\n",
    "**Pregunta de investigación:**\n",
    "- ¿\"Misterio\" tiene scores más altos que \"Comedia\"?\n",
    "- ¿Géneros nicho (con audiencias selectas) tienen mejor rendimiento?\n",
    "\n",
    "**Hipótesis:**\n",
    "- **Géneros nicho** (Mystery, Horror) → Scores más altos (autoselección de fans)\n",
    "- **Géneros mainstream** (Acción, Comedia) → Scores más dispersos (audiencia amplia)\n",
    "\n",
    "---"
   ]
  },
  {
   "cell_type": "code",
   "execution_count": 35,
   "id": "a6d0331e",
   "metadata": {},
   "outputs": [],
   "source": [
    "score_por_cat = df_categorias.groupby('categoria').agg({\n",
    "    'score': ['mean', 'count', 'std']\n",
    "}).reset_index()\n",
    "score_por_cat.columns = ['categoria', 'score_promedio', 'cantidad', 'desviacion']\n",
    "score_por_cat = score_por_cat.sort_values('score_promedio', ascending=False)"
   ]
  },
  {
   "cell_type": "code",
   "execution_count": 36,
   "id": "3ac0b1a7",
   "metadata": {},
   "outputs": [
    {
     "data": {
      "image/png": "[encoded data removed]"
     },
     "metadata": {},
     "output_type": "display_data"
    }
   ],
   "source": [
    "fig7 = px.bar(\n",
    "    score_por_cat,\n",
    "    x='score_promedio',\n",
    "    y='categoria',\n",
    "    orientation='h',\n",
    "    title='Score Promedio por Categoría de Género',\n",
    "    color='score_promedio',\n",
    "    color_continuous_scale='RdYlGn',\n",
    "    hover_data=['cantidad']\n",
    ")\n",
    "fig7.update_layout(height=500, yaxis={'categoryorder': 'total ascending'})\n",
    "fig7.show()\n",
    "\n",
    "print(\"\\nScore por Categoría\")\n",
    "print(score_por_cat[['categoria', 'score_promedio', 'cantidad']])"
   ]
  },
  {
   "cell_type": "markdown",
   "id": "f5abb353",
   "metadata": {},
   "source": [
    "### 6.3 Boxplot: Score vs Categoría\n",
    "\n",
    "**Objetivo:** Comparar la distribución completa de scores entre categorías temáticas.\n",
    "\n",
    "**Análisis comparativo:**\n",
    "- **Posición vertical:** ¿Qué categoría tiene mediana más alta?\n",
    "- **Ancho de la caja:** ¿Qué categoría tiene scores más consistentes?\n",
    "- **Outliers:** ¿Qué categoría produce más masterpieces?\n",
    "\n",
    "**Hallazgo esperado:** Categorías como \"Misterio\" y \"Fantásticos\" deberían mostrar cajas más altas que \"Comedia\" o \"Íntimos\".\n",
    "\n",
    "---"
   ]
  },
  {
   "cell_type": "code",
   "execution_count": 37,
   "id": "a3d9150c",
   "metadata": {},
   "outputs": [
    {
     "data": {
      "image/png": "[encoded data removed]"
     },
     "metadata": {},
     "output_type": "display_data"
    }
   ],
   "source": [
    "fig8 = px.box(\n",
    "    df_categorias,\n",
    "    x='categoria',\n",
    "    y='score',\n",
    "    color='categoria',\n",
    "    title='Distribución de Score por Categoría',\n",
    "    points='outliers',  # Mostrar outliers\n",
    "    color_discrete_sequence=px.colors.qualitative.Pastel\n",
    ")\n",
    "fig8.update_layout(height=600)\n",
    "fig8.update_xaxes(tickangle=45)\n",
    "fig8.show()"
   ]
  },
  {
   "cell_type": "markdown",
   "id": "9bf2c81a",
   "metadata": {},
   "source": [
    "## 🔀 7. Análisis Multivariado: Interacciones\n",
    "\n",
    "### Objetivo\n",
    "\n",
    "Investigar si **Type y Categoría interactúan**, es decir:\n",
    "- ¿El efecto del Type depende de la Categoría?\n",
    "- ¿Ciertas combinaciones Type×Categoría son mejores que otras?\n",
    "\n",
    "### Modelo Conceptual\n",
    "\n",
    "**Efectos Aditivos (independientes):**\n",
    "```\n",
    "Score = Base + Efecto_Type + Efecto_Categoría\n",
    "```\n",
    "\n",
    "**Efectos con Interacción:**\n",
    "```\n",
    "Score = Base + Efecto_Type + Efecto_Categoría + Interacción_Type×Categoría\n",
    "```\n",
    "\n",
    "**Si hay interacción:** Algunas combinaciones específicas (ej. Movie+Misterio) funcionan mejor de lo esperado.\n",
    "\n",
    "---"
   ]
  },
  {
   "cell_type": "markdown",
   "id": "46b04790",
   "metadata": {},
   "source": [
    "### 7.1 Análisis Type × Categoría vs Score\n",
    "\n",
    "**Objetivo:** Calcular el score promedio para cada combinación posible de Type y Categoría.\n",
    "\n",
    "**Dimensiones del análisis:**\n",
    "- **Filas:** Types (TV, Movie, OVA, ONA) = 4 tipos\n",
    "- **Columnas:** Categorías = 6 categorías\n",
    "- **Total de celdas:** 4 × 6 = 24 combinaciones\n",
    "\n",
    "**Resultado:** Tabla pivote con score promedio en cada celda.\n",
    "\n",
    "---"
   ]
  },
  {
   "cell_type": "code",
   "execution_count": 38,
   "id": "d8436172",
   "metadata": {},
   "outputs": [],
   "source": [
    "score_tipo_cat = df_categorias.groupby(['type', 'categoria']).agg({\n",
    "    'score': ['mean', 'count']\n",
    "}).reset_index()\n",
    "score_tipo_cat.columns = ['type', 'categoria', 'score_promedio', 'cantidad']"
   ]
  },
  {
   "cell_type": "markdown",
   "id": "5d2fe152",
   "metadata": {},
   "source": [
    "#### Creación de Tabla Pivote\n",
    "\n",
    "**Proceso:**\n",
    "1. Agrupar por `type` y `categoria`\n",
    "2. Calcular score promedio para cada grupo\n",
    "3. Reorganizar en formato pivote (filas=type, columnas=categoría)\n",
    "\n",
    "**Resultado:** Matriz de 4×6 con scores promedio.\n",
    "\n",
    "**Ejemplo de celda:**\n",
    "- `[TV, Misterio]` = 7.11 → Score promedio de anime que son TV y de categoría Misterio\n",
    "\n",
    "---"
   ]
  },
  {
   "cell_type": "code",
   "execution_count": 39,
   "id": "f1e84227",
   "metadata": {},
   "outputs": [],
   "source": [
    "pivot_table = score_tipo_cat.pivot(\n",
    "    index='type',  \n",
    "    columns='categoria',  \n",
    "    values='score_promedio'  \n",
    ")"
   ]
  },
  {
   "cell_type": "markdown",
   "id": "48657713",
   "metadata": {},
   "source": [
    "### 7.2 Heatmap: Type × Categoría → Score\n",
    "\n",
    "**Objetivo:** Visualizar la tabla pivote como un **mapa de calor** para identificar rápidamente patrones.\n",
    "\n",
    "**Interpretación del color:**\n",
    "- **Colores cálidos (rojo, naranja):** Scores altos → Combinaciones exitosas\n",
    "- **Colores fríos (azul, verde):** Scores bajos → Combinaciones problemáticas\n",
    "\n",
    "**Patrones a buscar:**\n",
    "\n",
    "1. **Hot Spots (celdas rojas):**\n",
    "   - Combinaciones con **sinergia positiva**\n",
    "   - Ejemplo: Movie+Misterio = 7.11\n",
    "\n",
    "2. **Cold Spots (celdas azules):**\n",
    "   - Combinaciones con **anti-sinergia**\n",
    "   - Ejemplo: ONA+Íntimos = 5.56\n",
    "\n",
    "3. **Fila completa roja/azul:**\n",
    "   - Dominancia de un Type en todas las categorías\n",
    "\n",
    "4. **Columna completa roja/azul:**\n",
    "   - Dominancia de una Categoría en todos los formatos\n",
    "\n",
    "**Implicación estratégica:** No basta elegir \"buen Type\" + \"buena Categoría\". La **combinación específica** importa.\n",
    "\n",
    "---"
   ]
  },
  {
   "cell_type": "code",
   "execution_count": 40,
   "id": "769dbe84",
   "metadata": {},
   "outputs": [
    {
     "data": {
      "image/png": "[encoded data removed]"
     },
     "metadata": {},
     "output_type": "display_data"
    }
   ],
   "source": [
    "fig9 = px.imshow(\n",
    "    pivot_table,\n",
    "    labels=dict(x=\"Categoría\", y=\"Tipo\", color=\"Score Promedio\"),\n",
    "    title='Heatmap: Score por Tipo × Categoría de Género',\n",
    "    color_continuous_scale='RdYlGn',  \n",
    "    aspect='auto',\n",
    "    text_auto='.2f'  \n",
    ")\n",
    "fig9.update_layout(height=600)\n",
    "fig9.show()\n",
    "\n",
    "print(\"\\nMatriz Tipo × Categoría\")\n",
    "print(pivot_table)\n"
   ]
  },
  {
   "cell_type": "markdown",
   "id": "df9f3dc4",
   "metadata": {},
   "source": [
    "Heatmap de el porccentaje de putlier estadisticos que hay en las combinaciones de categoria de generos x tipo"
   ]
  },
  {
   "cell_type": "code",
   "execution_count": 41,
   "id": "e27c1d0a",
   "metadata": {},
   "outputs": [
    {
     "data": {
      "image/png": "[encoded data removed]"
     },
     "metadata": {},
     "output_type": "display_data"
    }
   ],
   "source": [
    "\n",
    "\n",
    "# Calcular límites IQR\n",
    "Q1 = df['score'].quantile(0.25)\n",
    "Q3 = df['score'].quantile(0.75)\n",
    "IQR = Q3 - Q1\n",
    "limite_inferior = Q1 - 1.5 * IQR\n",
    "limite_superior = Q3 + 1.5 * IQR\n",
    "\n",
    "# Identificar outliers\n",
    "df['es_outlier'] = ((df['score'] < limite_inferior) | (df['score'] > limite_superior))\n",
    "\n",
    "# Agregar al dataset expandido\n",
    "df_categorias_outliers = df_categorias.merge(df[['name', 'es_outlier']], on='name', how='left')\n",
    "\n",
    "# Filtrar outliers\n",
    "outliers_df = df_categorias_outliers[df_categorias_outliers['es_outlier'] == True]\n",
    "\n",
    "# Contar outliers por tipo y categoría\n",
    "outlier_counts = outliers_df.groupby(['type', 'categoria']).size().reset_index(name='count')\n",
    "\n",
    "# Crear tabla pivote\n",
    "pivot_frecuencia = outlier_counts.pivot(index='type', columns='categoria', values='count').fillna(0)\n",
    "\n",
    "# Calcular porcentajes\n",
    "TOTAL_OUTLIERS = len(outliers_df)\n",
    "pivot_porcentaje = (pivot_frecuencia / TOTAL_OUTLIERS * 100).round(2)\n",
    "\n",
    "# Graficar\n",
    "fig_outliers = px.imshow(\n",
    "    pivot_porcentaje,\n",
    "    labels=dict(x=\"Categoría\", y=\"Tipo\", color=\"% del Total\"),\n",
    "    title=f'Distribución de Outliers: % del Total',\n",
    "    color_continuous_scale='YlOrRd',\n",
    "    text_auto='.1f'\n",
    ")\n",
    "fig_outliers.update_layout(height=700, xaxis_tickangle=45)\n",
    "fig_outliers.show()"
   ]
  },
  {
   "cell_type": "markdown",
   "id": "barras_agrupadas_explicacion",
   "metadata": {},
   "source": [
    "### 7.2 Gráfico de Barras Agrupadas: Score por Categoría × Tipo\n",
    "\n",
    "**Objetivo:** Comparar el score promedio de cada categoría, agrupado por formato (Type).\n",
    "\n",
    "**Diferencia con el Heatmap:**\n",
    "\n",
    "| Característica | Heatmap | Barras Agrupadas |\n",
    "|---------------|---------|------------------|\n",
    "| **Visualización** | Matriz de colores | Barras lado a lado |\n",
    "| **Facilidad de comparación** | Difícil comparar valores exactos | Fácil ver diferencias de altura |\n",
    "| **Información mostrada** | Todas las combinaciones | Solo types principales |\n",
    "| **Mejor para** | Ver patrones generales | Comparar categorías dentro de un type |\n",
    "\n",
    "### Estructura del Gráfico\n",
    "\n",
    "- **Eje X:** Categorías temáticas (6 grupos)\n",
    "- **Eje Y:** Score promedio (0-10)\n",
    "- **Colores:** Cada color representa un Type diferente (TV, Movie, OVA, ONA)\n",
    "- **Agrupación:** Dentro de cada categoría, se muestran 4 barras (una por type)\n",
    "\n",
    "### Cómo Leerlo\n",
    "\n",
    "**1. Comparar dentro de una categoría:**\n",
    "```\n",
    "Pregunta: En \"Misterio y Terror\", ¿qué formato tiene mejor score?\n",
    "Respuesta: La barra más alta dentro del grupo \"🧩 Misterio y Terror\"\n",
    "```\n",
    "\n",
    "**2. Comparar un type entre categorías:**\n",
    "```\n",
    "Pregunta: ¿En qué categoría funcionan mejor las Movies?\n",
    "Respuesta: Seguir las barras de color \"Movie\" - la más alta es la ganadora\n",
    "```\n",
    "\n",
    "**3. Identificar patrones de formato:**\n",
    "```\n",
    "Pregunta: ¿TV siempre supera a ONA?\n",
    "Respuesta: Comparar sistemáticamente barras TV vs ONA en cada categoría\n",
    "```\n",
    "\n",
    "### Ventajas de este Gráfico\n",
    "\n",
    "✅ **Comparaciones directas** más fáciles que en el heatmap  \n",
    "✅ **Valores exactos** visibles en el eje Y  \n",
    "✅ **Menos sobrecarga visual** (solo 4 types vs ~10 en el dataset completo)  \n",
    "✅ **Complementa al heatmap** mostrando la misma info de forma diferente  \n",
    "\n",
    "### Insights Esperados\n",
    "\n",
    "**Hipótesis a verificar:**\n",
    "1. **TV domina en la mayoría de categorías** (barras TV son las más altas)\n",
    "2. **ONA tiene las barras más bajas** (formato menos prestigioso)\n",
    "3. **Movie destaca en categorías cinematográficas** (Misterio, Fantásticos)\n",
    "4. **Íntimos tiene barras consistentemente bajas** en todos los formats\n",
    "\n",
    "**Nota:** Solo se muestran los 4 types principales (TV, Movie, OVA, ONA) para mejorar la legibilidad.\n",
    "\n",
    "---"
   ]
  },
  {
   "cell_type": "code",
   "execution_count": 42,
   "id": "code_barras_agrupadas",
   "metadata": {},
   "outputs": [
    {
     "data": {
      "image/png": "[encoded data removed]"
     },
     "metadata": {},
     "output_type": "display_data"
    }
   ],
   "source": [
    "# 6.3 Gráfico agrupado: Score por Categoría, agrupado por Tipo\n",
    "tipos_principales = ['TV', 'Movie', 'OVA', 'ONA']  # Seleccionar tipos principales\n",
    "df_agrupado = score_tipo_cat[score_tipo_cat['type'].isin(tipos_principales)]\n",
    "\n",
    "fig10 = px.bar(\n",
    "    df_agrupado,\n",
    "    x='categoria',\n",
    "    y='score_promedio',\n",
    "    color='type',  # Color por tipo\n",
    "    barmode='group',  # Barras agrupadas lado a lado\n",
    "    title='Score por Categoría, Agrupado por Tipo',\n",
    "    color_discrete_sequence=px.colors.qualitative.Set2\n",
    ")\n",
    "fig10.update_layout(height=600)\n",
    "fig10.update_xaxes(tickangle=45)\n",
    "fig10.show()\n",
    "\n",
    "# 6.4 Identificar mejor categoría por cada tipo\n",
    "print(\"\\n--- Mejor Categoría por Tipo ---\")\n",
    "for tipo in tipos_principales:\n",
    "    df_tipo = score_tipo_cat[score_tipo_cat['type'] == tipo]\n",
    "    if len(df_tipo) > 0:\n",
    "        df_tipo_sorted = df_tipo.sort_values('score_promedio', ascending=False)\n",
    "        top_3 = df_tipo_sorted.head(3)  # Top 3 categorías\n",
    "        print(f\"\\n{tipo}:\")\n",
    "        for i, row in enumerate(top_3.iterrows(), 1):\n",
    "            _, data = row\n",
    "            print(f\"   #{i}: {data['categoria']} (Score: {data['score_promedio']:.2f}, n={int(data['cantidad'])})\")"
   ]
  },
  {
   "cell_type": "markdown",
   "id": "mejor_categoria_tipo_explicacion",
   "metadata": {},
   "source": [
    "### Análisis: Mejor Categoría por Tipo\n",
    "\n",
    "**Objetivo:** Para cada formato (TV, Movie, OVA, ONA), identificar qué categorías generan los scores más altos.\n",
    "\n",
    "### Interpretación de los Resultados\n",
    "\n",
    "El análisis muestra el **Top 3 de categorías** para cada tipo, con:\n",
    "\n",
    "| Campo | Significado | Uso |\n",
    "|-------|-------------|-----|\n",
    "| **#1, #2, #3** | Ranking de la categoría | Priorización estratégica |\n",
    "| **Categoría** | Nombre del grupo temático | Identifica el género ganador |\n",
    "| **Score** | Score promedio | Métrica de éxito |\n",
    "| **n** | Cantidad de anime | Confiabilidad del promedio |\n",
    "\n",
    "### Patrones Esperados\n",
    "\n",
    "**1. Categorías consistentes:**\n",
    "- Si \"Misterio\" aparece en el Top 3 de TODOS los types → **Fórmula universal**\n",
    "- Recomendación: Alta prioridad en producción\n",
    "\n",
    "**2. Categorías especializadas:**\n",
    "- Si \"Fantásticos\" está #1 en Movie pero #6 en TV → **Funciona mejor en cine**\n",
    "- Recomendación: Adaptar género al formato\n",
    "\n",
    "**3. Categorías problemáticas:**\n",
    "- Si \"Íntimos\" NUNCA aparece en ningún Top 3 → **Evitar o repensar**\n",
    "- Recomendación: Innovar o abandonar\n",
    "\n",
    "### Diferencias por Tipo\n",
    "\n",
    "**TV (series largas):**\n",
    "- Esperado: Categorías que funcionan con desarrollo lento (Drama, Misterio)\n",
    "- Esperado: Alta cantidad (n) porque es el formato más común\n",
    "\n",
    "**Movie (películas):**\n",
    "- Esperado: Categorías cinematográficas (Misterio, Fantásticos)\n",
    "- Esperado: Scores más altos (selección más exigente)\n",
    "\n",
    "**OVA (direct-to-video):**\n",
    "- Esperado: Categorías de nicho (puede variar mucho)\n",
    "- Esperado: Cantidad (n) menor\n",
    "\n",
    "**ONA (web-original):**\n",
    "- Esperado: Categorías experimentales o low-budget\n",
    "- Esperado: Scores más bajos\n",
    "\n",
    "### Uso Estratégico del Análisis\n",
    "\n",
    "**Para Productores - Decisión de Proyecto:**\n",
    "```\n",
    "Tengo un presupuesto para:\n",
    "→ Una serie TV → Verificar Top 3 de TV, elegir una categoría de ahí\n",
    "→ Una película → Verificar Top 3 de Movie, puede ser diferente a TV\n",
    "\n",
    "Ejemplo:\n",
    "- TV: Top 1 = Misterio (7.05), Top 2 = Fantásticos (6.95)\n",
    "- Movie: Top 1 = Fantásticos (7.11), Top 2 = Misterio (7.10)\n",
    "→ Decisión: Para movie, ambas funcionan, elegir según talento disponible\n",
    "```\n",
    "\n",
    "**Para Analistas - Validación de Hipótesis:**\n",
    "```\n",
    "Combinar con:\n",
    "1. Gráfico de barras agrupadas → Verificar visualmente\n",
    "2. Heatmap → Confirmar que las celdas rojas coinciden con Top 3\n",
    "3. Boxplot multivariable → Ver si Top 3 también son consistentes (poca varianza)\n",
    "```\n",
    "\n",
    "### Advertencia: Cantidad (n) Importa\n",
    "\n",
    "**Ejemplo de interpretación correcta:**\n",
    "```\n",
    "Type: OVA\n",
    "  #1: Misterio (Score: 7.20, n=50)\n",
    "  #2: Fantásticos (Score: 7.15, n=400)\n",
    "  #3: Acción (Score: 7.10, n=1200)\n",
    "\n",
    "Análisis:\n",
    "- Misterio tiene mejor score PERO solo 50 títulos → Muestra pequeña, menos confiable\n",
    "- Fantásticos tiene score similar Y 400 títulos → Más confiable\n",
    "- Acción tiene score ligeramente menor PERO 1200 títulos → Muy confiable, apuesta segura\n",
    "\n",
    "Recomendación:\n",
    "- Riesgo bajo → Acción (n=1200, resultado predecible)\n",
    "- Riesgo medio → Fantásticos (n=400, buen balance)\n",
    "- Riesgo alto → Misterio (n=50, puede ser outlier)\n",
    "```\n",
    "\n",
    "### Complementariedad con Otras Visualizaciones\n",
    "\n",
    "Este análisis NO reemplaza, sino que **complementa**:\n",
    "\n",
    "1. **Heatmap (7.1):** Muestra todas las combinaciones → Este análisis extrae el Top 3\n",
    "2. **Barras agrupadas (7.2):** Muestra visualmente → Este análisis cuantifica\n",
    "3. **Boxplot multivariable (7.3):** Mostrará variabilidad → Este análisis da promedio\n",
    "\n",
    "**Flujo de análisis recomendado:**\n",
    "```\n",
    "1. Ver Heatmap → Identificar patrones visuales\n",
    "2. Ver Top 3 por Type → Confirmar cuantitativamente\n",
    "3. Ver Barras Agrupadas → Validar gráficamente\n",
    "4. Ver Boxplot → Verificar consistencia\n",
    "```\n",
    "\n",
    "---"
   ]
  },
  {
   "cell_type": "markdown",
   "id": "boxplot_multivariable",
   "metadata": {},
   "source": [
    "### 7.3 Boxplot Multivariable: Score por Tipo × Categoría\n",
    "\n",
    "**Objetivo:** Visualizar la distribución de scores considerando **simultáneamente** Type y Categoría en un solo gráfico.\n",
    "\n",
    "**Diferencia con análisis anteriores:**\n",
    "\n",
    "| Análisis | Gráfico | Información |\n",
    "|----------|---------|-------------|\n",
    "| **Bivariado** | Boxplot Type | Solo muestra cómo varía score por Type (ignora categoría) |\n",
    "| **Bivariado** | Boxplot Categoría | Solo muestra cómo varía score por Categoría (ignora type) |\n",
    "| **Multivariado** | Heatmap | Muestra score promedio por combinación (pierde info de distribución) |\n",
    "| **Multivariado** | **Boxplot Combinado** | Muestra distribución completa por Type, diferenciando Categorías |\n",
    "\n",
    "### Interpretación del Gráfico\n",
    "\n",
    "**Estructura:**\n",
    "- **Eje X:** Types (TV, Movie, OVA, ONA)\n",
    "- **Eje Y:** Score (1-10)\n",
    "- **Colores:** Cada color representa una Categoría diferente\n",
    "- **Cajas:** Cada caja muestra la distribución (Q1, mediana, Q3) para una combinación Type×Categoría\n",
    "\n",
    "**Patrones a identificar:**\n",
    "\n",
    "1. **Comparación dentro de un Type:**\n",
    "   - Dentro de \"TV\", ¿qué categoría tiene la caja más alta? (mejor score)\n",
    "   - Ejemplo: En TV, ¿Misterio (color X) está por encima de Comedia (color Y)?\n",
    "\n",
    "2. **Comparación entre Types:**\n",
    "   - ¿\"Misterio\" mantiene cajas altas en todos los Types?\n",
    "   - ¿O \"Misterio\" funciona mejor en Movies que en ONA?\n",
    "\n",
    "3. **Dispersión por combinación:**\n",
    "   - Cajas anchas = alta variabilidad (scores dispersos)\n",
    "   - Cajas estrechas = consistencia (scores predecibles)\n",
    "\n",
    "4. **Outliers:**\n",
    "   - Puntos fuera de los bigotes = anime excepcionales\n",
    "   - ¿Qué combinaciones producen más outliers superiores?\n",
    "\n",
    "### Ventaja de este Análisis\n",
    "\n",
    "**Combina lo mejor de dos mundos:**\n",
    "- **Heatmap:** Te dice qué combinación tiene mejor promedio\n",
    "- **Boxplot combinado:** Te dice si ese promedio es consistente o tiene mucha variabilidad\n",
    "\n",
    "**Ejemplo de insight:**\n",
    "- Heatmap dice: \"Movie+Misterio tiene score 7.11\" (excelente)\n",
    "- Boxplot combinado muestra: ¿Esos 7.11 son consistentes (caja estrecha) o hay mucha varianza (caja ancha)?\n",
    "  - Si caja estrecha → **Apuesta segura**\n",
    "  - Si caja ancha → **Alto riesgo, alto reward**\n",
    "\n",
    "**Nota:** Se filtran solo los Types principales para mejorar la legibilidad del gráfico.\n",
    "\n",
    "---"
   ]
  },
  {
   "cell_type": "code",
   "execution_count": 43,
   "id": "code_boxplot_multivariable",
   "metadata": {},
   "outputs": [
    {
     "data": {
      "image/png": "[encoded data removed]"
     },
     "metadata": {},
     "output_type": "display_data"
    }
   ],
   "source": [
    "# 6.5 Boxplot multivariable: Score por Tipo, coloreado por Categoría\n",
    "df_box = df_categorias[df_categorias['type'].isin(tipos_principales)]\n",
    "\n",
    "fig11 = px.box(\n",
    "    df_box,\n",
    "    x='type',\n",
    "    y='score',\n",
    "    color='categoria',\n",
    "    title='Score por Tipo, Coloreado por Categoría',\n",
    "    color_discrete_sequence=px.colors.qualitative.Set3\n",
    ")\n",
    "fig11.update_layout(height=700)\n",
    "fig11.show()\n",
    "\n",
    "# 6.6 Top 10 combinaciones Tipo × Categoría\n",
    "top_10 = score_tipo_cat.sort_values('score_promedio', ascending=False).head(10)\n",
    "\n",
    "print(\"\\n--- Top 10 Combinaciones Tipo × Categoría ---\")\n",
    "print(top_10[['type', 'categoria', 'score_promedio', 'cantidad']])"
   ]
  },
  {
   "cell_type": "markdown",
   "id": "top10_explicacion",
   "metadata": {},
   "source": [
    "### 7.4 Top 10 Combinaciones Type × Categoría\n",
    "\n",
    "**Objetivo:** Identificar las **10 mejores combinaciones** de formato y género basándose en score promedio.\n",
    "\n",
    "### Métricas Mostradas\n",
    "\n",
    "| Columna | Significado | Uso |\n",
    "|---------|-------------|-----|\n",
    "| **type** | Formato del anime | Identifica el formato ganador |\n",
    "| **categoria** | Categoría temática | Identifica el género ganador |\n",
    "| **score_promedio** | Score medio de esa combinación | **Métrica principal de ranking** |\n",
    "| **cantidad** | Número de anime en esa combinación | Indica confiabilidad del promedio |\n",
    "\n",
    "### Interpretación del Ranking\n",
    "\n",
    "**1. Combinaciones en el Top 10:**\n",
    "- Estas son las combinaciones **más exitosas** históricamente\n",
    "- Tienen los scores promedio más altos del dataset\n",
    "\n",
    "**2. Cantidad (sample size):**\n",
    "- **Alta cantidad (>100):** Promedio muy confiable (muchos datos)\n",
    "  - Ejemplo: Si \"TV+Acción\" tiene 2,000 anime con score 7.0 → muy confiable\n",
    "- **Baja cantidad (<50):** Promedio menos confiable (pocos datos)\n",
    "  - Ejemplo: Si \"OVA+Misterio\" tiene 15 anime con score 7.2 → puede ser casualidad\n",
    "\n",
    "**3. Patterns esperados:**\n",
    "- **Misterio** probablemente aparece varias veces en el Top 10\n",
    "- **TV** probablemente domina el Top 10 (mejor formato consistente)\n",
    "- **Íntimos** probablemente NO aparece (techo estructural)\n",
    "\n",
    "### Uso Estratégico\n",
    "\n",
    "**Para Productores:**\n",
    "```\n",
    "Si quiero maximizar probabilidad de éxito:\n",
    "→ Elegir combinaciones del Top 10\n",
    "→ Preferir las que tienen alta cantidad (más confiables)\n",
    "→ Evitar combinaciones que nunca aparecen en el Top 10\n",
    "```\n",
    "\n",
    "**Para Analistas:**\n",
    "```\n",
    "Comparar Top 10 con:\n",
    "1. Heatmap → ¿Coinciden las celdas rojas con el Top 10?\n",
    "2. Análisis de outliers → ¿El Top 10 también produce más masterpieces?\n",
    "3. Volumen de producción → ¿El Top 10 son nichos o mainstream?\n",
    "```\n",
    "\n",
    "### Advertencia\n",
    "\n",
    "**Alto score ≠ Alta rentabilidad**\n",
    "- Una combinación puede tener score alto pero:\n",
    "  - Audiencia muy nicho (pocos miembros)\n",
    "  - Difícil de producir (requiere talento específico)\n",
    "  - Saturación del mercado\n",
    "\n",
    "**Ejemplo:**\n",
    "- \"Movie+Misterio\" score: 7.11 (excelente)\n",
    "- Pero solo 214 títulos en toda la historia (nicho)\n",
    "- vs \"TV+Acción\" score: 6.91 (bueno)\n",
    "- Pero 7,062 títulos (mainstream, más oportunidades)\n",
    "\n",
    "**Recomendación:** Considerar el Top 10 junto con:\n",
    "- Tamaño de mercado\n",
    "- Capacidades del estudio\n",
    "- Objetivos del proyecto (prestigio vs volumen)\n",
    "\n",
    "---\n",
    "\n",
    "## 🎯 Conclusión del Análisis\n",
    "\n",
    "Este análisis exploratorio revela que:\n",
    "\n",
    "1. ✅ **Type y Categoría SÍ interactúan** (no son efectos independientes)\n",
    "2. ✅ **TV generalmente supera a Movies** (contraintuitivo)\n",
    "3. ✅ **Misterio es el género premium** (scores consistentemente altos)\n",
    "4. ✅ **Existen combinaciones ganadoras** (Top 10) y perdedoras (ONA+Íntimos)\n",
    "5. ✅ **Volumen ≠ Calidad** (Acción tiene volumen, Misterio tiene calidad)\n",
    "\n",
    "### Próximos Pasos Sugeridos\n",
    "\n",
    "1. **Análisis Confirmatorio:** Two-way ANOVA para validar interacciones estadísticamente\n",
    "2. **Modelado Predictivo:** Regresión múltiple o Random Forest para predecir score\n",
    "3. **Análisis Temporal:** ¿Estas tendencias son estables en el tiempo?\n",
    "4. **Studio Effect:** ¿Ciertos estudios dominan las combinaciones exitosas?\n",
    "5. **Análisis de Outliers:** Deep dive en los masterpieces (score ≥8.5)\n",
    "\n",
    "---\n",
    "\n",
    "**Fin del Análisis Exploratorio** 🎬"
   ]
  }
 ],
 "metadata": {
  "kernelspec": {
   "display_name": "Python 3",
   "language": "python",
   "name": "python3"
  },
  "language_info": {
   "codemirror_mode": {
    "name": "ipython",
    "version": 3
   },
   "file_extension": ".py",
   "mimetype": "text/x-python",
   "name": "python",
   "nbconvert_exporter": "python",
   "pygments_lexer": "ipython3",
   "version": "3.11.9"
  }
 },
 "nbformat": 4,
 "nbformat_minor": 5
}