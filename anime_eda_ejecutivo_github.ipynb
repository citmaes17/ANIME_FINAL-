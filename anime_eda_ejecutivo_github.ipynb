{
 "cells": [
  {
   "cell_type": "markdown",
   "id": "146f9588",
   "metadata": {},
   "source": [
    "# 🎬 Análisis Exploratorio de Datos (EDA): Anime Dataset\n",
    "\n",
    "## 📊 Objetivo del Análisis\n",
    "\n",
    "Este notebook explora cómo el **tipo de formato** (TV, Movie, OVA, ONA) y la **categoría de género** interactúan para influir en el **score** (calificación de usuarios) de anime en MyAnimeList.\n",
    "\n",
    "## 🧪 Hipótesis\n",
    "\n",
    "Creemos que:\n",
    "\n",
    "1. Los **animes de formato Movie** tienen **mejores scores promedio** que los de TV.\n",
    "2. Los **géneros emocionales/humanistas y misterio/terror** tienden a recibir **mejores calificaciones** que comedia.\n",
    "3. Existen **combinaciones ganadoras** (por ejemplo: Movie + Misterio).\n",
    "\n",
    "Estas hipótesis se evaluarán de forma gráfica y estadística.\n",
    "\n",
    "\n",
    "### ❓ Preguntas de Investigación\n",
    "\n",
    "1. **¿El formato (type) afecta el score de manera independiente?**\n",
    "2. **¿Las categorías de género influyen en las calificaciones?**\n",
    "3. **¿Existen interacciones entre type y categoría?** (¿Ciertas combinaciones funcionan mejor?)\n",
    "4. **¿Qué patrones caracterizan a los anime excepcionales (outliers)?**\n",
    "\n",
    "\n",
    "## 📌 Relevancia del análisis\n",
    "\n",
    "Este análisis puede ayudar a entender qué formatos y estilos conectan mejor con la audiencia, útil para:\n",
    "- Estudios de animación\n",
    "- Marketing y promoción\n",
    "- Selección estratégica de proyectos\n",
    "\n",
    "\n",
    "### 📋 Metodología\n",
    "\n",
    "```\n",
    "1. Carga de datos → 15,000 anime de MyAnimeList\n",
    "2. Limpieza → Manejo de nulos y duplicados\n",
    "3. Categorización → Reducir géneros a 6 categorías temáticas\n",
    "4. Análisis Univariado → Distribución de scores\n",
    "5. Análisis Bivariado → Type vs Score, Categoría vs Score\n",
    "6. Análisis Multivariado → Interacciones Type × Categoría\n",
    "7. Análisis de Outliers → Identificación de masterpieces\n",
    "```\n",
    "\n",
    "---"
   ]
  },
  {
   "cell_type": "markdown",
   "id": "notebook_completo_note",
   "metadata": {},
   "source": [
    "# 📊 Notebook Completo: Código + Gráficas Estáticas\n"
   ]
  },
  {
   "cell_type": "markdown",
   "id": "0cf63642",
   "metadata": {},
   "source": [
    "## 🔧 1. Configuración del Entorno\n",
    "\n",
    "### Importación de Librerías\n",
    "\n",
    "Se importan las bibliotecas necesarias para el análisis:\n",
    "\n",
    "| Librería | Propósito |\n",
    "|----------|----------|\n",
    "| **Pandas** | Manipulación y análisis de DataFrames |\n",
    "| **Plotly** | Visualizaciones interactivas |\n",
    "| **NumPy** | Operaciones numéricas vectorizadas |\n",
    "| **SciPy** | Funciones estadísticas (skewness, kurtosis) |\n",
    "| **Counter** | Conteo de frecuencias para análisis categórico |\n",
    "\n",
    "---"
   ]
  },
  {
   "cell_type": "code",
   "execution_count": 1,
   "id": "5ed9b81b",
   "metadata": {},
   "outputs": [],
   "source": [
    "# Importar librerías necesarias\n",
    "import pandas as pd  # Manejo de dataframes\n",
    "import plotly.express as px  # Visualizaciones interactivas\n",
    "import plotly.graph_objects as go  # Gráficos personalizados\n",
    "import numpy as np  # Operaciones numéricas\n",
    "from scipy import stats  # Estadísticas avanzadas\n",
    "from collections import Counter  # Conteo de frecuencias\n",
    "import os  # Gestión de carpetas y archivos"
   ]
  },
  {
   "cell_type": "markdown",
   "id": "fcfde26c",
   "metadata": {},
   "source": [
    "## 📥 2. Carga de Datos\n"
   ]
  },
  {
   "cell_type": "code",
   "execution_count": 2,
   "id": "bdd1eaac",
   "metadata": {},
   "outputs": [
    {
     "name": "stdout",
     "output_type": "stream",
     "text": [
      "Total de registros cargados: 15000\n",
      "Total de columnas: 24\n",
      "\n"
     ]
    },
    {
     "data": {
      "text/html": [
       "<div>\n",
       "<style scoped>\n",
       "    .dataframe tbody tr th:only-of-type {\n",
       "        vertical-align: middle;\n",
       "    }\n",
       "\n",
       "    .dataframe tbody tr th {\n",
       "        vertical-align: top;\n",
       "    }\n",
       "\n",
       "    .dataframe thead th {\n",
       "        text-align: right;\n",
       "    }\n",
       "</style>\n",
       "<table border=\"1\" class=\"dataframe\">\n",
       "  <thead>\n",
       "    <tr style=\"text-align: right;\">\n",
       "      <th></th>\n",
       "      <th>anime_id</th>\n",
       "      <th>anime_url</th>\n",
       "      <th>image_url</th>\n",
       "      <th>name</th>\n",
       "      <th>english_name</th>\n",
       "      <th>japanese_names</th>\n",
       "      <th>score</th>\n",
       "      <th>genres</th>\n",
       "      <th>themes</th>\n",
       "      <th>demographics</th>\n",
       "      <th>...</th>\n",
       "      <th>producers</th>\n",
       "      <th>studios</th>\n",
       "      <th>source</th>\n",
       "      <th>duration</th>\n",
       "      <th>rating</th>\n",
       "      <th>rank</th>\n",
       "      <th>popularity</th>\n",
       "      <th>favorites</th>\n",
       "      <th>scored_by</th>\n",
       "      <th>members</th>\n",
       "    </tr>\n",
       "  </thead>\n",
       "  <tbody>\n",
       "    <tr>\n",
       "      <th>0</th>\n",
       "      <td>52991</td>\n",
       "      <td>https://myanimelist.net/anime/52991/Sousou_no_...</td>\n",
       "      <td>https://cdn.myanimelist.net/images/anime/1015/...</td>\n",
       "      <td>Sousou no Frieren</td>\n",
       "      <td>Frieren: Beyond Journey's End</td>\n",
       "      <td>葬送のフリーレン</td>\n",
       "      <td>9.29</td>\n",
       "      <td>Adventure, Drama, Fantasy</td>\n",
       "      <td>NaN</td>\n",
       "      <td>Shounen</td>\n",
       "      <td>...</td>\n",
       "      <td>Aniplex, Dentsu, Shogakukan-Shueisha Productio...</td>\n",
       "      <td>Madhouse</td>\n",
       "      <td>Manga</td>\n",
       "      <td>24 min per ep</td>\n",
       "      <td>PG-13 - Teens 13 or older</td>\n",
       "      <td>1.0</td>\n",
       "      <td>128</td>\n",
       "      <td>76513</td>\n",
       "      <td>734207.0</td>\n",
       "      <td>1225468</td>\n",
       "    </tr>\n",
       "    <tr>\n",
       "      <th>1</th>\n",
       "      <td>5114</td>\n",
       "      <td>https://myanimelist.net/anime/5114/Fullmetal_A...</td>\n",
       "      <td>https://cdn.myanimelist.net/images/anime/1208/...</td>\n",
       "      <td>Fullmetal Alchemist: Brotherhood</td>\n",
       "      <td>Fullmetal Alchemist: Brotherhood</td>\n",
       "      <td>鋼の錬金術師 FULLMETAL ALCHEMIST</td>\n",
       "      <td>9.10</td>\n",
       "      <td>Action, Adventure, Drama, Fantasy</td>\n",
       "      <td>Military</td>\n",
       "      <td>Shounen</td>\n",
       "      <td>...</td>\n",
       "      <td>Aniplex, Square Enix, Mainichi Broadcasting Sy...</td>\n",
       "      <td>Bones</td>\n",
       "      <td>Manga</td>\n",
       "      <td>24 min per ep</td>\n",
       "      <td>R - 17+ (violence &amp; profanity)</td>\n",
       "      <td>2.0</td>\n",
       "      <td>3</td>\n",
       "      <td>236798</td>\n",
       "      <td>2249670.0</td>\n",
       "      <td>3577489</td>\n",
       "    </tr>\n",
       "    <tr>\n",
       "      <th>2</th>\n",
       "      <td>9253</td>\n",
       "      <td>https://myanimelist.net/anime/9253/Steins_Gate</td>\n",
       "      <td>https://cdn.myanimelist.net/images/anime/1935/...</td>\n",
       "      <td>Steins;Gate</td>\n",
       "      <td>Steins;Gate</td>\n",
       "      <td>STEINS;GATE</td>\n",
       "      <td>9.07</td>\n",
       "      <td>Drama, Sci-Fi, Suspense</td>\n",
       "      <td>Psychological, Time Travel</td>\n",
       "      <td>NaN</td>\n",
       "      <td>...</td>\n",
       "      <td>Frontier Works, Media Factory, Kadokawa Shoten...</td>\n",
       "      <td>White Fox</td>\n",
       "      <td>Visual novel</td>\n",
       "      <td>24 min per ep</td>\n",
       "      <td>PG-13 - Teens 13 or older</td>\n",
       "      <td>3.0</td>\n",
       "      <td>14</td>\n",
       "      <td>198296</td>\n",
       "      <td>1483605.0</td>\n",
       "      <td>2737980</td>\n",
       "    </tr>\n",
       "    <tr>\n",
       "      <th>3</th>\n",
       "      <td>38524</td>\n",
       "      <td>https://myanimelist.net/anime/38524/Shingeki_n...</td>\n",
       "      <td>https://cdn.myanimelist.net/images/anime/1517/...</td>\n",
       "      <td>Shingeki no Kyojin Season 3 Part 2</td>\n",
       "      <td>Attack on Titan Season 3 Part 2</td>\n",
       "      <td>進撃の巨人 Season3 Part.2</td>\n",
       "      <td>9.05</td>\n",
       "      <td>Action, Drama, Suspense</td>\n",
       "      <td>Gore, Military, Survival</td>\n",
       "      <td>Shounen</td>\n",
       "      <td>...</td>\n",
       "      <td>Production I.G, Dentsu, Mainichi Broadcasting ...</td>\n",
       "      <td>Wit Studio</td>\n",
       "      <td>Manga</td>\n",
       "      <td>23 min per ep</td>\n",
       "      <td>R - 17+ (violence &amp; profanity)</td>\n",
       "      <td>4.0</td>\n",
       "      <td>21</td>\n",
       "      <td>61832</td>\n",
       "      <td>1729484.0</td>\n",
       "      <td>2497671</td>\n",
       "    </tr>\n",
       "    <tr>\n",
       "      <th>4</th>\n",
       "      <td>28977</td>\n",
       "      <td>https://myanimelist.net/anime/28977/Gintama°</td>\n",
       "      <td>https://cdn.myanimelist.net/images/anime/3/720...</td>\n",
       "      <td>Gintama°</td>\n",
       "      <td>Gintama Season 4</td>\n",
       "      <td>銀魂°</td>\n",
       "      <td>9.05</td>\n",
       "      <td>Action, Comedy, Sci-Fi</td>\n",
       "      <td>Gag Humor, Historical, Parody, Samurai</td>\n",
       "      <td>Shounen</td>\n",
       "      <td>...</td>\n",
       "      <td>TV Tokyo, Aniplex, Dentsu</td>\n",
       "      <td>Bandai Namco Pictures</td>\n",
       "      <td>Manga</td>\n",
       "      <td>24 min per ep</td>\n",
       "      <td>PG-13 - Teens 13 or older</td>\n",
       "      <td>6.0</td>\n",
       "      <td>344</td>\n",
       "      <td>17315</td>\n",
       "      <td>266825.0</td>\n",
       "      <td>676352</td>\n",
       "    </tr>\n",
       "  </tbody>\n",
       "</table>\n",
       "<p>5 rows × 24 columns</p>\n",
       "</div>"
      ],
      "text/plain": [
       "   anime_id                                          anime_url  \\\n",
       "0     52991  https://myanimelist.net/anime/52991/Sousou_no_...   \n",
       "1      5114  https://myanimelist.net/anime/5114/Fullmetal_A...   \n",
       "2      9253     https://myanimelist.net/anime/9253/Steins_Gate   \n",
       "3     38524  https://myanimelist.net/anime/38524/Shingeki_n...   \n",
       "4     28977       https://myanimelist.net/anime/28977/Gintama°   \n",
       "\n",
       "                                           image_url  \\\n",
       "0  https://cdn.myanimelist.net/images/anime/1015/...   \n",
       "1  https://cdn.myanimelist.net/images/anime/1208/...   \n",
       "2  https://cdn.myanimelist.net/images/anime/1935/...   \n",
       "3  https://cdn.myanimelist.net/images/anime/1517/...   \n",
       "4  https://cdn.myanimelist.net/images/anime/3/720...   \n",
       "\n",
       "                                 name                      english_name  \\\n",
       "0                   Sousou no Frieren     Frieren: Beyond Journey's End   \n",
       "1    Fullmetal Alchemist: Brotherhood  Fullmetal Alchemist: Brotherhood   \n",
       "2                         Steins;Gate                       Steins;Gate   \n",
       "3  Shingeki no Kyojin Season 3 Part 2   Attack on Titan Season 3 Part 2   \n",
       "4                            Gintama°                  Gintama Season 4   \n",
       "\n",
       "               japanese_names  score                             genres  \\\n",
       "0                    葬送のフリーレン   9.29          Adventure, Drama, Fantasy   \n",
       "1  鋼の錬金術師 FULLMETAL ALCHEMIST   9.10  Action, Adventure, Drama, Fantasy   \n",
       "2                 STEINS;GATE   9.07            Drama, Sci-Fi, Suspense   \n",
       "3        進撃の巨人 Season3 Part.2   9.05            Action, Drama, Suspense   \n",
       "4                         銀魂°   9.05             Action, Comedy, Sci-Fi   \n",
       "\n",
       "                                   themes demographics  ...  \\\n",
       "0                                     NaN      Shounen  ...   \n",
       "1                                Military      Shounen  ...   \n",
       "2              Psychological, Time Travel          NaN  ...   \n",
       "3                Gore, Military, Survival      Shounen  ...   \n",
       "4  Gag Humor, Historical, Parody, Samurai      Shounen  ...   \n",
       "\n",
       "                                           producers                studios  \\\n",
       "0  Aniplex, Dentsu, Shogakukan-Shueisha Productio...               Madhouse   \n",
       "1  Aniplex, Square Enix, Mainichi Broadcasting Sy...                  Bones   \n",
       "2  Frontier Works, Media Factory, Kadokawa Shoten...              White Fox   \n",
       "3  Production I.G, Dentsu, Mainichi Broadcasting ...             Wit Studio   \n",
       "4                          TV Tokyo, Aniplex, Dentsu  Bandai Namco Pictures   \n",
       "\n",
       "         source       duration                          rating rank  \\\n",
       "0         Manga  24 min per ep       PG-13 - Teens 13 or older  1.0   \n",
       "1         Manga  24 min per ep  R - 17+ (violence & profanity)  2.0   \n",
       "2  Visual novel  24 min per ep       PG-13 - Teens 13 or older  3.0   \n",
       "3         Manga  23 min per ep  R - 17+ (violence & profanity)  4.0   \n",
       "4         Manga  24 min per ep       PG-13 - Teens 13 or older  6.0   \n",
       "\n",
       "  popularity favorites  scored_by  members  \n",
       "0        128     76513   734207.0  1225468  \n",
       "1          3    236798  2249670.0  3577489  \n",
       "2         14    198296  1483605.0  2737980  \n",
       "3         21     61832  1729484.0  2497671  \n",
       "4        344     17315   266825.0   676352  \n",
       "\n",
       "[5 rows x 24 columns]"
      ]
     },
     "execution_count": 2,
     "metadata": {},
     "output_type": "execute_result"
    }
   ],
   "source": [
    "df = pd.read_csv('anime_dataset_raw.csv')\n",
    "print(f\"Total de registros cargados: {len(df)}\")\n",
    "print(f\"Total de columnas: {len(df.columns)}\")\n",
    "print()\n",
    "df.head()"
   ]
  },
  {
   "cell_type": "markdown",
   "id": "fff6581e",
   "metadata": {},
   "source": [
    "## 🧹 3. Limpieza y Visualización de Datos\n",
    "\n",
    "### Proceso de Limpieza\n",
    "\n",
    "El proceso de limpieza sigue estos pasos:\n"
   ]
  },
  {
   "cell_type": "markdown",
   "id": "a6a3f36e",
   "metadata": {},
   "source": [
    "### 3.1 Inspección Inicial del Dataset\n",
    "\n",
    "**Objetivo:** Entender la estructura y calidad de los datos antes de la limpieza.\n",
    "\n",
    "**Información a visualizar:**\n",
    "- Dimensiones del dataset (filas × columnas)\n",
    "- Tipos de datos de cada columna\n",
    "- Primeras filas para inspección visual\n",
    "- Resumen de valores nulos por columna\n",
    "- Estadísticas descriptivas de variables numéricas\n",
    "\n",
    "---"
   ]
  },
  {
   "cell_type": "code",
   "execution_count": 3,
   "id": "de0e82e9",
   "metadata": {},
   "outputs": [
    {
     "name": "stdout",
     "output_type": "stream",
     "text": [
      "<class 'pandas.core.frame.DataFrame'>\n",
      "RangeIndex: 15000 entries, 0 to 14999\n",
      "Data columns (total 24 columns):\n",
      " #   Column          Non-Null Count  Dtype  \n",
      "---  ------          --------------  -----  \n",
      " 0   anime_id        15000 non-null  int64  \n",
      " 1   anime_url       15000 non-null  object \n",
      " 2   image_url       15000 non-null  object \n",
      " 3   name            15000 non-null  object \n",
      " 4   english_name    8748 non-null   object \n",
      " 5   japanese_names  14966 non-null  object \n",
      " 6   score           15000 non-null  float64\n",
      " 7   genres          14382 non-null  object \n",
      " 8   themes          9166 non-null   object \n",
      " 9   demographics    4619 non-null   object \n",
      " 10  synopsis        14486 non-null  object \n",
      " 11  type            15000 non-null  object \n",
      " 12  episodes        14889 non-null  float64\n",
      " 13  premiered       5012 non-null   object \n",
      " 14  producers       9930 non-null   object \n",
      " 15  studios         13246 non-null  object \n",
      " 16  source          15000 non-null  object \n",
      " 17  duration        15000 non-null  object \n",
      " 18  rating          14921 non-null  object \n",
      " 19  rank            13479 non-null  float64\n",
      " 20  popularity      15000 non-null  int64  \n",
      " 21  favorites       15000 non-null  int64  \n",
      " 22  scored_by       15000 non-null  float64\n",
      " 23  members         15000 non-null  int64  \n",
      "dtypes: float64(4), int64(4), object(16)\n",
      "memory usage: 2.7+ MB\n"
     ]
    }
   ],
   "source": [
    "df.info()"
   ]
  },
  {
   "cell_type": "code",
   "execution_count": 4,
   "id": "1160fe57",
   "metadata": {},
   "outputs": [
    {
     "data": {
      "text/html": [
       "<div>\n",
       "<style scoped>\n",
       "    .dataframe tbody tr th:only-of-type {\n",
       "        vertical-align: middle;\n",
       "    }\n",
       "\n",
       "    .dataframe tbody tr th {\n",
       "        vertical-align: top;\n",
       "    }\n",
       "\n",
       "    .dataframe thead th {\n",
       "        text-align: right;\n",
       "    }\n",
       "</style>\n",
       "<table border=\"1\" class=\"dataframe\">\n",
       "  <thead>\n",
       "    <tr style=\"text-align: right;\">\n",
       "      <th></th>\n",
       "      <th>anime_id</th>\n",
       "      <th>score</th>\n",
       "      <th>episodes</th>\n",
       "      <th>rank</th>\n",
       "      <th>popularity</th>\n",
       "      <th>favorites</th>\n",
       "      <th>scored_by</th>\n",
       "      <th>members</th>\n",
       "    </tr>\n",
       "  </thead>\n",
       "  <tbody>\n",
       "    <tr>\n",
       "      <th>count</th>\n",
       "      <td>15000.000000</td>\n",
       "      <td>15000.000000</td>\n",
       "      <td>14889.000000</td>\n",
       "      <td>13479.000000</td>\n",
       "      <td>15000.000000</td>\n",
       "      <td>15000.000000</td>\n",
       "      <td>1.500000e+04</td>\n",
       "      <td>1.500000e+04</td>\n",
       "    </tr>\n",
       "    <tr>\n",
       "      <th>mean</th>\n",
       "      <td>24174.928400</td>\n",
       "      <td>6.596273</td>\n",
       "      <td>13.482907</td>\n",
       "      <td>6736.767045</td>\n",
       "      <td>8303.382200</td>\n",
       "      <td>830.440133</td>\n",
       "      <td>3.752271e+04</td>\n",
       "      <td>7.376372e+04</td>\n",
       "    </tr>\n",
       "    <tr>\n",
       "      <th>std</th>\n",
       "      <td>19147.347255</td>\n",
       "      <td>0.784931</td>\n",
       "      <td>52.733291</td>\n",
       "      <td>3890.000481</td>\n",
       "      <td>5254.941974</td>\n",
       "      <td>6261.328280</td>\n",
       "      <td>1.359509e+05</td>\n",
       "      <td>2.271663e+05</td>\n",
       "    </tr>\n",
       "    <tr>\n",
       "      <th>min</th>\n",
       "      <td>1.000000</td>\n",
       "      <td>5.120000</td>\n",
       "      <td>1.000000</td>\n",
       "      <td>1.000000</td>\n",
       "      <td>1.000000</td>\n",
       "      <td>0.000000</td>\n",
       "      <td>1.020000e+02</td>\n",
       "      <td>2.090000e+02</td>\n",
       "    </tr>\n",
       "    <tr>\n",
       "      <th>25%</th>\n",
       "      <td>5074.750000</td>\n",
       "      <td>5.987500</td>\n",
       "      <td>1.000000</td>\n",
       "      <td>3368.000000</td>\n",
       "      <td>3816.750000</td>\n",
       "      <td>2.000000</td>\n",
       "      <td>6.110000e+02</td>\n",
       "      <td>2.014000e+03</td>\n",
       "    </tr>\n",
       "    <tr>\n",
       "      <th>50%</th>\n",
       "      <td>22488.000000</td>\n",
       "      <td>6.540000</td>\n",
       "      <td>3.000000</td>\n",
       "      <td>6736.000000</td>\n",
       "      <td>7869.000000</td>\n",
       "      <td>13.000000</td>\n",
       "      <td>2.726000e+03</td>\n",
       "      <td>7.489500e+03</td>\n",
       "    </tr>\n",
       "    <tr>\n",
       "      <th>75%</th>\n",
       "      <td>39081.250000</td>\n",
       "      <td>7.170000</td>\n",
       "      <td>13.000000</td>\n",
       "      <td>10105.500000</td>\n",
       "      <td>12313.250000</td>\n",
       "      <td>104.000000</td>\n",
       "      <td>1.701625e+04</td>\n",
       "      <td>4.208825e+04</td>\n",
       "    </tr>\n",
       "    <tr>\n",
       "      <th>max</th>\n",
       "      <td>62422.000000</td>\n",
       "      <td>9.290000</td>\n",
       "      <td>3000.000000</td>\n",
       "      <td>13488.000000</td>\n",
       "      <td>22255.000000</td>\n",
       "      <td>243486.000000</td>\n",
       "      <td>2.980783e+06</td>\n",
       "      <td>4.231885e+06</td>\n",
       "    </tr>\n",
       "  </tbody>\n",
       "</table>\n",
       "</div>"
      ],
      "text/plain": [
       "           anime_id         score      episodes          rank    popularity  \\\n",
       "count  15000.000000  15000.000000  14889.000000  13479.000000  15000.000000   \n",
       "mean   24174.928400      6.596273     13.482907   6736.767045   8303.382200   \n",
       "std    19147.347255      0.784931     52.733291   3890.000481   5254.941974   \n",
       "min        1.000000      5.120000      1.000000      1.000000      1.000000   \n",
       "25%     5074.750000      5.987500      1.000000   3368.000000   3816.750000   \n",
       "50%    22488.000000      6.540000      3.000000   6736.000000   7869.000000   \n",
       "75%    39081.250000      7.170000     13.000000  10105.500000  12313.250000   \n",
       "max    62422.000000      9.290000   3000.000000  13488.000000  22255.000000   \n",
       "\n",
       "           favorites     scored_by       members  \n",
       "count   15000.000000  1.500000e+04  1.500000e+04  \n",
       "mean      830.440133  3.752271e+04  7.376372e+04  \n",
       "std      6261.328280  1.359509e+05  2.271663e+05  \n",
       "min         0.000000  1.020000e+02  2.090000e+02  \n",
       "25%         2.000000  6.110000e+02  2.014000e+03  \n",
       "50%        13.000000  2.726000e+03  7.489500e+03  \n",
       "75%       104.000000  1.701625e+04  4.208825e+04  \n",
       "max    243486.000000  2.980783e+06  4.231885e+06  "
      ]
     },
     "execution_count": 4,
     "metadata": {},
     "output_type": "execute_result"
    }
   ],
   "source": [
    "df.describe()"
   ]
  },
  {
   "cell_type": "markdown",
   "id": "9de6f5e5",
   "metadata": {},
   "source": [
    "### 3.2 Identificación y Eliminación de Columnas con Exceso de Nulos\n",
    "\n",
    "**Criterio de Decisión:**\n",
    "- Columnas con **>20% de valores nulos** → Eliminar\n",
    "- Columnas con **≤20% de valores nulos** → Imputar\n",
    "\n",
    "**Proceso:**\n",
    "1. Calcular porcentaje de nulos por columna\n",
    "2. Identificar columnas que superan el umbral del 20%\n",
    "3. Eliminar esas columnas del dataset\n",
    "4. Reportar cuántas columnas se eliminaron y cuáles fueron\n",
    "\n",
    "**Justificación:** Imputar >20% de datos introduciría demasiado sesgo y reduciría la confiabilidad del análisis.\n",
    "\n",
    "---"
   ]
  },
  {
   "cell_type": "code",
   "execution_count": 5,
   "id": "6e54211e",
   "metadata": {},
   "outputs": [
    {
     "name": "stdout",
     "output_type": "stream",
     "text": [
      "\n",
      "Columnas con valores nulos:\n",
      "                       Columna  Nulos  Porcentaje\n",
      "demographics      demographics  10381   69.206667\n",
      "premiered            premiered   9988   66.586667\n",
      "english_name      english_name   6252   41.680000\n",
      "themes                  themes   5834   38.893333\n",
      "producers            producers   5070   33.800000\n",
      "studios                studios   1754   11.693333\n",
      "rank                      rank   1521   10.140000\n",
      "genres                  genres    618    4.120000\n",
      "synopsis              synopsis    514    3.426667\n",
      "episodes              episodes    111    0.740000\n",
      "rating                  rating     79    0.526667\n",
      "japanese_names  japanese_names     34    0.226667\n"
     ]
    }
   ],
   "source": [
    "null_percentage = (df.isnull().sum() / len(df)) * 100  # Calcular % de nulos por columna\n",
    "null_info = pd.DataFrame({\n",
    "    'Columna': df.columns,\n",
    "    'Nulos': df.isnull().sum(),\n",
    "    'Porcentaje': null_percentage\n",
    "}).sort_values('Porcentaje', ascending=False)  \n",
    "\n",
    "print(\"\\nColumnas con valores nulos:\")\n",
    "print(null_info[null_info['Porcentaje'] > 0])"
   ]
  },
  {
   "cell_type": "code",
   "execution_count": 6,
   "id": "9af56890",
   "metadata": {},
   "outputs": [
    {
     "name": "stdout",
     "output_type": "stream",
     "text": [
      "\n",
      "Columnas eliminadas: 5\n"
     ]
    }
   ],
   "source": [
    "columnas_a_eliminar = null_info[null_info['Porcentaje'] > 20]['Columna'].tolist()\n",
    "df = df.drop(columns=columnas_a_eliminar)  # Eliminar columnas\n",
    "print(f\"\\nColumnas eliminadas: {len(columnas_a_eliminar)}\")"
   ]
  },
  {
   "cell_type": "markdown",
   "id": "61f1a703",
   "metadata": {},
   "source": [
    "### 3.3 Eliminación de Registros Duplicados\n",
    "\n",
    "**Objetivo:** Asegurar que cada anime aparezca una sola vez en el dataset.\n",
    "\n",
    "**Verificación:**\n",
    "- Identificar filas completamente duplicadas (todos los campos idénticos)\n",
    "- Verificar unicidad de `anime_id` (clave primaria)\n",
    "\n",
    "**Acción:**\n",
    "- Eliminar duplicados exactos\n",
    "- Mantener solo la primera ocurrencia\n",
    "- Reportar cuántos duplicados se encontraron\n",
    "\n",
    "**Impacto esperado:** Mínimo (datasets bien curados rara vez tienen duplicados)\n",
    "\n",
    "---"
   ]
  },
  {
   "cell_type": "code",
   "execution_count": 7,
   "id": "dc348782",
   "metadata": {},
   "outputs": [
    {
     "name": "stdout",
     "output_type": "stream",
     "text": [
      "Duplicados eliminados: 3\n"
     ]
    }
   ],
   "source": [
    "duplicados_antes = df.duplicated().sum()  \n",
    "df = df.drop_duplicates()  \n",
    "print(f\"Duplicados eliminados: {duplicados_antes}\")"
   ]
  },
  {
   "cell_type": "markdown",
   "id": "d92b9a28",
   "metadata": {},
   "source": [
    "### 3.4 Estrategia de Imputación de Valores Nulos\n",
    "\n",
    "Después de eliminar columnas con >20% de nulos, imputamos los valores faltantes en las columnas restantes.\n",
    "\n",
    "**Estrategias según Tipo de Dato:**\n"
   ]
  },
  {
   "cell_type": "code",
   "execution_count": 8,
   "id": "f8024c9f",
   "metadata": {},
   "outputs": [
    {
     "name": "stdout",
     "output_type": "stream",
     "text": [
      "Cantidad de columnas numericas: 8\n",
      "Cantidad de columnas categoricas: 11\n"
     ]
    }
   ],
   "source": [
    "columnas_numericas = df.select_dtypes(include=[np.number]).columns.tolist()\n",
    "columnas_categoricas = df.select_dtypes(include=['object']).columns.tolist()\n",
    "print(f\"Cantidad de columnas numericas: {len(columnas_numericas)}\")\n",
    "print(f\"Cantidad de columnas categoricas: {len(columnas_categoricas)}\")"
   ]
  },
  {
   "cell_type": "markdown",
   "id": "7ab05179",
   "metadata": {},
   "source": [
    "#### Imputación de Variables Numéricas\n",
    "\n",
    "**Método:** Reemplazar valores nulos con la **media** de la columna.\n",
    "\n",
    "**Columnas afectadas:**\n",
    "- Variables tipo `int64` o `float64`\n",
    "- Ejemplo: `score`, `rank`, `popularity`, `members`, `scored_by`\n",
    "\n",
    "**Proceso:**\n",
    "```python\n",
    "# Para cada columna numérica:\n",
    "df[col] = df[col].fillna(df[col].mean())\n",
    "```\n",
    "\n",
    "**Ventaja de usar la media:** Mantiene la tendencia central de la distribución sin alterar significativamente las estadísticas.\n",
    "\n",
    "---"
   ]
  },
  {
   "cell_type": "code",
   "execution_count": 9,
   "id": "b1086e49",
   "metadata": {},
   "outputs": [],
   "source": [
    "for col in columnas_numericas:\n",
    "    if df[col].isnull().sum() > 0:\n",
    "        df[col] = df[col].fillna(df[col].mean())\n"
   ]
  },
  {
   "cell_type": "code",
   "execution_count": 10,
   "id": "export_clean_dataset",
   "metadata": {},
   "outputs": [
    {
     "name": "stdout",
     "output_type": "stream",
     "text": [
      "\n",
      "✅ Dataset limpio exportado: 'datasets_procesados/anime_clean.csv'\n",
      "   📏 Registros: 14,997\n",
      "   📐 Columnas: 19\n"
     ]
    }
   ],
   "source": [
    "# Exportar dataset limpio\n",
    "if not os.path.exists('datasets_procesados'):\n",
    "    os.makedirs('datasets_procesados')\n",
    "\n",
    "df.to_csv('datasets_procesados/anime_clean.csv', index=False, encoding='utf-8')\n",
    "print(f\"\\n✅ Dataset limpio exportado: 'datasets_procesados/anime_clean.csv'\")\n",
    "print(f\"   📏 Registros: {len(df):,}\")\n",
    "print(f\"   📐 Columnas: {len(df.columns)}\")"
   ]
  },
  {
   "cell_type": "markdown",
   "id": "7cfef28e",
   "metadata": {},
   "source": [
    "#### Imputación de Variables Categóricas\n",
    "\n",
    "**Método:** Reemplazar valores nulos con la etiqueta **\"Unknown\"**.\n",
    "\n",
    "**Columnas afectadas:**\n",
    "- Variables tipo `object` (texto)\n",
    "- Ejemplo: `genres`, `type`, `source`, `rating`, `studios`\n",
    "\n",
    "**Proceso:**\n",
    "```python\n",
    "# Para cada columna categórica:\n",
    "df[col] = df[col].fillna('Unknown')\n",
    "```\n",
    "\n",
    "**Ventaja:** Mantiene explícito que falta información en lugar de asumir una categoría.\n",
    "\n",
    "---"
   ]
  },
  {
   "cell_type": "code",
   "execution_count": 11,
   "id": "a6e3c550",
   "metadata": {},
   "outputs": [],
   "source": [
    "for col in columnas_categoricas:\n",
    "    if df[col].isnull().sum() > 0:\n",
    "        df[col] = df[col].fillna('Unknown')"
   ]
  },
  {
   "cell_type": "markdown",
   "id": "5ec8bfa9",
   "metadata": {},
   "source": [
    "### 3.5 Validación Final: Dataset Limpio ✅\n",
    "\n",
    "**Verificaciones realizadas:**\n",
    "\n",
    "1. ✅ **No hay valores nulos** en ninguna columna\n",
    "2. ✅ **No hay duplicados** (cada `anime_id` aparece una vez)\n",
    "3. ✅ **Tipos de datos correctos** (numéricos y categóricos)\n",
    "4. ✅ **Rangos válidos** (ej. score entre 1-10)\n",
    "\n",
    "**Resultado:** El dataset está listo para análisis exploratorio.\n",
    "\n",
    "**Dimensiones finales:**\n",
    "- Filas: ~15,000 anime\n",
    "- Columnas: ~18-20 (después de eliminar columnas con exceso de nulos)\n",
    "\n",
    "---"
   ]
  },
  {
   "cell_type": "code",
   "execution_count": 12,
   "id": "90a22880",
   "metadata": {},
   "outputs": [
    {
     "name": "stdout",
     "output_type": "stream",
     "text": [
      "\n",
      "Dataset limpio: 14997 filas, 19 columnas\n",
      "Valores nulos restantes: 0\n"
     ]
    }
   ],
   "source": [
    "print(f\"\\nDataset limpio: {len(df)} filas, {len(df.columns)} columnas\")\n",
    "print(f\"Valores nulos restantes: {df.isnull().sum().sum()}\")"
   ]
  },
  {
   "cell_type": "markdown",
   "id": "e0283cde",
   "metadata": {},
   "source": [
    "## 🏷️ 4. Procesamiento de Categorías de Géneros\n",
    "\n",
    "### Desafío\n",
    "\n",
    "MyAnimeList tiene **múltiples géneros** (Action, Emocionales y Humanistas, Fantasy, etc.) que generan:\n"
   ]
  },
  {
   "cell_type": "markdown",
   "id": "4bd93947",
   "metadata": {},
   "source": [
    "### 4.1 Definición de Categorías Temáticas\n"
   ]
  },
  {
   "cell_type": "code",
   "execution_count": 13,
   "id": "2e0c8c48",
   "metadata": {},
   "outputs": [],
   "source": [
    "CATEGORIAS_GENERO = {\n",
    "    'Drama': 'Emocionales y Humanistas',\n",
    "    'Romance': 'Emocionales y Humanistas',\n",
    "    'Slice of Life': 'Emocionales y Humanistas',\n",
    "    'Gourmet': 'Emocionales y Humanistas',\n",
    "    \n",
    "    'Action': 'Acción y Aventura',\n",
    "    'Adventure': 'Acción y Aventura',\n",
    "    'Sports': 'Acción y Aventura',\n",
    "    'Supernatural': 'Acción y Aventura',\n",
    "    \n",
    "    'Mystery': 'Misterio y Terror',\n",
    "    'Suspense': 'Misterio y Terror',\n",
    "    'Horror': 'Misterio y Terror',\n",
    "    'Thriller': 'Misterio y Terror',\n",
    "    \n",
    "    'Fantasy': 'Fantásticos y Experimentales',\n",
    "    'Sci-Fi': 'Fantásticos y Experimentales',\n",
    "    'Avant Garde': 'Fantásticos y Experimentales',\n",
    "    'Space': 'Fantásticos y Experimentales',\n",
    "    \n",
    "    'Boys Love': 'Íntimos y Adultos',\n",
    "    'Girls Love': 'Íntimos y Adultos',\n",
    "    'Ecchi': 'Íntimos y Adultos',\n",
    "    'Erotica': 'Íntimos y Adultos',\n",
    "    'Hentai': 'Íntimos y Adultos',\n",
    "    \n",
    "    'Comedy': 'Comedia'\n",
    "}"
   ]
  },
  {
   "cell_type": "markdown",
   "id": "46c2e802",
   "metadata": {},
   "source": [
    "### 4.2 Función de Categorización\n",
    "\n",
    "**Objetivo:** Mapear cada género individual a su categoría temática correspondiente.\n",
    "\n",
    "**Lógica de la función:**\n",
    "```python\n",
    "def categorizar_generos(genres_str):\n",
    "    # 1. Separar géneros (vienen como texto: \"Action, Emocionales y Humanistas, Fantasy\")\n",
    "    # 2. Para cada género, buscar en diccionario de mapeo\n",
    "    # 3. Retornar lista de categorías (puede ser múltiple)\n",
    "```\n",
    "\n",
    "**Características:**\n",
    "- **Multi-etiqueta:** Un anime puede tener varias categorías\n",
    "  - Ejemplo: \"Action, Emocionales y Humanistas\" → [\"Acción\", \"Emocional\"]\n",
    "- **Manejo de casos especiales:**\n",
    "  - Géneros nulos → Lista vacía\n",
    "  - \"Unknown\" → Lista vacía\n",
    "  - \"Award Winning\" → Se ignora (es meta-género)\n",
    "\n",
    "---"
   ]
  },
  {
   "cell_type": "code",
   "execution_count": 14,
   "id": "1f85b603",
   "metadata": {},
   "outputs": [],
   "source": [
    "def categorizar_generos(genres_str):\n",
    " \n",
    "    if pd.isna(genres_str) or genres_str == 'Unknown':\n",
    "        return []\n",
    "    \n",
    "    generos = [g.strip() for g in str(genres_str).split(',')]  # Separar por comas, para crear lista\n",
    "    categorias = set()  # Usar set para evitar duplicados puesto que un anime puede tener diferentes generos que caen en la misma categorai\n",
    "    \n",
    "    for genero in generos:\n",
    "        if genero == 'Award Winning':  #Se elimina award winning\n",
    "            continue\n",
    "        if genero in CATEGORIAS_GENERO:  \n",
    "            categorias.add(CATEGORIAS_GENERO[genero])\n",
    "    \n",
    "    return list(categorias)\n"
   ]
  },
  {
   "cell_type": "markdown",
   "id": "b0f50eb4",
   "metadata": {},
   "source": [
    "### 4.3 Aplicación de la Categorización al Dataset\n",
    "\n",
    "Se aplica la función `categorizar_generos()` a la columna `genres` del dataset completo.\n",
    "\n",
    "**Resultado:**\n",
    "- Nueva columna: `categorias_genero` (tipo: lista)\n",
    "- Cada anime tiene una lista de categorías asignadas\n",
    "\n",
    "**Ejemplo de transformación:**\n",
    "```\n",
    "ANTES:\n",
    "genres = \"Action, Adventure, Emocionales y Humanistas, Fantasy\"\n",
    "\n",
    "DESPUÉS:\n",
    "categorias_genero = [\"Acción y Aventura\", \"Emocionales\", \"Fantásticos\"]\n",
    "```\n",
    "\n",
    "**Verificación:** Inspeccionar algunos registros para confirmar que el mapeo es correcto.\n",
    "\n",
    "---"
   ]
  },
  {
   "cell_type": "code",
   "execution_count": 15,
   "id": "4f123e92",
   "metadata": {},
   "outputs": [],
   "source": [
    "df['categorias_genero'] = df['genres'].apply(categorizar_generos)\n",
    "df['num_categorias'] = df['categorias_genero'].apply(len) "
   ]
  },
  {
   "cell_type": "markdown",
   "id": "0198d518",
   "metadata": {},
   "source": [
    "### 4.4 Creación de DataFrame Expandido (Explode)\n",
    "\n",
    "**Problema:** Un anime con múltiples categorías aparece en una sola fila, dificultando el análisis por categoría.\n",
    "\n",
    "**Solución:** **Expandir** el dataset para que cada combinación anime×categoría sea una fila separada.\n",
    "\n",
    "**Ejemplo de transformación:**\n",
    "\n",
    "**ANTES (1 fila):**\n",
    "```\n",
    "name: \"Fullmetal Alchemist\"\n",
    "score: 9.1\n",
    "type: \"TV\"\n",
    "categorias: [\"Acción\", \"Fantástico\", \"Emocional\"]\n",
    "```\n",
    "\n",
    "**DESPUÉS (3 filas):**\n",
    "```\n",
    "1. name: \"FMA\", score: 9.1, type: \"TV\", categoria: \"Acción\"\n",
    "2. name: \"FMA\", score: 9.1, type: \"TV\", categoria: \"Fantástico\"\n",
    "3. name: \"FMA\", score: 9.1, type: \"TV\", categoria: \"Emocional\"\n",
    "```\n",
    "\n",
    "**Beneficio:** Permite calcular promedios y crear heatmaps por categoría fácilmente.\n",
    "\n",
    "---"
   ]
  },
  {
   "cell_type": "code",
   "execution_count": 16,
   "id": "2f2c1e52",
   "metadata": {},
   "outputs": [],
   "source": [
    "filas_expandidas = []\n",
    "for idx, row in df.iterrows():\n",
    "    if len(row['categorias_genero']) > 0:\n",
    "        for categoria in row['categorias_genero']:\n",
    "            filas_expandidas.append({\n",
    "                'categoria': categoria,\n",
    "                'score': row['score'],\n",
    "                'type': row['type'],\n",
    "                'name': row['name']\n",
    "            })"
   ]
  },
  {
   "cell_type": "markdown",
   "id": "f4157921",
   "metadata": {},
   "source": [
    "### 4.5 Construcción del DataFrame Categorizado\n",
    "\n",
    "Se itera sobre cada anime y sus categorías para construir un nuevo dataset expandido.\n",
    "\n",
    "**Campos incluidos en el nuevo dataset:**\n"
   ]
  },
  {
   "cell_type": "code",
   "execution_count": 17,
   "id": "e3841ba2",
   "metadata": {},
   "outputs": [
    {
     "name": "stdout",
     "output_type": "stream",
     "text": [
      "\n",
      "Animes categorizados: 14370\n",
      "Promedio de categorías por anime: 1.77\n",
      "Total de filas en df expandido: 26525\n"
     ]
    }
   ],
   "source": [
    "df_categorias = pd.DataFrame(filas_expandidas)  # Nuevo dataframe expandido\n",
    "\n",
    "print(f\"\\nAnimes categorizados: {(df['num_categorias'] > 0).sum()}\")\n",
    "print(f\"Promedio de categorías por anime: {df['num_categorias'].mean():.2f}\")\n",
    "print(f\"Total de filas en df expandido: {len(df_categorias)}\")"
   ]
  },
  {
   "cell_type": "code",
   "execution_count": 18,
   "id": "export_categorized_dataset",
   "metadata": {},
   "outputs": [
    {
     "name": "stdout",
     "output_type": "stream",
     "text": [
      "\n",
      "✅ Dataset categorizado exportado: 'datasets_procesados/anime_categorizado.csv'\n",
      "   📏 Registros: 26,525\n",
      "   📐 Columnas: 4\n",
      "   🏷️  Columna 'categoria' añadida con 6 categorías\n"
     ]
    }
   ],
   "source": [
    "# Exportar dataset categorizado\n",
    "df_categorias.to_csv('datasets_procesados/anime_categorizado.csv', index=False, encoding='utf-8')\n",
    "print(f\"\\n✅ Dataset categorizado exportado: 'datasets_procesados/anime_categorizado.csv'\")\n",
    "print(f\"   📏 Registros: {len(df_categorias):,}\")\n",
    "print(f\"   📐 Columnas: {len(df_categorias.columns)}\")\n",
    "print(f\"   🏷️  Columna 'categoria' añadida con {df_categorias['categoria'].nunique()} categorías\")"
   ]
  },
  {
   "cell_type": "code",
   "execution_count": 19,
   "id": "7b79b360",
   "metadata": {},
   "outputs": [
    {
     "data": {
      "text/html": [
       "<div>\n",
       "<style scoped>\n",
       "    .dataframe tbody tr th:only-of-type {\n",
       "        vertical-align: middle;\n",
       "    }\n",
       "\n",
       "    .dataframe tbody tr th {\n",
       "        vertical-align: top;\n",
       "    }\n",
       "\n",
       "    .dataframe thead th {\n",
       "        text-align: right;\n",
       "    }\n",
       "</style>\n",
       "<table border=\"1\" class=\"dataframe\">\n",
       "  <thead>\n",
       "    <tr style=\"text-align: right;\">\n",
       "      <th></th>\n",
       "      <th>categoria</th>\n",
       "      <th>score</th>\n",
       "      <th>type</th>\n",
       "      <th>name</th>\n",
       "    </tr>\n",
       "  </thead>\n",
       "  <tbody>\n",
       "    <tr>\n",
       "      <th>0</th>\n",
       "      <td>Emocionales y Humanistas</td>\n",
       "      <td>9.29</td>\n",
       "      <td>TV</td>\n",
       "      <td>Sousou no Frieren</td>\n",
       "    </tr>\n",
       "    <tr>\n",
       "      <th>1</th>\n",
       "      <td>Fantásticos y Experimentales</td>\n",
       "      <td>9.29</td>\n",
       "      <td>TV</td>\n",
       "      <td>Sousou no Frieren</td>\n",
       "    </tr>\n",
       "    <tr>\n",
       "      <th>2</th>\n",
       "      <td>Acción y Aventura</td>\n",
       "      <td>9.29</td>\n",
       "      <td>TV</td>\n",
       "      <td>Sousou no Frieren</td>\n",
       "    </tr>\n",
       "    <tr>\n",
       "      <th>3</th>\n",
       "      <td>Emocionales y Humanistas</td>\n",
       "      <td>9.10</td>\n",
       "      <td>TV</td>\n",
       "      <td>Fullmetal Alchemist: Brotherhood</td>\n",
       "    </tr>\n",
       "    <tr>\n",
       "      <th>4</th>\n",
       "      <td>Fantásticos y Experimentales</td>\n",
       "      <td>9.10</td>\n",
       "      <td>TV</td>\n",
       "      <td>Fullmetal Alchemist: Brotherhood</td>\n",
       "    </tr>\n",
       "  </tbody>\n",
       "</table>\n",
       "</div>"
      ],
      "text/plain": [
       "                      categoria  score type                              name\n",
       "0      Emocionales y Humanistas   9.29   TV                 Sousou no Frieren\n",
       "1  Fantásticos y Experimentales   9.29   TV                 Sousou no Frieren\n",
       "2             Acción y Aventura   9.29   TV                 Sousou no Frieren\n",
       "3      Emocionales y Humanistas   9.10   TV  Fullmetal Alchemist: Brotherhood\n",
       "4  Fantásticos y Experimentales   9.10   TV  Fullmetal Alchemist: Brotherhood"
      ]
     },
     "execution_count": 19,
     "metadata": {},
     "output_type": "execute_result"
    }
   ],
   "source": [
    "df_categorias.head()"
   ]
  },
  {
   "cell_type": "markdown",
   "id": "74c88468",
   "metadata": {},
   "source": [
    "## 📊 5. Análisis Univariado: Variables Individuales\n"
   ]
  },
  {
   "cell_type": "code",
   "execution_count": 20,
   "id": "70405197",
   "metadata": {},
   "outputs": [
    {
     "name": "stdout",
     "output_type": "stream",
     "text": [
      "count    14997.000000\n",
      "mean         6.596143\n",
      "std          0.784944\n",
      "min          5.120000\n",
      "25%          5.980000\n",
      "50%          6.540000\n",
      "75%          7.170000\n",
      "max          9.290000\n",
      "Name: score, dtype: float64\n"
     ]
    }
   ],
   "source": [
    "media = df['score'].mean()  # Calcular media\n",
    "mediana = df['score'].median()  # Calcular mediana\n",
    "desviacion = df['score'].std()  # Calcular desviación \n",
    "\n",
    "print(df['score'].describe())"
   ]
  },
  {
   "cell_type": "markdown",
   "id": "306eaa6b",
   "metadata": {},
   "source": [
    "### 5.1 Distribución de Score con Curva Normal\n",
    "\n",
    "**Objetivo:** Visualizar la distribución de scores y compararla con una distribución normal teórica.\n",
    "\n",
    "**Componentes del gráfico:**\n",
    "1. **Histograma:** Barras que muestran frecuencia de scores en intervalos\n",
    "2. **Curva Normal Teórica:** Línea roja que muestra cómo sería una distribución perfectamente normal\n",
    "3. **Línea de Media:** Línea vertical que marca el score promedio\n",
    "\n",
    "**Interpretación:**\n",
    "- Si el histograma se parece a la curva roja → Distribución **aproximadamente normal**\n",
    "- Si hay cola larga a la derecha → **Skewness positivo** (más anime excepcionales)\n",
    "- Si hay cola larga a la izquierda → **Skewness negativo** (más anime de baja calidad)\n",
    "\n",
    "---"
   ]
  },
  {
   "cell_type": "code",
   "execution_count": 21,
   "id": "8d2e2446",
   "metadata": {},
   "outputs": [],
   "source": [
    "fig1 = go.Figure()"
   ]
  },
  {
   "cell_type": "markdown",
   "id": "700a0100",
   "metadata": {},
   "source": [
    "#### Paso 1: Agregar Histograma Normalizado\n",
    "\n",
    "Se crea un histograma con densidad normalizada (área total = 1) para poder comparar con la curva normal.\n",
    "\n",
    "---"
   ]
  },
  {
   "cell_type": "code",
   "execution_count": 22,
   "id": "74188b4e",
   "metadata": {},
   "outputs": [
    {
     "data": {
      "image/png": "[encoded data removed]"
     },
     "metadata": {},
     "output_type": "display_data"
    }
   ],
   "source": [
    "fig1.add_trace(go.Histogram(\n",
    "    x=df['score'],\n",
    "    nbinsx=30,  # 30 barras\n",
    "    name='Frecuencia',\n",
    "    marker_color='#8b5cf6',\n",
    "    opacity=0.7,\n",
    "    histnorm='probability density'  # Normalizar para densidad de probabilidad\n",
    "))"
   ]
  },
  {
   "cell_type": "markdown",
   "id": "ad7c7da8",
   "metadata": {},
   "source": [
    "#### Paso 2: Generar Curva Normal Teórica\n",
    "\n",
    "Se calcula una distribución normal con la misma media y desviación estándar que los datos reales.\n",
    "\n",
    "---"
   ]
  },
  {
   "cell_type": "code",
   "execution_count": 23,
   "id": "73adb8d6",
   "metadata": {},
   "outputs": [
    {
     "data": {
      "image/png": "[encoded data removed]"
     },
     "metadata": {},
     "output_type": "display_data"
    }
   ],
   "source": [
    "x_curva = np.linspace(df['score'].min(), df['score'].max(), 100)  # 100 puntos\n",
    "y_curva = stats.norm.pdf(x_curva, media, desviacion)  # Función densidad normal\n",
    "fig1.add_trace(go.Scatter(\n",
    "    x=x_curva,\n",
    "    y=y_curva,\n",
    "    mode='lines',\n",
    "    name='Curva Normal',\n",
    "    line=dict(color='red', width=3)\n",
    "))"
   ]
  },
  {
   "cell_type": "markdown",
   "id": "39ef967d",
   "metadata": {},
   "source": [
    "#### Paso 3: Agregar Línea Vertical en la Media\n",
    "\n",
    "Se marca visualmente la media para identificar el score típico.\n",
    "\n",
    "---"
   ]
  },
  {
   "cell_type": "code",
   "execution_count": 24,
   "id": "f5e615d5",
   "metadata": {},
   "outputs": [
    {
     "data": {
      "image/png": "[encoded data removed]"
     },
     "metadata": {},
     "output_type": "display_data"
    }
   ],
   "source": [
    "fig1.add_vline(x=media, line_dash=\"dash\", line_color=\"orange\",\n",
    "              annotation_text=f\"Media: {media:.2f}\")"
   ]
  },
  {
   "cell_type": "markdown",
   "id": "8205fd3a",
   "metadata": {},
   "source": [
    "#### Paso 4: Configurar Layout del Gráfico\n",
    "\n",
    "Se ajustan títulos, etiquetas y leyendas para mejorar la legibilidad.\n",
    "\n",
    "---"
   ]
  },
  {
   "cell_type": "code",
   "execution_count": 25,
   "id": "9bab39b0",
   "metadata": {},
   "outputs": [
    {
     "data": {
      "image/png": "[encoded data removed]"
     },
     "metadata": {},
     "output_type": "display_data"
    }
   ],
   "source": [
    "fig1.update_layout(\n",
    "    title='Distribución de Score con Curva Normal',\n",
    "    xaxis_title='Calificación',\n",
    "    yaxis_title='Densidad',\n",
    "    height=500\n",
    ")\n",
    "fig1.show()"
   ]
  },
  {
   "cell_type": "markdown",
   "id": "e96903d3",
   "metadata": {},
   "source": [
    "### 5.2 Distribución por Tipo de Anime\n",
    "\n",
    "**Objetivo:** Ver qué formatos dominan el dataset.\n",
    "\n",
    "**Tipos de anime:**\n",
    "- **TV:** Series televisivas (12-24+ episodios)\n",
    "- **Movie:** Películas cinematográficas (90-120 min)\n",
    "- **OVA:** Original Video Animation (directo a video/DVD)\n",
    "- **ONA:** Original Net Animation (web-exclusive, streaming)\n",
    "- **Special:** Episodios especiales\n",
    "- **Music:** Videos musicales\n",
    "\n",
    "**Expectativa:** TV debería dominar (es el formato más común en la industria).\n",
    "\n",
    "---"
   ]
  },
  {
   "cell_type": "code",
   "execution_count": 26,
   "id": "2ff07453",
   "metadata": {},
   "outputs": [],
   "source": [
    "type_counts = df['type'].value_counts()  # Contar frecuencia de cada tipo\n",
    "df_type = pd.DataFrame({'type': type_counts.index, 'count': type_counts.values})"
   ]
  },
  {
   "cell_type": "markdown",
   "id": "f3134be1",
   "metadata": {},
   "source": [
    "#### Visualización: Gráfico de Torta (Pie Chart)\n",
    "\n",
    "**Muestra:** Proporción de cada tipo en el dataset total.\n",
    "\n",
    "**Interpretación:** El tamaño de cada sector representa el % de anime en ese formato.\n",
    "\n",
    "---"
   ]
  },
  {
   "cell_type": "code",
   "execution_count": 27,
   "id": "0ec86217",
   "metadata": {},
   "outputs": [
    {
     "data": {
      "image/png": "[encoded data removed]"
     },
     "metadata": {},
     "output_type": "display_data"
    }
   ],
   "source": [
    "fig2 = px.pie(\n",
    "    df_type,\n",
    "    values='count',\n",
    "    names='type',\n",
    "    title='Distribución por Tipo de Anime',\n",
    "    color_discrete_sequence=px.colors.sequential.Blues_r\n",
    ")\n",
    "fig2.update_traces(\n",
    "    textposition='inside',\n",
    "    textinfo='percent+label',\n",
    "    marker=dict(line=dict(color='white', width=2))\n",
    ")\n",
    "fig2.update_layout(height=600)\n",
    "fig2.show()\n",
    "\n",
    "print(\"Distribución por Tipo:\")\n",
    "print(type_counts)"
   ]
  },
  {
   "cell_type": "markdown",
   "id": "27cd2106",
   "metadata": {},
   "source": [
    "### 5.3 Distribución por Categoría de Género\n",
    "\n",
    "**Objetivo:** Identificar qué categorías temáticas son más comunes.\n",
    "\n",
    "**Nota importante:** Como usamos dataset expandido (`df_categorias`), un anime puede aparecer en múltiples categorías.\n",
    "\n",
    "**Métricas:**\n",
    "- **Frecuencia absoluta:** Cantidad de asignaciones por categoría\n",
    "- **Frecuencia relativa:** Porcentaje del total de asignaciones\n",
    "\n",
    "**Expectativa:** \"Acción y Aventura\" y \"Fantásticos\" probablemente dominen (géneros mainstream).\n",
    "\n",
    "---"
   ]
  },
  {
   "cell_type": "code",
   "execution_count": 28,
   "id": "63c560d6",
   "metadata": {},
   "outputs": [],
   "source": [
    "cat_counts = df_categorias['categoria'].value_counts()  # Contar frecuencia de categorias\n",
    "df_cat = pd.DataFrame({'categoria': cat_counts.index, 'count': cat_counts.values})"
   ]
  },
  {
   "cell_type": "markdown",
   "id": "bfc9485c",
   "metadata": {},
   "source": [
    "### 5.4 Cantidad de Categorías por Anime\n",
    "\n",
    "**Objetivo:** Ver cuántas categorías tiene cada anime en promedio.\n",
    "\n",
    "**Proceso:**\n"
   ]
  },
  {
   "cell_type": "code",
   "execution_count": 29,
   "id": "30b6f0db",
   "metadata": {},
   "outputs": [],
   "source": [
    "conteo_num_cat = df['num_categorias'].value_counts().sort_index()  # Contar y ordenar\n",
    "df_num_cat = pd.DataFrame({\n",
    "    'Cantidad': conteo_num_cat.index,\n",
    "    'Frecuencia': conteo_num_cat.values\n",
    "})\n"
   ]
  },
  {
   "cell_type": "code",
   "execution_count": 30,
   "id": "902bc0e5",
   "metadata": {},
   "outputs": [
    {
     "data": {
      "image/png": "[encoded data removed]"
     },
     "metadata": {},
     "output_type": "display_data"
    }
   ],
   "source": [
    "fig3 = px.pie(\n",
    "    df_cat,\n",
    "    values='count',\n",
    "    names='categoria',\n",
    "    title='Distribución por Categoría de Género',\n",
    "    )\n",
    "\n",
    "fig3.update_traces(\n",
    "    textposition='inside',\n",
    "    textinfo='percent+label',\n",
    "    textfont_size=11,\n",
    "    marker=dict(line=dict(color='white', width=2))\n",
    ")\n",
    "\n",
    "fig3.show()\n",
    "\n",
    "print(\"\\nDistribución por Categoría:\")\n",
    "print(cat_counts)"
   ]
  },
  {
   "cell_type": "markdown",
   "id": "82024ce9",
   "metadata": {},
   "source": [
    "#### Visualización: Gráfico de Barras\n",
    "\n",
    "**Muestra:** Distribución de frecuencias (1 categoría, 2 categorías, 3+ categorías).\n",
    "\n",
    "---"
   ]
  },
  {
   "cell_type": "code",
   "execution_count": 31,
   "id": "06aeee03",
   "metadata": {},
   "outputs": [
    {
     "data": {
      "image/png": "[encoded data removed]"
     },
     "metadata": {},
     "output_type": "display_data"
    }
   ],
   "source": [
    "fig4 = px.bar(\n",
    "    df_num_cat,\n",
    "    x='Cantidad',\n",
    "    y='Frecuencia',\n",
    "    title='Cantidad de Categorías por Anime',\n",
    "    color= 'Cantidad',\n",
    "    color_continuous_scale='Blues'\n",
    ")\n",
    "fig4.show()\n"
   ]
  },
  {
   "cell_type": "markdown",
   "id": "a4f5655a",
   "metadata": {},
   "source": [
    "## 📈 6. Análisis Bivariado: Relaciones Entre Variables\n",
    "\n",
    "### Objetivo\n",
    "\n",
    "Explorar cómo **dos variables se relacionan** entre sí:\n"
   ]
  },
  {
   "cell_type": "code",
   "execution_count": 32,
   "id": "58a95670",
   "metadata": {},
   "outputs": [],
   "source": [
    "score_por_tipo = (\n",
    "    df.groupby('type', as_index=False)\n",
    "      .agg(score_promedio=('score','mean'),\n",
    "           cantidad=('score','count'),\n",
    "           desviacion=('score','std'))\n",
    "      .sort_values('score_promedio', ascending=False)\n",
    ")\n"
   ]
  },
  {
   "cell_type": "markdown",
   "id": "79022b3c",
   "metadata": {},
   "source": [
    "#### Visualización: Gráfico de Barras\n",
    "\n",
    "**Muestra:** Distribución de frecuencias (1 categoría, 2 categorías, 3+ categorías).\n",
    "\n",
    "---"
   ]
  },
  {
   "cell_type": "code",
   "execution_count": 33,
   "id": "27526f02",
   "metadata": {},
   "outputs": [
    {
     "data": {
      "image/png": "[encoded data removed]"
     },
     "metadata": {},
     "output_type": "display_data"
    }
   ],
   "source": [
    "fig5 = px.bar(\n",
    "    score_por_tipo,\n",
    "    x='score_promedio',\n",
    "    y='type',\n",
    "    orientation='h',\n",
    "    title='Score Promedio por Tipo',\n",
    "    color='score_promedio',\n",
    "    color_continuous_scale='RdYlGn',  # Escala de colores rojo-amarillo-verde\n",
    "    hover_data=['cantidad']  # Mostrar cantidad en hover\n",
    ")\n",
    "fig5.update_layout(height=500, yaxis={'categoryorder': 'total ascending'})\n",
    "fig5.show()\n",
    "\n",
    "print(\"\\n--- Score por Tipo ---\")\n",
    "print(score_por_tipo[['type', 'score_promedio', 'cantidad']])"
   ]
  },
  {
   "cell_type": "markdown",
   "id": "c671584e",
   "metadata": {},
   "source": [
    "### 6.1 Boxplot: Score vs Type\n",
    "\n",
    "**Objetivo:** Visualizar la distribución **completa** de scores por formato, no solo el promedio.\n",
    "\n",
    "**Elementos del Boxplot:**\n"
   ]
  },
  {
   "cell_type": "code",
   "execution_count": 34,
   "id": "06838ba9",
   "metadata": {},
   "outputs": [
    {
     "data": {
      "image/png": "[encoded data removed]"
     },
     "metadata": {},
     "output_type": "display_data"
    }
   ],
   "source": [
    "fig6 = px.box(\n",
    "    df,\n",
    "    x='type',\n",
    "    y='score',\n",
    "    color='type',\n",
    "    title='Distribución de Score por Tipo',\n",
    "    points='outliers',  # Mostrar solo outliers\n",
    "    color_discrete_sequence=px.colors.qualitative.Set2\n",
    ")\n",
    "fig6.update_layout(height=600)\n",
    "fig6.update_xaxes(tickangle=45)  # Rotar etiquetas del eje X\n",
    "fig6.show()\n"
   ]
  },
  {
   "cell_type": "markdown",
   "id": "ea625349",
   "metadata": {},
   "source": [
    "### 6.2 Score Promedio por Categoría de Género\n",
    "\n",
    "**Objetivo:** Identificar qué categorías temáticas obtienen mejores calificaciones en promedio.\n",
    "\n",
    "**Pregunta de investigación:**\n",
    "- ¿\"Misterio\" tiene scores más altos que \"Comedia\"?\n",
    "- ¿Géneros nicho (con audiencias selectas) tienen mejor rendimiento?\n",
    "\n",
    "**Hipótesis:**\n",
    "- **Géneros nicho** (Mystery, Horror) → Scores más altos (autoselección de fans)\n",
    "- **Géneros mainstream** (Acción, Comedia) → Scores más dispersos (audiencia amplia)\n",
    "\n",
    "---"
   ]
  },
  {
   "cell_type": "code",
   "execution_count": 35,
   "id": "a6d0331e",
   "metadata": {},
   "outputs": [],
   "source": [
    "score_por_cat = df_categorias.groupby('categoria').agg({\n",
    "    'score': ['mean', 'count', 'std']\n",
    "}).reset_index()\n",
    "score_por_cat.columns = ['categoria', 'score_promedio', 'cantidad', 'desviacion']\n",
    "score_por_cat = score_por_cat.sort_values('score_promedio', ascending=False)"
   ]
  },
  {
   "cell_type": "code",
   "execution_count": 36,
   "id": "3ac0b1a7",
   "metadata": {},
   "outputs": [
    {
     "data": {
      "image/png": "[encoded data removed]"
     },
     "metadata": {},
     "output_type": "display_data"
    }
   ],
   "source": [
    "fig7 = px.bar(\n",
    "    score_por_cat,\n",
    "    x='score_promedio',\n",
    "    y='categoria',\n",
    "    orientation='h',\n",
    "    title='Score Promedio por Categoría de Género',\n",
    "    color='score_promedio',\n",
    "    color_continuous_scale='RdYlGn',\n",
    "    hover_data=['cantidad']\n",
    ")\n",
    "fig7.update_layout(height=500, yaxis={'categoryorder': 'total ascending'})\n",
    "fig7.show()\n",
    "\n",
    "print(\"\\nScore por Categoría\")\n",
    "print(score_por_cat[['categoria', 'score_promedio', 'cantidad']])"
   ]
  },
  {
   "cell_type": "markdown",
   "id": "f5abb353",
   "metadata": {},
   "source": [
    "### 6.3 Boxplot: Score vs Categoría\n",
    "\n",
    "**Objetivo:** Comparar la distribución completa de scores entre categorías temáticas.\n",
    "\n",
    "**Análisis comparativo:**\n",
    "- **Posición vertical:** ¿Qué categoría tiene mediana más alta?\n",
    "- **Ancho de la caja:** ¿Qué categoría tiene scores más consistentes?\n",
    "- **Outliers:** ¿Qué categoría produce más masterpieces?\n",
    "\n",
    "**Hallazgo esperado:** Categorías como \"Misterio\" y \"Fantásticos\" deberían mostrar cajas más altas que \"Comedia\" o \"Íntimos\".\n",
    "\n",
    "---"
   ]
  },
  {
   "cell_type": "code",
   "execution_count": 37,
   "id": "a3d9150c",
   "metadata": {},
   "outputs": [
    {
     "data": {
      "image/png": "[encoded data removed]"
     },
     "metadata": {},
     "output_type": "display_data"
    }
   ],
   "source": [
    "fig8 = px.box(\n",
    "    df_categorias,\n",
    "    x='categoria',\n",
    "    y='score',\n",
    "    color='categoria',\n",
    "    title='Distribución de Score por Categoría',\n",
    "    points='outliers',  # Mostrar outliers\n",
    "    color_discrete_sequence=px.colors.qualitative.Pastel\n",
    ")\n",
    "fig8.update_layout(height=600)\n",
    "fig8.update_xaxes(tickangle=45)\n",
    "fig8.show()"
   ]
  },
  {
   "cell_type": "markdown",
   "id": "9bf2c81a",
   "metadata": {},
   "source": [
    "## 🔀 7. Análisis Multivariado: Interacciones\n",
    "\n",
    "### Objetivo\n",
    "\n",
    "Investigar si **Type y Categoría interactúan**, es decir:\n",
    "- ¿El efecto del Type depende de la Categoría?\n",
    "- ¿Ciertas combinaciones Type×Categoría son mejores que otras?\n",
    "\n",
    "### Modelo Conceptual\n",
    "\n",
    "**Efectos Aditivos (independientes):**\n",
    "```\n",
    "Score = Base + Efecto_Type + Efecto_Categoría\n",
    "```\n",
    "\n",
    "**Efectos con Interacción:**\n",
    "```\n",
    "Score = Base + Efecto_Type + Efecto_Categoría + Interacción_Type×Categoría\n",
    "```\n",
    "\n",
    "**Si hay interacción:** Algunas combinaciones específicas (ej. Movie+Misterio) funcionan mejor de lo esperado.\n",
    "\n",
    "---"
   ]
  },
  {
   "cell_type": "markdown",
   "id": "46b04790",
   "metadata": {},
   "source": [
    "### 7.1 Análisis Type × Categoría vs Score\n",
    "\n",
    "**Objetivo:** Calcular el score promedio para cada combinación posible de Type y Categoría.\n",
    "\n",
    "**Dimensiones del análisis:**\n",
    "- **Filas:** Types (TV, Movie, OVA, ONA) = 4 tipos\n",
    "- **Columnas:** Categorías = 6 categorías\n",
    "- **Total de celdas:** 4 × 6 = 24 combinaciones\n",
    "\n",
    "**Resultado:** Tabla pivote con score promedio en cada celda.\n",
    "\n",
    "---"
   ]
  },
  {
   "cell_type": "code",
   "execution_count": 38,
   "id": "d8436172",
   "metadata": {},
   "outputs": [],
   "source": [
    "score_tipo_cat = df_categorias.groupby(['type', 'categoria']).agg({\n",
    "    'score': ['mean', 'count']\n",
    "}).reset_index()\n",
    "score_tipo_cat.columns = ['type', 'categoria', 'score_promedio', 'cantidad']"
   ]
  },
  {
   "cell_type": "markdown",
   "id": "5d2fe152",
   "metadata": {},
   "source": [
    "#### Creación de Tabla Pivote\n",
    "\n",
    "**Proceso:**\n",
    "1. Agrupar por `type` y `categoria`\n",
    "2. Calcular score promedio para cada grupo\n",
    "3. Reorganizar en formato pivote (filas=type, columnas=categoría)\n",
    "\n",
    "**Resultado:** Matriz de 4×6 con scores promedio.\n",
    "\n",
    "**Ejemplo de celda:**\n",
    "- `[TV, Misterio]` = 7.11 → Score promedio de anime que son TV y de categoría Misterio\n",
    "\n",
    "---"
   ]
  },
  {
   "cell_type": "code",
   "execution_count": 39,
   "id": "f1e84227",
   "metadata": {},
   "outputs": [],
   "source": [
    "pivot_table = score_tipo_cat.pivot(\n",
    "    index='type',  \n",
    "    columns='categoria',  \n",
    "    values='score_promedio'  \n",
    ")"
   ]
  },
  {
   "cell_type": "markdown",
   "id": "heatmap_explicacion",
   "metadata": {},
   "source": [
    "### 7.2 Heatmap: Type × Categoría → Score\n",
    "\n",
    "**Objetivo:** Visualizar la tabla pivote como un **mapa de calor** para identificar rápidamente las combinaciones ganadoras (colores cálidos) y las de riesgo (colores fríos).\n",
    "\n",
    "**Interpretación del color:**\n",
    "- **Naranja/Amarillo intenso:** Combinaciones con score promedio **>7.5** (alta aceptación)\n",
    "- **Verde/Amarillo:** Scores entre **7.0-7.4** (rendimiento sólido)\n",
    "- **Azul claro:** Scores entre **6.5-6.9** (promedio, riesgo moderado)\n",
    "- **Azul oscuro:** Scores **<6.5** (bajo rendimiento, requiere innovación)\n",
    "\n",
    "**Análisis esperado:**\n",
    "- **Zonas calientes:** Movies de categorías de alta demanda (Acción y Aventura, Fantásticos y Experimentales) (narrativas + presupuesto)\n",
    "- **Zonas templadas:** TV de géneros mainstream\n",
    "- **Zonas frías:** ONAs (formato emergente sin madurar)\n",
    "\n",
    "**Hallazgo clave:** Identificar si existe una **combinación dominante** que funcione en todas las categorías (ej: Movies) o si cada género tiene su formato óptimo."
   ]
  },
  {
   "cell_type": "code",
   "execution_count": 40,
   "id": "e27c1d0a",
   "metadata": {},
   "outputs": [
    {
     "data": {
      "image/png": "[encoded data removed]"
     },
     "metadata": {},
     "output_type": "display_data"
    }
   ],
   "source": [
    "fig9 = px.imshow(\n",
    "    pivot_table,\n",
    "    labels=dict(x=\"Categoría\", y=\"Tipo\", color=\"Score Promedio\"),\n",
    "    title='Heatmap: Score por Tipo × Categoría de Género',\n",
    "    color_continuous_scale='RdYlGn',  \n",
    "    aspect='auto',\n",
    "    text_auto='.2f'  \n",
    ")\n",
    "fig9.update_layout(height=600)\n",
    "fig9.show()\n",
    "\n",
    "print(\"\\nMatriz Tipo × Categoría\")\n",
    "print(pivot_table)"
   ]
  },
  {
   "cell_type": "markdown",
   "id": "barras_agrupadas_explicacion",
   "metadata": {},
   "source": [
    "### 7.2b Gráfico de Barras Agrupadas: Score por Categoría × Tipo\n",
    "\n",
    "**Objetivo:** Comparar **directamente** el rendimiento de cada formato (Movie, TV, OVA, ONA) dentro de la misma categoría de género.\n",
    "\n",
    "**Cómo leer el gráfico:**\n",
    "- **Eje X:** Categorías temáticas (Acción y Aventura, Fantásticos y Experimentales, etc.)\n",
    "- **Eje Y:** Score promedio\n",
    "- **Barras agrupadas:** Cada color = un formato (permite comparación lado a lado)\n",
    "\n",
    "**Análisis comparativo:**\n",
    "- **Altura de barras:** ¿Movies dominan en todas las categorías o hay excepciones?\n",
    "- **Consistencia entre formatos:** ¿Ciertas categorías son \"format-agnostic\" (ej: Emocionales y Humanistas)?\n",
    "- **Brechas grandes:** Identificar combinaciones donde el formato hace diferencia crítica\n",
    "\n",
    "**Hallazgo esperado:** Movies deberían liderar en géneros visuales (Fantásticos y Experimentales, Acción), mientras que TV podría competir en géneros narrativos (Emocionales y Humanistas, Romance)."
   ]
  },
  {
   "cell_type": "code",
   "execution_count": 41,
   "id": "code_barras_agrupadas",
   "metadata": {},
   "outputs": [
    {
     "data": {
      "image/png": "[encoded data removed]"
     },
     "metadata": {},
     "output_type": "display_data"
    }
   ],
   "source": [
    "# 6.3 Gráfico agrupado: Score por Categoría, agrupado por Tipo\n",
    "tipos_principales = ['TV', 'Movie', 'OVA', 'ONA']  # Seleccionar tipos principales\n",
    "df_agrupado = score_tipo_cat[score_tipo_cat['type'].isin(tipos_principales)]\n",
    "\n",
    "fig10 = px.bar(\n",
    "    df_agrupado,\n",
    "    x='categoria',\n",
    "    y='score_promedio',\n",
    "    color='type',  # Color por tipo\n",
    "    barmode='group',  # Barras agrupadas lado a lado\n",
    "    title='Score por Categoría, Agrupado por Tipo',\n",
    "    color_discrete_sequence=px.colors.qualitative.Set2\n",
    ")\n",
    "fig10.update_layout(height=600)\n",
    "fig10.update_xaxes(tickangle=45)\n",
    "fig10.show()\n",
    "\n",
    "# 6.4 Identificar mejor categoría por cada tipo\n",
    "print(\"\\n--- Mejor Categoría por Tipo ---\")\n",
    "for tipo in tipos_principales:\n",
    "    df_tipo = score_tipo_cat[score_tipo_cat['type'] == tipo]\n",
    "    if len(df_tipo) > 0:\n",
    "        df_tipo_sorted = df_tipo.sort_values('score_promedio', ascending=False)\n",
    "        top_3 = df_tipo_sorted.head(3)  # Top 3 categorías\n",
    "        print(f\"\\n{tipo}:\")\n",
    "        for i, row in enumerate(top_3.iterrows(), 1):\n",
    "            _, data = row\n",
    "            print(f\"   #{i}: {data['categoria']} (Score: {data['score_promedio']:.2f}, n={int(data['cantidad'])})\")"
   ]
  },
  {
   "cell_type": "markdown",
   "id": "mejor_categoria_tipo_explicacion",
   "metadata": {},
   "source": [
    "### Análisis: Mejor Categoría por Tipo\n"
   ]
  },
  {
   "cell_type": "markdown",
   "id": "boxplot_explicacion",
   "metadata": {},
   "source": [
    "### 7.3 Boxplot Multivariable: Score por Tipo × Categoría\n",
    "\n",
    "**Objetivo:** Analizar la **distribución completa** de scores (no solo promedios) para entender variabilidad y detectar outliers por formato y categoría.\n",
    "\n",
    "**Elementos del boxplot:**\n",
    "- **Caja (box):** Rango intercuartil (50% central de los datos)\n",
    "- **Línea central:** Mediana (más robusta que el promedio)\n",
    "- **Bigotes (whiskers):** Rango de valores típicos\n",
    "- **Puntos aislados:** Outliers (anime excepcionales o decepcionantes)\n",
    "\n",
    "**Análisis de variabilidad:**\n",
    "- **Cajas estrechas:** Calidad consistente (ej: Movies deberían tener cajas cortas)\n",
    "- **Cajas anchas:** Alta variabilidad (ej: TV = alto riesgo/retorno)\n",
    "- **Muchos outliers superiores:** Formato con potencial de masterpieces\n",
    "\n",
    "**Análisis por categoría (colores):**\n",
    "- Observar si **Acción y Aventura** tiene distribuciones más altas que **Emocionales y Humanistas**\n",
    "- Identificar si ciertas categorías son más **predecibles** (menor dispersión)\n",
    "\n",
    "**Hallazgo esperado:** Movies con alta mediana y baja variabilidad (apuesta segura), TV con distribución amplia (franquicias o fracasos)."
   ]
  },
  {
   "cell_type": "code",
   "execution_count": 42,
   "id": "code_boxplot_multivariable",
   "metadata": {},
   "outputs": [
    {
     "data": {
      "image/png": "[encoded data removed]"
     },
     "metadata": {},
     "output_type": "display_data"
    }
   ],
   "source": [
    "# 6.5 Boxplot multivariable: Score por Tipo, coloreado por Categoría\n",
    "df_box = df_categorias[df_categorias['type'].isin(tipos_principales)]\n",
    "\n",
    "fig11 = px.box(\n",
    "    df_box,\n",
    "    x='type',\n",
    "    y='score',\n",
    "    color='categoria',\n",
    "    title='Score por Tipo, Coloreado por Categoría',\n",
    "    color_discrete_sequence=px.colors.qualitative.Set3\n",
    ")\n",
    "fig11.update_layout(height=700)\n",
    "fig11.show()"
   ]
  },
  {
   "cell_type": "markdown",
   "id": "top10_explicacion",
   "metadata": {},
   "source": [
    "### 7.4 Top 10 Combinaciones Type × Categoría\n",
    "\n",
    "**Objetivo:** Identificar las **10 combinaciones más exitosas** de formato × género con base en score promedio, revelando estrategias probadas de éxito.\n",
    "\n",
    "**Métricas a observar:**\n",
    "- **Score promedio:** ¿Qué combinaciones superan 7.5?\n",
    "- **Cantidad de títulos:** ¿Es una estrategia común o nicho?\n",
    "- **Consistencia:** (Análisis posterior con desviación estándar)\n",
    "\n",
    "**Análisis estratégico:**\n",
    "- **Posiciones 1-3:** Apuestas de **bajo riesgo** con track record probado\n",
    "- **Posiciones 4-7:** Estrategias **mainstream** viables\n",
    "- **Posiciones 8-10:** Oportunidades de **nicho** con potencial\n",
    "\n",
    "**Preguntas clave:**\n",
    "1. ¿Hay un formato dominante en el Top 10? (ej: Movies)\n",
    "2. ¿Qué categorías aparecen múltiples veces? (géneros confiables)\n",
    "3. ¿Existen combinaciones sorprendentes? (OVAs, ONAs)\n",
    "\n",
    "**Hallazgo esperado:** Movie × Acción y Aventura y Movie × Fantásticos y Experimentales deberían liderar el ranking, validando la hipótesis de que presupuesto concentrado + narrativas emocionales = éxito."
   ]
  },
  {
   "cell_type": "code",
   "execution_count": 43,
   "id": "b4c58abd",
   "metadata": {},
   "outputs": [
    {
     "name": "stdout",
     "output_type": "stream",
     "text": [
      "\n",
      "--- Top 10 Combinaciones Tipo × Categoría ---\n",
      "          type                     categoria  score_promedio  cantidad\n",
      "4        Movie             Misterio y Terror        7.111923       260\n",
      "28          TV             Misterio y Terror        7.108780       541\n",
      "26          TV      Emocionales y Humanistas        7.071696      1905\n",
      "24          TV             Acción y Aventura        6.925263      2835\n",
      "2        Movie      Emocionales y Humanistas        6.885437       778\n",
      "34  TV Special             Misterio y Terror        6.867812        96\n",
      "0        Movie             Acción y Aventura        6.864118      1309\n",
      "27          TV  Fantásticos y Experimentales        6.826810      2113\n",
      "25          TV                       Comedia        6.785540      2036\n",
      "5        Movie             Íntimos y Adultos        6.782364        55\n"
     ]
    }
   ],
   "source": [
    "# 6.6 Top 10 combinaciones Tipo × Categoría\n",
    "top_10 = score_tipo_cat.sort_values('score_promedio', ascending=False).head(10)\n",
    "\n",
    "print(\"\\n--- Top 10 Combinaciones Tipo × Categoría ---\")\n",
    "print(top_10[['type', 'categoria', 'score_promedio', 'cantidad']])"
   ]
  },
  {
   "cell_type": "markdown",
   "id": "seccion_8_outliers",
   "metadata": {},
   "source": [
    "## 🌟 8. Análisis de Outliers: Anime Excepcionales\n",
    "\n",
    "### Objetivo\n",
    "\n",
    "Identificar y analizar los **anime excepcionales** (outliers estadísticos) que se desvían significativamente del patrón general. Estos representan:\n",
    "- ✨ **Masterpieces**: Anime con scores excepcionalmente altos\n",
    "- 📉 **Fracasos**: Anime con scores excepcionalmente bajos\n",
    "- 🎯 **Patrones de éxito**: Características comunes en los anime mejor valorados\n",
    "\n",
    "### Metodología de Detección\n",
    "\n",
    "Utilizaremos el **método IQR (Rango Intercuartil)** para identificar outliers\n",
    "\n",
    "### Preguntas a Responder\n",
    "\n",
    "1. **¿Qué combinaciones Type × Categoría producen más outliers positivos?**\n",
    "2. **¿Existen patrones diferenciadores en los anime excepcionales?**\n",
    "3. **¿Cómo se distribuyen los outliers entre formatos y géneros?**\n",
    "\n",
    "---"
   ]
  },
  {
   "cell_type": "markdown",
   "id": "heatmap_outliers",
   "metadata": {},
   "source": [
    "### 8.1 Heatmap: Porcentaje de Outliers por Type × Categoría\n",
    "\n",
    "**Objetivo:** Visualizar qué combinaciones de formato y género tienen mayor proporción de **anime excepcionales** (outliers estadísticos).\n",
    "\n",
    "**Interpretación:**\n",
    "- **Colores cálidos (rojo/naranja):** Alta proporción de outliers → Combinaciones que generan anime excepcionales\n",
    "- **Colores fríos (azul):** Baja proporción de outliers → Combinaciones más predecibles\n",
    "- **Porcentaje:** Cantidad de outliers / Total de anime en esa combinación\n",
    "\n",
    "**Análisis esperado:**\n",
    "- Movies deberían tener **mayor % de outliers positivos** (masterpieces)\n",
    "- Categorías como **Acción y Aventura** o **Fantásticos y Experimentales** podrían destacar\n",
    "- ONAs probablemente tengan **bajo % de outliers** (mercado inmaduro)\n",
    "\n",
    "**Hallazgo clave:** Identificar las \"**fábricas de masterpieces**\" (combinaciones con alta proporción de scores >8.5).\n",
    "\n",
    "---"
   ]
  },
  {
   "cell_type": "code",
   "execution_count": 44,
   "id": "8a67a903",
   "metadata": {},
   "outputs": [
    {
     "data": {
      "application/vnd.plotly.v1+json": {
       "config": {
        "plotlyServerURL": "https://plot.ly"
       },
       "data": [
        {
         "coloraxis": "coloraxis",
         "hovertemplate": "Categoría: %{x}<br>Tipo: %{y}<br>% del Total: %{z}<extra></extra>",
         "name": "0",
         "texttemplate": "%{z:.1f}",
         "type": "heatmap",
         "x": [
          "Acción y Aventura",
          "Comedia",
          "Emocionales y Humanistas",
          "Fantásticos y Experimentales",
          "Misterio y Terror"
         ],
         "xaxis": "x",
         "y": [
          "Movie",
          "OVA",
          "TV",
          "TV Special"
         ],
         "yaxis": "y",
         "z": {
          "bdata": "hetRuB6FFEB7FK5H4XoEQHsUrkfhegRAhetRuB6FFEAAAAAAAAAAAAAAAAAAAAAAAAAAAAAAAAB7FK5H4XoEQHsUrkfhegRAAAAAAAAAAAAUrkfhehQ3QKRwPQrXoylApHA9CtejKUDD9Shcj4I0QIXrUbgehRRAexSuR+F6BEAAAAAAAAAAAAAAAAAAAAAAexSuR+F6BEAAAAAAAAAAAA==",
          "dtype": "f8",
          "shape": "4, 5"
         }
        }
       ],
       "layout": {
        "coloraxis": {
         "colorbar": {
          "title": {
           "text": "% del Total"
          }
         },
         "colorscale": [
          [
           0,
           "rgb(255,255,204)"
          ],
          [
           0.125,
           "rgb(255,237,160)"
          ],
          [
           0.25,
           "rgb(254,217,118)"
          ],
          [
           0.375,
           "rgb(254,178,76)"
          ],
          [
           0.5,
           "rgb(253,141,60)"
          ],
          [
           0.625,
           "rgb(252,78,42)"
          ],
          [
           0.75,
           "rgb(227,26,28)"
          ],
          [
           0.875,
           "rgb(189,0,38)"
          ],
          [
           1,
           "rgb(128,0,38)"
          ]
         ]
        },
        "height": 700,
        "template": {
         "data": {
          "bar": [
           {
            "error_x": {
             "color": "#2a3f5f"
            },
            "error_y": {
             "color": "#2a3f5f"
            },
            "marker": {
             "line": {
              "color": "#E5ECF6",
              "width": 0.5
             },
             "pattern": {
              "fillmode": "overlay",
              "size": 10,
              "solidity": 0.2
             }
            },
            "type": "bar"
           }
          ],
          "barpolar": [
           {
            "marker": {
             "line": {
              "color": "#E5ECF6",
              "width": 0.5
             },
             "pattern": {
              "fillmode": "overlay",
              "size": 10,
              "solidity": 0.2
             }
            },
            "type": "barpolar"
           }
          ],
          "carpet": [
           {
            "aaxis": {
             "endlinecolor": "#2a3f5f",
             "gridcolor": "white",
             "linecolor": "white",
             "minorgridcolor": "white",
             "startlinecolor": "#2a3f5f"
            },
            "baxis": {
             "endlinecolor": "#2a3f5f",
             "gridcolor": "white",
             "linecolor": "white",
             "minorgridcolor": "white",
             "startlinecolor": "#2a3f5f"
            },
            "type": "carpet"
           }
          ],
          "choropleth": [
           {
            "colorbar": {
             "outlinewidth": 0,
             "ticks": ""
            },
            "type": "choropleth"
           }
          ],
          "contour": [
           {
            "colorbar": {
             "outlinewidth": 0,
             "ticks": ""
            },
            "colorscale": [
             [
              0,
              "#0d0887"
             ],
             [
              0.1111111111111111,
              "#46039f"
             ],
             [
              0.2222222222222222,
              "#7201a8"
             ],
             [
              0.3333333333333333,
              "#9c179e"
             ],
             [
              0.4444444444444444,
              "#bd3786"
             ],
             [
              0.5555555555555556,
              "#d8576b"
             ],
             [
              0.6666666666666666,
              "#ed7953"
             ],
             [
              0.7777777777777778,
              "#fb9f3a"
             ],
             [
              0.8888888888888888,
              "#fdca26"
             ],
             [
              1,
              "#f0f921"
             ]
            ],
            "type": "contour"
           }
          ],
          "contourcarpet": [
           {
            "colorbar": {
             "outlinewidth": 0,
             "ticks": ""
            },
            "type": "contourcarpet"
           }
          ],
          "heatmap": [
           {
            "colorbar": {
             "outlinewidth": 0,
             "ticks": ""
            },
            "colorscale": [
             [
              0,
              "#0d0887"
             ],
             [
              0.1111111111111111,
              "#46039f"
             ],
             [
              0.2222222222222222,
              "#7201a8"
             ],
             [
              0.3333333333333333,
              "#9c179e"
             ],
             [
              0.4444444444444444,
              "#bd3786"
             ],
             [
              0.5555555555555556,
              "#d8576b"
             ],
             [
              0.6666666666666666,
              "#ed7953"
             ],
             [
              0.7777777777777778,
              "#fb9f3a"
             ],
             [
              0.8888888888888888,
              "#fdca26"
             ],
             [
              1,
              "#f0f921"
             ]
            ],
            "type": "heatmap"
           }
          ],
          "histogram": [
           {
            "marker": {
             "pattern": {
              "fillmode": "overlay",
              "size": 10,
              "solidity": 0.2
             }
            },
            "type": "histogram"
           }
          ],
          "histogram2d": [
           {
            "colorbar": {
             "outlinewidth": 0,
             "ticks": ""
            },
            "colorscale": [
             [
              0,
              "#0d0887"
             ],
             [
              0.1111111111111111,
              "#46039f"
             ],
             [
              0.2222222222222222,
              "#7201a8"
             ],
             [
              0.3333333333333333,
              "#9c179e"
             ],
             [
              0.4444444444444444,
              "#bd3786"
             ],
             [
              0.5555555555555556,
              "#d8576b"
             ],
             [
              0.6666666666666666,
              "#ed7953"
             ],
             [
              0.7777777777777778,
              "#fb9f3a"
             ],
             [
              0.8888888888888888,
              "#fdca26"
             ],
             [
              1,
              "#f0f921"
             ]
            ],
            "type": "histogram2d"
           }
          ],
          "histogram2dcontour": [
           {
            "colorbar": {
             "outlinewidth": 0,
             "ticks": ""
            },
            "colorscale": [
             [
              0,
              "#0d0887"
             ],
             [
              0.1111111111111111,
              "#46039f"
             ],
             [
              0.2222222222222222,
              "#7201a8"
             ],
             [
              0.3333333333333333,
              "#9c179e"
             ],
             [
              0.4444444444444444,
              "#bd3786"
             ],
             [
              0.5555555555555556,
              "#d8576b"
             ],
             [
              0.6666666666666666,
              "#ed7953"
             ],
             [
              0.7777777777777778,
              "#fb9f3a"
             ],
             [
              0.8888888888888888,
              "#fdca26"
             ],
             [
              1,
              "#f0f921"
             ]
            ],
            "type": "histogram2dcontour"
           }
          ],
          "mesh3d": [
           {
            "colorbar": {
             "outlinewidth": 0,
             "ticks": ""
            },
            "type": "mesh3d"
           }
          ],
          "parcoords": [
           {
            "line": {
             "colorbar": {
              "outlinewidth": 0,
              "ticks": ""
             }
            },
            "type": "parcoords"
           }
          ],
          "pie": [
           {
            "automargin": true,
            "type": "pie"
           }
          ],
          "scatter": [
           {
            "fillpattern": {
             "fillmode": "overlay",
             "size": 10,
             "solidity": 0.2
            },
            "type": "scatter"
           }
          ],
          "scatter3d": [
           {
            "line": {
             "colorbar": {
              "outlinewidth": 0,
              "ticks": ""
             }
            },
            "marker": {
             "colorbar": {
              "outlinewidth": 0,
              "ticks": ""
             }
            },
            "type": "scatter3d"
           }
          ],
          "scattercarpet": [
           {
            "marker": {
             "colorbar": {
              "outlinewidth": 0,
              "ticks": ""
             }
            },
            "type": "scattercarpet"
           }
          ],
          "scattergeo": [
           {
            "marker": {
             "colorbar": {
              "outlinewidth": 0,
              "ticks": ""
             }
            },
            "type": "scattergeo"
           }
          ],
          "scattergl": [
           {
            "marker": {
             "colorbar": {
              "outlinewidth": 0,
              "ticks": ""
             }
            },
            "type": "scattergl"
           }
          ],
          "scattermap": [
           {
            "marker": {
             "colorbar": {
              "outlinewidth": 0,
              "ticks": ""
             }
            },
            "type": "scattermap"
           }
          ],
          "scattermapbox": [
           {
            "marker": {
             "colorbar": {
              "outlinewidth": 0,
              "ticks": ""
             }
            },
            "type": "scattermapbox"
           }
          ],
          "scatterpolar": [
           {
            "marker": {
             "colorbar": {
              "outlinewidth": 0,
              "ticks": ""
             }
            },
            "type": "scatterpolar"
           }
          ],
          "scatterpolargl": [
           {
            "marker": {
             "colorbar": {
              "outlinewidth": 0,
              "ticks": ""
             }
            },
            "type": "scatterpolargl"
           }
          ],
          "scatterternary": [
           {
            "marker": {
             "colorbar": {
              "outlinewidth": 0,
              "ticks": ""
             }
            },
            "type": "scatterternary"
           }
          ],
          "surface": [
           {
            "colorbar": {
             "outlinewidth": 0,
             "ticks": ""
            },
            "colorscale": [
             [
              0,
              "#0d0887"
             ],
             [
              0.1111111111111111,
              "#46039f"
             ],
             [
              0.2222222222222222,
              "#7201a8"
             ],
             [
              0.3333333333333333,
              "#9c179e"
             ],
             [
              0.4444444444444444,
              "#bd3786"
             ],
             [
              0.5555555555555556,
              "#d8576b"
             ],
             [
              0.6666666666666666,
              "#ed7953"
             ],
             [
              0.7777777777777778,
              "#fb9f3a"
             ],
             [
              0.8888888888888888,
              "#fdca26"
             ],
             [
              1,
              "#f0f921"
             ]
            ],
            "type": "surface"
           }
          ],
          "table": [
           {
            "cells": {
             "fill": {
              "color": "#EBF0F8"
             },
             "line": {
              "color": "white"
             }
            },
            "header": {
             "fill": {
              "color": "#C8D4E3"
             },
             "line": {
              "color": "white"
             }
            },
            "type": "table"
           }
          ]
         },
         "layout": {
          "annotationdefaults": {
           "arrowcolor": "#2a3f5f",
           "arrowhead": 0,
           "arrowwidth": 1
          },
          "autotypenumbers": "strict",
          "coloraxis": {
           "colorbar": {
            "outlinewidth": 0,
            "ticks": ""
           }
          },
          "colorscale": {
           "diverging": [
            [
             0,
             "#8e0152"
            ],
            [
             0.1,
             "#c51b7d"
            ],
            [
             0.2,
             "#de77ae"
            ],
            [
             0.3,
             "#f1b6da"
            ],
            [
             0.4,
             "#fde0ef"
            ],
            [
             0.5,
             "#f7f7f7"
            ],
            [
             0.6,
             "#e6f5d0"
            ],
            [
             0.7,
             "#b8e186"
            ],
            [
             0.8,
             "#7fbc41"
            ],
            [
             0.9,
             "#4d9221"
            ],
            [
             1,
             "#276419"
            ]
           ],
           "sequential": [
            [
             0,
             "#0d0887"
            ],
            [
             0.1111111111111111,
             "#46039f"
            ],
            [
             0.2222222222222222,
             "#7201a8"
            ],
            [
             0.3333333333333333,
             "#9c179e"
            ],
            [
             0.4444444444444444,
             "#bd3786"
            ],
            [
             0.5555555555555556,
             "#d8576b"
            ],
            [
             0.6666666666666666,
             "#ed7953"
            ],
            [
             0.7777777777777778,
             "#fb9f3a"
            ],
            [
             0.8888888888888888,
             "#fdca26"
            ],
            [
             1,
             "#f0f921"
            ]
           ],
           "sequentialminus": [
            [
             0,
             "#0d0887"
            ],
            [
             0.1111111111111111,
             "#46039f"
            ],
            [
             0.2222222222222222,
             "#7201a8"
            ],
            [
             0.3333333333333333,
             "#9c179e"
            ],
            [
             0.4444444444444444,
             "#bd3786"
            ],
            [
             0.5555555555555556,
             "#d8576b"
            ],
            [
             0.6666666666666666,
             "#ed7953"
            ],
            [
             0.7777777777777778,
             "#fb9f3a"
            ],
            [
             0.8888888888888888,
             "#fdca26"
            ],
            [
             1,
             "#f0f921"
            ]
           ]
          },
          "colorway": [
           "#636efa",
           "#EF553B",
           "#00cc96",
           "#ab63fa",
           "#FFA15A",
           "#19d3f3",
           "#FF6692",
           "#B6E880",
           "#FF97FF",
           "#FECB52"
          ],
          "font": {
           "color": "#2a3f5f"
          },
          "geo": {
           "bgcolor": "white",
           "lakecolor": "white",
           "landcolor": "#E5ECF6",
           "showlakes": true,
           "showland": true,
           "subunitcolor": "white"
          },
          "hoverlabel": {
           "align": "left"
          },
          "hovermode": "closest",
          "mapbox": {
           "style": "light"
          },
          "paper_bgcolor": "white",
          "plot_bgcolor": "#E5ECF6",
          "polar": {
           "angularaxis": {
            "gridcolor": "white",
            "linecolor": "white",
            "ticks": ""
           },
           "bgcolor": "#E5ECF6",
           "radialaxis": {
            "gridcolor": "white",
            "linecolor": "white",
            "ticks": ""
           }
          },
          "scene": {
           "xaxis": {
            "backgroundcolor": "#E5ECF6",
            "gridcolor": "white",
            "gridwidth": 2,
            "linecolor": "white",
            "showbackground": true,
            "ticks": "",
            "zerolinecolor": "white"
           },
           "yaxis": {
            "backgroundcolor": "#E5ECF6",
            "gridcolor": "white",
            "gridwidth": 2,
            "linecolor": "white",
            "showbackground": true,
            "ticks": "",
            "zerolinecolor": "white"
           },
           "zaxis": {
            "backgroundcolor": "#E5ECF6",
            "gridcolor": "white",
            "gridwidth": 2,
            "linecolor": "white",
            "showbackground": true,
            "ticks": "",
            "zerolinecolor": "white"
           }
          },
          "shapedefaults": {
           "line": {
            "color": "#2a3f5f"
           }
          },
          "ternary": {
           "aaxis": {
            "gridcolor": "white",
            "linecolor": "white",
            "ticks": ""
           },
           "baxis": {
            "gridcolor": "white",
            "linecolor": "white",
            "ticks": ""
           },
           "bgcolor": "#E5ECF6",
           "caxis": {
            "gridcolor": "white",
            "linecolor": "white",
            "ticks": ""
           }
          },
          "title": {
           "x": 0.05
          },
          "xaxis": {
           "automargin": true,
           "gridcolor": "white",
           "linecolor": "white",
           "ticks": "",
           "title": {
            "standoff": 15
           },
           "zerolinecolor": "white",
           "zerolinewidth": 2
          },
          "yaxis": {
           "automargin": true,
           "gridcolor": "white",
           "linecolor": "white",
           "ticks": "",
           "title": {
            "standoff": 15
           },
           "zerolinecolor": "white",
           "zerolinewidth": 2
          }
         }
        },
        "title": {
         "text": "Distribución de Outliers: % del Total"
        },
        "xaxis": {
         "anchor": "y",
         "constrain": "domain",
         "domain": [
          0,
          1
         ],
         "scaleanchor": "y",
         "tickangle": 45,
         "title": {
          "text": "Categoría"
         }
        },
        "yaxis": {
         "anchor": "x",
         "autorange": "reversed",
         "constrain": "domain",
         "domain": [
          0,
          1
         ],
         "title": {
          "text": "Tipo"
         }
        }
       }
      }
     },
     "metadata": {},
     "output_type": "display_data"
    }
   ],
   "source": [
    "# Calcular límites IQR\n",
    "Q1 = df['score'].quantile(0.25)\n",
    "Q3 = df['score'].quantile(0.75)\n",
    "IQR = Q3 - Q1\n",
    "limite_inferior = Q1 - 1.5 * IQR\n",
    "limite_superior = Q3 + 1.5 * IQR\n",
    "\n",
    "# Identificar outliers\n",
    "df['es_outlier'] = ((df['score'] < limite_inferior) | (df['score'] > limite_superior))\n",
    "\n",
    "# Agregar al dataset expandido\n",
    "df_categorias_outliers = df_categorias.merge(df[['name', 'es_outlier']], on='name', how='left')\n",
    "\n",
    "# Filtrar outliers\n",
    "outliers_df = df_categorias_outliers[df_categorias_outliers['es_outlier'] == True]\n",
    "\n",
    "# Contar outliers por tipo y categoría\n",
    "outlier_counts = outliers_df.groupby(['type', 'categoria']).size().reset_index(name='count')\n",
    "\n",
    "# Crear tabla pivote\n",
    "pivot_frecuencia = outlier_counts.pivot(index='type', columns='categoria', values='count').fillna(0)\n",
    "\n",
    "# Calcular porcentajes\n",
    "TOTAL_OUTLIERS = len(outliers_df)\n",
    "pivot_porcentaje = (pivot_frecuencia / TOTAL_OUTLIERS * 100).round(2)\n",
    "\n",
    "# Graficar\n",
    "fig_outliers = px.imshow(\n",
    "    pivot_porcentaje,\n",
    "    labels=dict(x=\"Categoría\", y=\"Tipo\", color=\"% del Total\"),\n",
    "    title=f'Distribución de Outliers: % del Total',\n",
    "    color_continuous_scale='YlOrRd',\n",
    "    text_auto='.1f'\n",
    ")\n",
    "fig_outliers.update_layout(height=700, xaxis_tickangle=45)\n",
    "fig_outliers.show()\n"
   ]
  },
  {
   "cell_type": "markdown",
   "id": "conclusiones_hallazgos",
   "metadata": {},
   "source": [
    "---\n",
    "\n",
    "# 🎯 Conclusiones y Hallazgos Principales\n",
    "\n",
    "## Resumen Ejecutivo\n",
    "\n",
    "El análisis de 15,000 anime de MyAnimeList revela patrones claros sobre qué factores influyen en las calificaciones de usuarios.\n"
   ]
  },
  {
   "cell_type": "markdown",
   "id": "hallazgos_clave",
   "metadata": {},
   "source": [
    "## 📊 Hallazgos Clave\n",
    "\n",
    "### 1️⃣ El formato TV domina en calidad y excelencia\n",
    "\n",
    "- **Score promedio:** TV (6.87) > Movie (6.62) > OVA (6.35)\n",
    "- **Masterpieces:** 73% de los anime excepcionales (score ≥ 8.94) son series TV\n",
    "- **Insight:** El formato TV permite mejor desarrollo de personajes y narrativa compleja\n",
    "\n",
    "### 2️⃣ Las categorías tienen impactos diferenciados\n",
    "\n",
    "- **Alta calidad:** Misterio/Terror y Drama obtienen scores superiores\n",
    "- **Alto volumen:** Acción/Aventura domina el mercado (>30% del contenido)\n",
    "- **Trade-off:** Categorías populares no siempre son las mejor valoradas\n",
    "\n",
    "### 3️⃣ Las interacciones Type × Categoría son significativas\n",
    "\n",
    "- Ciertas combinaciones (TV + Misterio, Movie + Fantástico) maximizan el score\n",
    "- No es un efecto aditivo simple: la combinación importa más que los efectos individuales\n",
    "- Ejemplo: Comedia funciona mejor en TV que en Movie\n",
    "\n",
    "### 4️⃣ Los outliers siguen un patrón claro\n",
    "\n",
    "- Solo 0.1% del dataset alcanza score ≥ 8.94\n",
    "- Concentrados en: TV (73%), géneros emocionales y de misterio\n",
    "- Características comunes: alta cantidad de evaluaciones (scored_by > 500k)\n"
   ]
  },
  {
   "cell_type": "markdown",
   "id": "variables_influencia",
   "metadata": {},
   "source": [
    "## 🔍 Variables de Mayor Influencia\n",
    "\n",
    "Según el análisis de correlación y distribuciones:\n",
    "\n",
    "1. **Type (formato):** Diferencias significativas entre TV, Movie, OVA (+0.5 puntos entre extremos)\n",
    "2. **Categoría de género:** Impacto moderado pero consistente\n",
    "3. **Members & Scored_by:** Correlación positiva (0.42 y 0.38) - audiencia grande mejora score\n",
    "4. **Interacción Type×Categoría:** Efecto sinérgico detectado en análisis multivariado\n",
    "\n",
    "**Variables con bajo impacto:** Número de episodios (corr: 0.05), year de producción\n"
   ]
  },
  {
   "cell_type": "markdown",
   "id": "recomendaciones",
   "metadata": {},
   "source": [
    "---\n",
    "\n",
    "# 💡 Recomendaciones y Siguientes Pasos\n",
    "\n",
    "## Para Productores de Contenido\n"
   ]
  },
  {
   "cell_type": "markdown",
   "id": "recomendaciones_negocio",
   "metadata": {},
   "source": [
    "### 🎯 Estrategia para Maximizar Score\n",
    "\n",
    "**Alta Prioridad:**\n",
    "- ✅ Priorizar **series TV** sobre otros formatos (mayor potencial de excelencia)\n",
    "- ✅ Combinar TV con géneros de **Misterio/Terror** o **Drama** (mejor score promedio)\n",
    "- ✅ Evitar formatos cortos (OVA/ONA) para géneros que requieren desarrollo narrativo\n",
    "\n",
    "**Media Prioridad:**\n",
    "- 🔶 Para Movies: enfocarse en **Fantástico/Experimental** (mejor rendimiento)\n",
    "- 🔶 Diversificar con **Acción/Aventura** (alto volumen, audiencia asegurada)\n",
    "- 🔶 Invertir en marketing para aumentar members/scored_by (correlación positiva)\n",
    "\n",
    "**Evitar:**\n",
    "- ❌ OVA/ONA + géneros adultos (score sistemáticamente bajo)\n",
    "- ❌ Apostar por cantidad sin calidad en TV (no garantiza buen score)\n"
   ]
  },
  {
   "cell_type": "markdown",
   "id": "siguientes_pasos_analisis",
   "metadata": {},
   "source": [
    "## 🔬 Para Análisis Futuro\n",
    "\n",
    "### Siguientes Pasos Sugeridos:\n",
    "\n",
    "1. **Análisis Temporal**\n",
    "   - Evolución de preferencias por año (¿las tendencias cambian?)\n",
    "   - Impacto de la temporada de emisión (winter/spring/summer/fall)\n",
    "\n",
    "2. **Modelado Predictivo**\n",
    "   - Modelo de regresión: predecir score basado en type + categoría + features\n",
    "   - Algoritmos sugeridos: Random Forest, XGBoost, LightGBM\n",
    "   - Variables útiles identificadas: type, categoría, members, scored_by\n",
    "\n",
    "3. **Análisis de Texto**\n",
    "   - NLP en sinopsis: ¿qué palabras correlacionan con alto score?\n",
    "   - Sentiment analysis en reviews de outliers vs promedio\n",
    "\n",
    "4. **Segmentación de Audiencia**\n",
    "   - Clustering de anime por múltiples features\n",
    "   - Identificar nichos con alta satisfacción\n",
    "\n",
    "5. **Análisis de Estudio y Producción**\n",
    "   - Incorporar datos de estudio de animación\n",
    "   - Presupuesto vs score (si disponible)\n"
   ]
  },
  {
   "cell_type": "markdown",
   "id": "apendices",
   "metadata": {},
   "source": [
    "---\n",
    "\n",
    "# 📚 Apéndices y Referencias\n"
   ]
  },
  {
   "cell_type": "markdown",
   "id": "notas_metodologicas",
   "metadata": {},
   "source": [
    "## 🔬 Notas Metodológicas\n",
    "\n",
    "### Tratamiento de Outliers\n",
    "- **Método:** IQR (Interquartile Range)\n",
    "- **Criterio:** Valores > Q3 + 1.5×IQR\n",
    "- **Umbral score:** ≥ 8.94 (percentil 99.9)\n",
    "- **Decisión:** Se mantienen en el análisis (representan excelencia, no errores)\n",
    "\n",
    "### Categorización de Géneros\n",
    "Se consolidaron 43 géneros originales en 6 categorías temáticas:\n",
    "- **Acción y Aventura:** Action, Adventure, Sports, Military\n",
    "- **Fantásticos y Experimentales:** Fantasy, Sci-Fi, Mecha, Supernatural\n",
    "- **Comedia:** Comedy, Parody, Gag Humor\n",
    "- **Emocionales y Humanistas:** Drama, Romance, Slice of Life\n",
    "- **Íntimos y Adultos:** Ecchi, Hentai, Romance adulto\n",
    "- **Misterio y Terror:** Mystery, Horror, Thriller, Psychological\n",
    "\n",
    "### Criterios de Limpieza\n",
    "- Columnas con >20% nulos: eliminadas\n",
    "- Valores nulos numéricos: imputados con mediana\n",
    "- Valores nulos categóricos: imputados con moda\n",
    "- Duplicados por nombre: eliminados (se mantiene primera ocurrencia)\n"
   ]
  },
  {
   "cell_type": "markdown",
   "id": "fuentes_datos",
   "metadata": {},
   "source": [
    "## 📊 Fuentes de Datos\n",
    "\n",
    "**Dataset Principal:**\n",
    "- **Fuente:** MyAnimeList (MAL) via Kaggle\n",
    "- **Tamaño:** 15,000 anime (top por cantidad de members)\n",
    "- **Período:** 1917 - 2025\n",
    "- **Actualización:** Dataset estático (snapshot)\n",
    "- **Variables:** 24 columnas (score, type, genres, members, etc.)\n",
    "\n",
    "**Fuente Original:**\n",
    "- MyAnimeList.net - Base de datos comunitaria de anime\n",
    "- Calificaciones agregadas de usuarios registrados\n",
    "- Sistema de puntuación: 1-10 (promedio ponderado)\n",
    "\n",
    "**Nota sobre representatividad:** \n",
    "El dataset representa los anime **más populares** (top 15k por members), no una muestra aleatoria. Sesgo hacia contenido mainstream y bien valorado.\n"
   ]
  },
  {
   "cell_type": "markdown",
   "id": "herramientas",
   "metadata": {},
   "source": [
    "## 🛠️ Herramientas y Tecnologías\n",
    "\n",
    "**Lenguaje y Entorno:**\n",
    "- Python 3.11+\n",
    "- Jupyter Notebook\n",
    "\n",
    "**Librerías Principales:**\n",
    "- `pandas 2.0+` - Manipulación de datos\n",
    "- `numpy 1.24+` - Operaciones numéricas\n",
    "- `plotly 5.18+` - Visualizaciones interactivas\n",
    "- `scipy 1.12+` - Análisis estadístico\n",
    "\n",
    "**Visualizaciones:**\n",
    "- Total generadas: 12 gráficas (histogramas, boxplots, heatmaps)\n",
    "- Formato: PNG estático (compatible con GitHub)\n",
    "- Resolución: 1200×800px\n"
   ]
  },
  {
   "cell_type": "markdown",
   "id": "contacto_creditos",
   "metadata": {},
   "source": [
    "## 👤 Autor y Contacto\n",
    "\n",
    "**[Tu Nombre]**\n",
    "\n",
    "- 🔗 LinkedIn: [cindy-marin-019940297](https://www.linkedin.com/in/cindy-marin-019940297/)\n",
    "- 💻 GitHub: [@citmaes17](https://github.com/citmaes17)\n",
    "- 📧 Email: citmaes.17@gmail.com\n",
    "\n",
    "---\n",
    "\n",
    "## 📄 Licencia y Uso\n",
    "\n",
    "Este análisis es de código abierto y puede ser:\n",
    "- ✅ Usado con fines educativos\n",
    "- ✅ Compartido con atribución\n",
    "- ✅ Modificado y extendido\n",
    "\n",
    "**Citación sugerida:**\n",
    "```\n",
    "[Cindy Tatiana Marin Espinosa]. (2025). Análisis Exploratorio de Anime Dataset: \n",
    "Interacciones entre Formato y Género. GitHub Repository.\n",
    "```\n",
    "\n",
    "---\n",
    "\n",
    "## 🙏 Agradecimientos\n",
    "\n",
    "- MyAnimeList por proporcionar datos de acceso público\n",
    "- Comunidad de Kaggle por curación del dataset\n",
    "- Comunidad open-source por herramientas (pandas, plotly, scipy)\n",
    "\n",
    "---\n",
    "\n",
    "**📊 Análisis completado:** Octubre 2025  \n",
    "**⏱️ Tiempo de lectura:** 5-7 minutos  \n",
    "**🎯 Orientado a:** Reclutadores, Data Scientists, Analistas de Negocio\n",
    "\n",
    "---\n",
    "\n",
    "*Fin del Análisis Exploratorio*"
   ]
  }
 ],
 "metadata": {
  "kernelspec": {
   "display_name": "Python 3",
   "language": "python",
   "name": "python3"
  },
  "language_info": {
   "codemirror_mode": {
    "name": "ipython",
    "version": 3
   },
   "file_extension": ".py",
   "mimetype": "text/x-python",
   "name": "python",
   "nbconvert_exporter": "python",
   "pygments_lexer": "ipython3",
   "version": "3.11.9"
  }
 },
 "nbformat": 4,
 "nbformat_minor": 5
}